{
 "cells": [
  {
   "cell_type": "markdown",
   "metadata": {},
   "source": [
    "**April 17, 2014**\n",
    " \n",
    "**@author B.F. Habenicht (bfh)**\n",
    "\n",
    "\n",
    "Script to extract MO coefficients, dipole matrix, and CI coefficients from Gaussian simulation and use these to calculate the transition dipole moments between all pairs of states. these will later be used by the python script TD_CIS.py to do excited state electron dynamics in an electric field. we first find the data in the gaussian log file. we then rotate the dipole matrix into the MO basis (from AO basis) using the MO coefficient matrix. once we have this, we then can multiply the appropriate CI coefficients together and multiply those terms times the dipole matrix in the MO basis. These terms are collected and summed to calculate the transition dipole moments between states."
   ]
  },
  {
   "cell_type": "markdown",
   "metadata": {},
   "source": [
    "**Important notes**\n",
    "\n",
    "- For a CASSCF calculation with only two electrons in the active space, the subsequently determined configurations are not spin-adapted. \n",
    "\n",
    "- Having `CAS(SaveGEDensities)` in the route section means that the configurations determined by `Gaussian`'s MC-SCF subroutine are not spin-adapted any more even if the number of electrons is more than two and the reference is restricted.\n",
    "\n",
    "\\- KR, 05/17/2020"
   ]
  },
  {
   "cell_type": "code",
   "execution_count": 1,
   "metadata": {},
   "outputs": [],
   "source": [
    "import sys\n",
    "import numpy as np\n",
    "import os\n",
    "import shutil\n",
    "import re\n",
    "import time\n",
    "from gauss_hf import *"
   ]
  },
  {
   "cell_type": "markdown",
   "metadata": {},
   "source": [
    "**Defining conversion factors and parameters**"
   ]
  },
  {
   "cell_type": "code",
   "execution_count": 2,
   "metadata": {},
   "outputs": [],
   "source": [
    "# dipole moment conversion factor: 1 debye = 0.393430307 a.u.\n",
    "DtoAU = 0.39343\n",
    "AUtoD = 1./DtoAU\n",
    "\n",
    "# energy conversion factor: 1 a.u. = 27.211396 eV\n",
    "AUtoEV = 27.211396\n",
    "EVtoAU = 1./AUtoEV\n",
    "\n",
    "# define square root of 2 - bfh\n",
    "rt2 = np.sqrt(2)\n",
    "\n",
    "##===============\n",
    "#debug = 0      # my debug flag; set = 1 or 2 to print stuff - bfh\n",
    "##==============="
   ]
  },
  {
   "cell_type": "code",
   "execution_count": 3,
   "metadata": {},
   "outputs": [],
   "source": [
    "#\n",
    "# Route section for SA-CASSCF calculation using \"GDV i14+\":\n",
    "#   #P CASSCF(4,6,fulldiag,NRoot=225,StateAverage,SaveGEDensities)/sto-3g\n",
    "#      scf(tight,maxcyc=150) nosymm iop(6/8=1,3/33=3,3/36=1,4/33=3,5/33=3,\n",
    "#      6/33=3,9/33=3,5/72=-3)\n",
    "#\n",
    "# Route section for CASSCF calculation using \"GDV i14+\":\n",
    "#   #P CASSCF(4,6,fulldiag,NRoot=225,SaveGEDensities)/sto-3g\n",
    "#      scf(tight,maxcyc=150) nosymm iop(6/8=1,3/33=3,3/36=1,4/33=3,5/33=3,\n",
    "#      6/33=3,9/33=3,5/72=-3)\n",
    "#\n",
    "Logfile = 'casscf46_s224_lih_sto-3g.log'\n",
    "\n",
    "Log = Logfile.split('/')[-1].split('.')[0]\n",
    "terms = Logfile.split('/')[-1].split('_')\n",
    "\n",
    "ci_str = list(terms[0])\n",
    "# print(ci_str)\n",
    "if ci_str[1] == 'a':\n",
    "    ci = 'casscf'\n",
    "else:\n",
    "    print('not the right .LOG file for this code.')\n",
    "    quit()\n",
    "\n",
    "#specify CAS here\n",
    "cas = ''.join(ci_str[6:])\n",
    "sN = terms[-3]\n",
    "basis = terms[-1].split('.')[0]\n",
    "molecule = terms[-2]\n",
    "ext = '.'+terms[-1].split('.')[1]"
   ]
  },
  {
   "cell_type": "code",
   "execution_count": 4,
   "metadata": {},
   "outputs": [
    {
     "name": "stdout",
     "output_type": "stream",
     "text": [
      "file input: ./test_data/lih/casscf46_s224_lih_sto-3g.log\n",
      "detecting whether file exists...\n",
      "file exists.\n"
     ]
    }
   ],
   "source": [
    "debug = 1\n",
    "if debug == 1:\n",
    "    print('file input:', Logfile)\n",
    "    print('detecting whether file exists...')\n",
    "    if os.path.isfile(Logfile) == True:\n",
    "        print('file exists.')\n",
    "    elif os.path.isfile(Logfile) == False:\n",
    "        print('error: file does not exist.')\n",
    "debug = 0"
   ]
  },
  {
   "cell_type": "code",
   "execution_count": 5,
   "metadata": {},
   "outputs": [],
   "source": [
    "# read the .LOG file after copying it to 'logfile.tmp'\n",
    "outp = 'logfile.tmp'\n",
    "shutil.copy(Logfile, outp)\n",
    "\n",
    "datafile = log_data(outp)\n",
    "log_lines = datafile.loglines"
   ]
  },
  {
   "cell_type": "markdown",
   "metadata": {},
   "source": [
    "**Defining/reading parameters**"
   ]
  },
  {
   "cell_type": "code",
   "execution_count": 6,
   "metadata": {},
   "outputs": [
    {
     "name": "stdout",
     "output_type": "stream",
     "text": [
      "for \"CASSCF(NRoot=N)\" option, please make sure N is the same as the \n",
      " total no. of configurations, NStates\n",
      "\n"
     ]
    }
   ],
   "source": [
    "# read parameters from the Gaussian .LOG file of CASSCF calculation\n",
    "#  (currently works for restricted reference, minimum spin configuration only)\n",
    "#  - KR, 05/17/2020\n",
    "for (n,line) in enumerate(log_lines):\n",
    "    try:\n",
    "        NMOs = datafile.nao        # total number of basis fns/MOs with double occupancy\n",
    "        NELECT_A = datafile.n_a    # number of alpha electrons in the system\n",
    "        NELECT_B = datafile.n_b    # number of beta electrons in the system\n",
    "        NOCC = NELECT_A            # total number of occupied MOs in the reference\n",
    "        if ('NAtoms' in line):\n",
    "            elements = log_lines[n].split()\n",
    "            NAtoms = int(float(elements[1]))      # total numer of atoms in the system\n",
    "        if ('NO OF BASIS FUNCTIONS' in line):\n",
    "            elements = log_lines[n].split()\n",
    "            NStates = int(float(elements[5]))     # number of CI states/CSFs\n",
    "            print('for \"CASSCF(NRoot=N)\" option, please make sure N is the same as the \\n total no. of configurations, NStates\\n')\n",
    "        if ('NO. OF ORBITALS' in line):\n",
    "            elements = log_lines[n].split('=')\n",
    "            NCAS = int(float(elements[1]))        # number of doubly occupied MOs in the active space\n",
    "        if ('NO. OF ELECTRONS' in line):\n",
    "            elements = log_lines[n].split('=')\n",
    "            NELECT = int(float(elements[1]))      # total number of electrons in the active space\n",
    "            if ((NELECT % 2) == 1):\n",
    "                NELECT_CAS_A = int((NELECT-1)/2)\n",
    "                NELECT_CAS_A += 1                 # number of alpha electrons in the active space\n",
    "                NELECT_CAS_B = NELECT - NELECT_CAS_A\n",
    "            else:\n",
    "                NELECT_CAS_A = int(NELECT/2)\n",
    "                NELECT_CAS_B = NELECT_CAS_A\n",
    "            NFRZ = NELECT_A - NELECT_CAS_A        # number of doubly occupied MOs outside of the active space\n",
    "    except (ValueError, IndexError, TypeError, NameError):\n",
    "        print('Error encountered while reading parameters. Assigning them manually...')\n",
    "        if (molecule == 'sys1_h'):\n",
    "            NMOs=34\n",
    "            NCAS=3\n",
    "            NFRZ=18\n",
    "            NOCC=NCAS + NFRZ\n",
    "            NELECT=4\n",
    "            NAtoms=14\n",
    "            NStates = 9\n",
    "        elif (molecule == 'lih'):\n",
    "            NMOs=6\n",
    "            NCAS=6\n",
    "            NFRZ=0\n",
    "            NOCC=NCAS + NFRZ\n",
    "            NELECT=4\n",
    "            NAtoms=2\n",
    "            NStates = 225\n",
    "        break"
   ]
  },
  {
   "cell_type": "code",
   "execution_count": 7,
   "metadata": {},
   "outputs": [
    {
     "name": "stdout",
     "output_type": "stream",
     "text": [
      "NMOs \t= 6\n",
      "NCAS \t= 6\n",
      "NFRZ \t= 0\n",
      "NOCC \t= 2\n",
      "NELECT \t= 4\n",
      "NAtoms \t= 2\n",
      "NStates = 225\n"
     ]
    }
   ],
   "source": [
    "debug = 2\n",
    "if debug == 1:\n",
    "    print('CAS({},{}) calculation...'.format(NELECT, NCAS))\n",
    "    print('total no. of MOs with double occupancy:\\t\\t {}'.format(NMOs))\n",
    "    print('no. of occupied MOs with frozen configuration:\\t {}'.format(NFRZ))\n",
    "    print('total no. of occupied MOs:\\t\\t\\t {}'.format(NOCC))\n",
    "    print('total no. of atoms in the system:\\t\\t {}'.format(NAtoms))\n",
    "    print('total no. of determinants in the system:\\t {}'.format(NStates))\n",
    "elif debug == 2:\n",
    "    print('NMOs \\t= {}'.format(NMOs))\n",
    "    print('NCAS \\t= {}'.format(NCAS))\n",
    "    print('NFRZ \\t= {}'.format(NFRZ))\n",
    "    print('NOCC \\t= {}'.format(NOCC))\n",
    "    print('NELECT \\t= {}'.format(NELECT))\n",
    "    print('NAtoms \\t= {}'.format(NAtoms))\n",
    "    print('NStates = {}'.format(NStates))\n",
    "debug = 0"
   ]
  },
  {
   "cell_type": "markdown",
   "metadata": {},
   "source": [
    "**Reading nuclear dipole moments**"
   ]
  },
  {
   "cell_type": "code",
   "execution_count": 8,
   "metadata": {},
   "outputs": [],
   "source": [
    "# reading nuclear dipole moments from .LOG file\n",
    "for (n,line) in enumerate(log_lines):\n",
    "    try:\n",
    "        if ('Nuclear    moments (au)' in line):\n",
    "            elements = log_lines[n+1].split()\n",
    "            nuc_dipx = float(elements[1])      # nuclear dipole moment along x-axis of the system in the input\n",
    "            nuc_dipy = float(elements[2])      # nuclear dipole moment along y-axis of the system in the input\n",
    "            nuc_dipz = float(elements[3])      # nuclear dipole moment along z-axis of the system in the input\n",
    "            nuc_dipx *= AUtoD\n",
    "            nuc_dipy *= AUtoD\n",
    "            nuc_dipz *= AUtoD\n",
    "    except (ValueError, TypeError, NameError):\n",
    "        print('Error encountered. Assigning nuclear dipole moments manually...')\n",
    "        if (molecule == 'lih'):\n",
    "            nuc_dipx=0.0\n",
    "            nuc_dipy=0.0\n",
    "            nuc_dipz=2.89128097\n",
    "        elif (molecule == 'sys1_h'):\n",
    "            nuc_dipx=0.0\n",
    "            nuc_dipy=0.0\n",
    "            nuc_dipz=0.0\n",
    "        break"
   ]
  },
  {
   "cell_type": "code",
   "execution_count": 9,
   "metadata": {},
   "outputs": [],
   "source": [
    "debug = 0\n",
    "if debug == 1:\n",
    "    print('Nuclear dipole moment along-')\n",
    "    print('{}-axis: {:3.2f} D ({:3.4f} a.u.)'.format('x',nuc_dipx,nuc_dipx*DtoAU))\n",
    "    print('{}-axis: {:3.2f} D ({:3.4f} a.u.)'.format('y',nuc_dipy,nuc_dipy*DtoAU))\n",
    "    print('{}-axis: {:3.2f} D ({:3.4f} a.u.)'.format('z',nuc_dipz,nuc_dipz*DtoAU))\n",
    "debug = 0"
   ]
  },
  {
   "cell_type": "markdown",
   "metadata": {},
   "source": [
    "**Reading dipole moment matrices represented in the AO basis**"
   ]
  },
  {
   "cell_type": "code",
   "execution_count": 10,
   "metadata": {},
   "outputs": [],
   "source": [
    "dipX = datafile.get_dipole_x_AO()\n",
    "dipY = datafile.get_dipole_y_AO()\n",
    "dipY = datafile.get_dipole_z_AO()"
   ]
  },
  {
   "cell_type": "code",
   "execution_count": 13,
   "metadata": {},
   "outputs": [],
   "source": [
    "# debugging (following code by bfh)\n",
    "debug = 0\n",
    "if debug == 1:\n",
    "    print('Dipole X')\n",
    "    for i in range(NMOs):\n",
    "        for j in range(NMOs):\n",
    "            print(\"%d  %d  %f\" % (i,j, dipX[i,j]))\n",
    "    print('Dipole Y')\n",
    "    for i in range(NMOs):\n",
    "        for j in range(NMOs):\n",
    "            print(\"%d  %d  %f\" % (i,j, dipY[i,j]))\n",
    "    print('Dipole Z')\n",
    "    for i in range(NMOs):\n",
    "        for j in range(NMOs):\n",
    "            print(\"%d  %d  %f\" % (i,j, dipZ[i,j]))\n",
    "debug = 0"
   ]
  },
  {
   "cell_type": "markdown",
   "metadata": {},
   "source": [
    "**Reading MO coefficients as column-vectors**"
   ]
  },
  {
   "cell_type": "code",
   "execution_count": 14,
   "metadata": {},
   "outputs": [],
   "source": [
    "# specific to CASSCF calculation\n",
    "MO = np.zeros([NMOs,NMOs], np.float64)\n",
    "\n",
    "line_num = []\n",
    "for (n, line) in enumerate(log_lines):\n",
    "    try:\n",
    "        if ('FINAL COEFFICIENT MATRIX' in line):\n",
    "            line_num.append(n)\n",
    "    except (IndexError, ValueError):\n",
    "        pass\n",
    "\n",
    "count = -1\n",
    "nline = line_num[count]\n",
    "loops = int(NMOs / 10) + 1\n",
    "last = NMOs % 10\n",
    "for i in range(NMOs):\n",
    "    for k in range(loops):\n",
    "        try:\n",
    "            if (k == (loops - 1)):\n",
    "                end = last\n",
    "            else:\n",
    "                end = 10\n",
    "            dum1 = nline+1+i*(1+loops)+(k+1)\n",
    "            elements=log_lines[dum1].split()\n",
    "            for j in range(end):\n",
    "                s = k*10 + j\n",
    "                m = i\n",
    "                MO[s,m] = float(elements[j])\n",
    "        except (IndexError, ValueError):\n",
    "            break"
   ]
  },
  {
   "cell_type": "code",
   "execution_count": 15,
   "metadata": {
    "scrolled": true
   },
   "outputs": [],
   "source": [
    "debug = 0\n",
    "if debug == 1:\n",
    "    print('MO coefficients (column-vectors)')\n",
    "    print(MO)\n",
    "debug = 0"
   ]
  },
  {
   "cell_type": "code",
   "execution_count": 16,
   "metadata": {},
   "outputs": [],
   "source": [
    "# seems that this block of code is unnecessary - KR\n",
    "\n",
    "## need to truncate MOs so only those in occupied space (NOCC) have values - bfh\n",
    "#\n",
    "#if (NOCC < NMOs):\n",
    "#    for i in range(NOCC,NMOs):\n",
    "#        for j in range(NOCC,NMOs):\n",
    "#            MO[i][j] = 0.0\n",
    "#            MO[j][i] = 0.0\n",
    "#            dipX[i][j] = 0.0\n",
    "#            dipX[j][i] = 0.0\n",
    "#            dipY[i][j] = 0.0\n",
    "#            dipY[j][i] = 0.0\n",
    "#            dipZ[i][j] = 0.0\n",
    "#            dipZ[j][i] = 0.0"
   ]
  },
  {
   "cell_type": "markdown",
   "metadata": {},
   "source": [
    "**Transforming the dipole moment matrices from AO basis to MO basis**\n",
    "\n",
    "*(Not necessary for the current method which works entirely within the AO basis)*"
   ]
  },
  {
   "cell_type": "code",
   "execution_count": 17,
   "metadata": {},
   "outputs": [],
   "source": [
    "dipXMO = MO.T.dot(dipX).dot(MO)\n",
    "dipYMO = MO.T.dot(dipY).dot(MO)\n",
    "dipZMO = MO.T.dot(dipZ).dot(MO)"
   ]
  },
  {
   "cell_type": "code",
   "execution_count": 18,
   "metadata": {},
   "outputs": [],
   "source": [
    "debug = 0\n",
    "if (debug == 2):\n",
    "    print('MO Dipole:')\n",
    "    print('x:\\n',dipXMO)\n",
    "    print('y:\\n',dipYMO)\n",
    "    print('z:\\n',dipZMO)\n",
    "debug = 0"
   ]
  },
  {
   "cell_type": "markdown",
   "metadata": {},
   "source": [
    "**Determining the dimensions of the matrix of CI vectors**\n",
    "\n",
    "**NOTE**: The CASSCF vectors will be arranged in a square matrix of dimensions $(M \\times M)$, where $M$=`NStates`, in the current case."
   ]
  },
  {
   "cell_type": "code",
   "execution_count": 19,
   "metadata": {},
   "outputs": [],
   "source": [
    "# specific to CASSCF calculation\n",
    "M = NStates\n",
    "N = M"
   ]
  },
  {
   "cell_type": "markdown",
   "metadata": {},
   "source": [
    "**Reading CI coefficients and energies**"
   ]
  },
  {
   "cell_type": "code",
   "execution_count": 20,
   "metadata": {},
   "outputs": [],
   "source": [
    "# specific to CASSCF calculation\n",
    "CI_vect = np.zeros([M,N], np.float64)\n",
    "CI_E = np.zeros([M], np.float64)\n",
    "\n",
    "line_num = []\n",
    "for (n, line) in enumerate(log_lines):\n",
    "    if ('FINAL EIGENVALUES ANE EIGENVECTOR' in line):\n",
    "        line_num.append(n)\n",
    "\n",
    "count = -1\n",
    "nline = line_num[count]\n",
    "loops = int(M / 5) + 1\n",
    "last = M % 5\n",
    "shift = 0\n",
    "for i in range(M):\n",
    "    try:\n",
    "        for k in range(loops):\n",
    "            try:\n",
    "                if (k == (loops - 1)):\n",
    "                    end = last\n",
    "                else:\n",
    "                    end = 5\n",
    "                dum1 = nline+4+i*(loops)+k+shift\n",
    "                elements=log_lines[dum1].split()\n",
    "                if (k == 0):\n",
    "                    CI_E[i] = float(elements[1])\n",
    "                    for j in range(end):\n",
    "                        s = j + 2\n",
    "                        CI_vect[i,j] = float(elements[s])\n",
    "                else:\n",
    "                    for j in range(end):\n",
    "                        s = 5*k + j\n",
    "                        CI_vect[i,s] = float(elements[j])\n",
    "                if (loops < 2):\n",
    "                    shift += 1\n",
    "            except (IndexError):\n",
    "                break\n",
    "    except (IndexError):\n",
    "        raise(IndexError)\n",
    "        break"
   ]
  },
  {
   "cell_type": "code",
   "execution_count": 21,
   "metadata": {},
   "outputs": [],
   "source": [
    "debug = 0\n",
    "if debug == 1:\n",
    "    print('# CI states = ',len(CI_E))\n",
    "    print('CI Eigenvalues:')\n",
    "    print(CI_E[:])\n",
    "elif debug == 2:\n",
    "    print(CI_vect.shape)\n",
    "    print('CI Eigenvalues and Eigenvectors:')\n",
    "    for i in range(M):\n",
    "        print(i+1, CI_E[i])\n",
    "        print(CI_vect[i,:])\n",
    "debug = 0"
   ]
  },
  {
   "cell_type": "markdown",
   "metadata": {},
   "source": [
    "**Reading MO configurations for each determinant in the basis**\n",
    "\n",
    "**NOTE**: The occupation numbers (which is what comprises the \"MO configurations\") are calculated as a sum of weighted occupations of each orbital in the active space, the weights corresponding to the norm-squared of the CI coefficients."
   ]
  },
  {
   "cell_type": "code",
   "execution_count": 22,
   "metadata": {},
   "outputs": [],
   "source": [
    "# specific to CASSCF calculation\n",
    "\n",
    "# initialize arrays to read and analyze MO configuration for each configuration - bfh\n",
    "tmp = np.zeros((M), dtype='object')\n",
    "config_int = np.zeros((M,NCAS), dtype='object')\n",
    "\n",
    "for (n, line) in enumerate(log_lines):\n",
    "    if ('BOTTOM WEIGHT' in line):\n",
    "        for i in range(M):\n",
    "            elements = log_lines[n+i+1].split()\n",
    "            tmp = list(elements[4])\n",
    "            for j in range(NCAS):\n",
    "                if (tmp[j] == '1'):\n",
    "                    tmp[j] = '2'\n",
    "                if (tmp[j] == 'a' or tmp[j] == 'b'):\n",
    "                    tmp[j] = '1'\n",
    "                config_int[i,j] = int(tmp[j])\n",
    "\n",
    "config = np.zeros((M,NCAS), np.float64)\n",
    "\n",
    "for i in range(M):\n",
    "    for k in range(NCAS):\n",
    "        sum = 0\n",
    "        for j in range(N):\n",
    "            occ_coef = CI_vect[i,j]*np.conjugate(CI_vect[i,j])\n",
    "            #\n",
    "            # WARNING: this works for spin-unadapted configurations ONLY!!\n",
    "            #\n",
    "            sum += config_int[j,k]*occ_coef\n",
    "        config[i,k] = sum"
   ]
  },
  {
   "cell_type": "code",
   "execution_count": 24,
   "metadata": {},
   "outputs": [],
   "source": [
    "debug = 0\n",
    "if (debug == 1):\n",
    "    print('CAS configurations:')\n",
    "    for i in range(NStates):\n",
    "        print('CI state {}   '.format(i+1))\n",
    "        for j in range(NCAS):\n",
    "            if (j == (NCAS - 1)):\n",
    "                print(config[i,j],end='\\n')\n",
    "            else:\n",
    "                print(config[i,j],end='\\t')\n",
    "elif (debug == 2):\n",
    "    print('CAS configurations and multiplicities:')\n",
    "    for i in range(NStates):\n",
    "        print('CI state {}   (multiplicity = {})   '.format(i+1,multi[i]))\n",
    "        for j in range(NCAS):\n",
    "            if (j == (NCAS - 1)):\n",
    "                print(config[i,j],end='\\n')\n",
    "            else:\n",
    "                print(config[i,j],end='\\t')    \n",
    "debug = 0"
   ]
  },
  {
   "cell_type": "markdown",
   "metadata": {},
   "source": [
    "**Calculating electric dipole moment matrix in the CI state basis**\n",
    "\n",
    "**NOTE**: The formula used for this is: $\\boldsymbol{\\mu}_\\text{CI}^{i} = \\text{tr}(\\textbf{P}_\\text{CI}^\\text{AO} \\boldsymbol{\\mu}_\\text{AO}^{i})$, where, $i \\in \\{x, y, z\\}$"
   ]
  },
  {
   "cell_type": "code",
   "execution_count": null,
   "metadata": {},
   "outputs": [],
   "source": []
  },
  {
   "cell_type": "code",
   "execution_count": 25,
   "metadata": {},
   "outputs": [
    {
     "name": "stdout",
     "output_type": "stream",
     "text": [
      "ground to excited state transitions...\n"
     ]
    }
   ],
   "source": [
    "# specific to CASSCF calculation\n",
    "#\n",
    "# calculating transition dipole moments b/w CASSCF ground state\n",
    "#   and excited states\n",
    "#\n",
    "dipXCI = np.zeros([M,M], np.float64)\n",
    "dipYCI = np.zeros([M,M], np.float64)\n",
    "dipZCI = np.zeros([M,M], np.float64)\n",
    "\n",
    "densCI_AO_a = np.zeros([NMOs,NMOs], np.float64)\n",
    "densCI_AO_b = np.zeros([NMOs,NMOs], np.float64)\n",
    "\n",
    "print('ground to excited state transitions...')\n",
    "\n",
    "last = NMOs % 5\n",
    "if (last == 0):\n",
    "    loops = int(NMOs / 5)\n",
    "else:\n",
    "    loops = int(NMOs / 5) + 1\n",
    "if (NCAS % 5 == 0):\n",
    "    loops_cas = int(NCAS / 5)\n",
    "else:\n",
    "    loops_cas = int(NCAS / 5) + 1\n",
    "skip_lines = loops_cas\n",
    "for i in range(loops_cas):\n",
    "    skip_lines += NCAS - 5*i\n",
    "for (n,line) in enumerate(log_lines):\n",
    "    if ('1st state is' in line):\n",
    "        st1 = int(float(log_lines[n].split()[-1])) - 1\n",
    "        st2 = int(float(log_lines[n+1].split()[-1])) - 1\n",
    "        elements = log_lines[n+2]\n",
    "        if ('MO Ground to excited state density' in log_lines[n+2]):\n",
    "            # read the alpha and beta transition densities in AO basis\n",
    "            AOdensline_a = n+2*(loops_cas+1)+2*skip_lines\n",
    "            for k in range(loops):\n",
    "                for i in range(NMOs):\n",
    "                    try:\n",
    "                        if (k == (loops - 1)):\n",
    "                            end = last\n",
    "                        else:\n",
    "                            end = 5\n",
    "                        dum1 = AOdensline_a+k*(1+NMOs)+i+2\n",
    "                        dum2 = dum1+1+loops*(NMOs+1)\n",
    "                        elements_a = log_lines[dum1].split()\n",
    "                        elements_b = log_lines[dum2].split()\n",
    "                        for j in range(end):\n",
    "                            s = k*5 + j\n",
    "                            m = i\n",
    "                            densCI_AO_a[m,s] = float(elements_a[j+1])\n",
    "                            densCI_AO_b[m,s] = float(elements_b[j+1])\n",
    "                    except (IndexError, ValueError):\n",
    "                        pass\n",
    "            densCI_AO = densCI_AO_a + densCI_AO_b\n",
    "            dipXCI[st1,st2] = -1*np.trace(np.matmul(densCI_AO,dipX))\n",
    "            dipXCI[st2,st1] = dipXCI[st1,st2]\n",
    "            dipYCI[st1,st2] = -1*np.trace(np.matmul(densCI_AO,dipY))\n",
    "            dipYCI[st2,st1] = dipYCI[st1,st2]\n",
    "            dipZCI[st1,st2] = -1*np.trace(np.matmul(densCI_AO,dipZ))\n",
    "            dipZCI[st2,st1] = dipZCI[st1,st2]\n",
    "            dens_file = 'dens_ci_'+str(st1)+'_'+str(st2)+'.npz'\n",
    "            np.savez(dens_file, densCI_AO)"
   ]
  },
  {
   "cell_type": "code",
   "execution_count": 26,
   "metadata": {},
   "outputs": [
    {
     "name": "stdout",
     "output_type": "stream",
     "text": [
      "excited to excited state transitions...\n"
     ]
    }
   ],
   "source": [
    "#\n",
    "# calculating transition dipole moments b/w CASSCF excited states\n",
    "#\n",
    "\n",
    "print('excited to excited state transitions...')\n",
    "\n",
    "for (n,line) in enumerate(log_lines):\n",
    "    if ('Alpha transition density between states' in line):\n",
    "        elements = log_lines[n].split(':')[0].split()\n",
    "        st1 = int(float(elements[-1])) - 1\n",
    "        st2 = int(float(elements[-2])) - 1\n",
    "        densCI_AO_a = np.zeros([NMOs,NMOs], np.float64)\n",
    "        densCI_AO_b = np.zeros([NMOs,NMOs], np.float64)\n",
    "        for k in range(loops):\n",
    "            for i in range(NMOs):\n",
    "                try:\n",
    "                    if (k == (loops - 1)):\n",
    "                        end = last\n",
    "                    else:\n",
    "                        end = 5\n",
    "                    dum1 = n+2+k*(1+NMOs)+i\n",
    "                    dum2 = dum1+1+loops*(NMOs+1)\n",
    "                    elements_a = log_lines[dum1].split()\n",
    "                    elements_b = log_lines[dum2].split()\n",
    "                    for j in range(end):\n",
    "                        s = k*5 + j\n",
    "                        m = i\n",
    "                        densCI_AO_a[m,s] = float(elements_a[j+1])\n",
    "                        densCI_AO_b[m,s] = float(elements_b[j+1])\n",
    "                except (IndexError, ValueError):\n",
    "                    break\n",
    "        densCI_AO = densCI_AO_a + densCI_AO_b\n",
    "        dipXCI[st1,st2] = -1*np.trace(np.matmul(densCI_AO,dipX))\n",
    "        dipXCI[st2,st1] = dipXCI[st1,st2]\n",
    "        dipYCI[st1,st2] = -1*np.trace(np.matmul(densCI_AO,dipY))\n",
    "        dipYCI[st2,st1] = dipYCI[st1,st2]\n",
    "        dipZCI[st1,st2] = -1*np.trace(np.matmul(densCI_AO,dipZ))\n",
    "        dipZCI[st2,st1] = dipZCI[st1,st2]\n",
    "        dens_file = 'dens_ci_'+str(st1)+'_'+str(st2)+'.npz'\n",
    "        np.savez(dens_file, densCI_AO)"
   ]
  },
  {
   "cell_type": "code",
   "execution_count": 27,
   "metadata": {},
   "outputs": [
    {
     "name": "stdout",
     "output_type": "stream",
     "text": [
      "stationary states...\n"
     ]
    }
   ],
   "source": [
    "#\n",
    "# calculating state dipole moments of all CASSCF states\n",
    "#\n",
    "\n",
    "print('stationary states...')\n",
    "\n",
    "for (n,line) in enumerate(log_lines):\n",
    "    if ('1st state is' in line):\n",
    "        st1 = int(float(log_lines[n].split()[-1])) - 1\n",
    "        st2 = int(float(log_lines[n+1].split()[-1])) - 1\n",
    "        if (st1 == st2):\n",
    "            elements = log_lines[n+2]\n",
    "            if ('MO valence' in log_lines[n+2]):\n",
    "                densCI_AO_a = np.zeros([NMOs,NMOs], np.float64)\n",
    "                shift = 0\n",
    "                # read the alpha state densities in AO basis\n",
    "                AOdensline_a = n+2*(loops_cas+1)+2*skip_lines\n",
    "                for k in range(loops):\n",
    "                    try:\n",
    "                        irange = NMOs - k*5\n",
    "                        for i in range(irange):\n",
    "                            if (k == (loops - 1)):\n",
    "                                if (i < last):\n",
    "                                    end = i + 1\n",
    "                                else:\n",
    "                                    end = last\n",
    "                            else:\n",
    "                                if (i <= 4):\n",
    "                                    end = i + 1\n",
    "                                else:\n",
    "                                    end = 5\n",
    "                            dum1 = AOdensline_a+k+shift+i+2\n",
    "                            elements=log_lines[dum1].split()\n",
    "                            for j in range(end):\n",
    "                                s = k*5 + j\n",
    "                                m = i + k*5\n",
    "                                densCI_AO_a[m,s] = float(elements[j+1])\n",
    "                                if (i != j):\n",
    "                                    densCI_AO_a[s,m] = densCI_AO_a[m,s]\n",
    "                        shift += irange\n",
    "                    except (IndexError, ValueError):\n",
    "                        break\n",
    "                densCI_AO = 2*densCI_AO_a\n",
    "                dipXCI[st1,st1] = -1*np.trace(np.matmul(densCI_AO,dipX))\n",
    "                dipYCI[st1,st1] = -1*np.trace(np.matmul(densCI_AO,dipY))\n",
    "                dipZCI[st1,st1] = -1*np.trace(np.matmul(densCI_AO,dipZ))\n",
    "                dens_file = 'dens_ci_'+str(st1)+'_'+str(st2)+'.npz'\n",
    "                np.savez(dens_file, densCI_AO)"
   ]
  },
  {
   "cell_type": "code",
   "execution_count": 28,
   "metadata": {
    "scrolled": true
   },
   "outputs": [],
   "source": [
    "debug = 0\n",
    "if debug == 1:\n",
    "    print('Total number of allowed states for electric dipole transition from the ground state:\\n')\n",
    "    print(len(spin_allowed) - 1)\n",
    "elif debug == 2:\n",
    "    print('Total number of spin-allowed (singlet) states for transition from the ground state:\\n')\n",
    "    print(len(spin_allowed[1:]))\n",
    "    print('Spin-allowed excited states:\\n')\n",
    "    print(spin_allowed[1:])\n",
    "elif debug == 3:\n",
    "    print('CI dipole moment matrices (a.u.):')\n",
    "    print('along x-axis:\\n', dipXCI)\n",
    "    print('along y-axis:\\n', dipYCI)\n",
    "    print('along z-axis:\\n', dipZCI)\n",
    "elif debug == 4:\n",
    "    for i in range(NStates):\n",
    "        print('dipole moment (z) of CI state {}  = {} a.u.  '.format(i+1, dipZCI[i,i]))\n",
    "debug = 0"
   ]
  },
  {
   "cell_type": "markdown",
   "metadata": {},
   "source": [
    "**Writing read and computed CI data to `tdm_tdcis.txt` for TDCI calculation** "
   ]
  },
  {
   "cell_type": "code",
   "execution_count": 29,
   "metadata": {},
   "outputs": [
    {
     "data": {
      "text/plain": [
       "2"
      ]
     },
     "execution_count": 29,
     "metadata": {},
     "output_type": "execute_result"
    }
   ],
   "source": [
    "# this part is written by bfh and is mostly unchanged\n",
    "\n",
    "# have now calculated the Transition dipole moments. time to get atom coordinates and dump data\n",
    "#  to file so TD_CIS.py can read it in. - bfh\n",
    "\n",
    "outname = 'tdm_tdci.txt' # name of the output file, to be read by TDCI script\n",
    "\n",
    "tdm = open(outname, 'w')\n",
    "tdm.write('===========================================================================================\\n')\n",
    "tdm.write('  This file contains the information one needs to run a time-dependent CASSCF simulation.  \\n')\n",
    "tdm.write('===========================================================================================\\n')\n",
    "tdm.write('An initial Gaussian calculation was used to calculate the CI eigenvalues and eigenvectors  \\n')\n",
    "tdm.write('as well as the CI state configurations. The program calc_tdm.py was then used to calculate \\n')\n",
    "tdm.write('the transition dipole moments between the CI states as well as the project of the CI states\\n')\n",
    "tdm.write('onto the molecular orbitals. This file was generated by calc_tdm.py as input to TD_CIS.py. \\n')\n",
    "tdm.write(' -BFH 9 May 2014                                                                           \\n')\n",
    "\n",
    "tdm.write('\\n\\n')"
   ]
  },
  {
   "cell_type": "code",
   "execution_count": 30,
   "metadata": {},
   "outputs": [
    {
     "data": {
      "text/plain": [
       "2"
      ]
     },
     "execution_count": 30,
     "metadata": {},
     "output_type": "execute_result"
    }
   ],
   "source": [
    "# parameters for the TDCI script\n",
    "\n",
    "tdm.write('CI calculation parameters\\n\\n')\n",
    "tdm.write(' title   = {}\\n'.format(mol+'_'+basis))\n",
    "tdm.write(' method  = {}\\n'.format(ci))\n",
    "tdm.write(' NMOs    = {}\\n'.format(NMOs))\n",
    "tdm.write(' NCAS    = {}\\n'.format(NCAS))\n",
    "tdm.write(' NFRZ    = {}\\n'.format(NFRZ))\n",
    "tdm.write(' NOCC    = {}\\n'.format(NOCC))\n",
    "tdm.write(' NELECT  = {}\\n'.format(NELECT))\n",
    "tdm.write(' NAtoms  = {}\\n'.format(NAtoms))\n",
    "tdm.write(' NStates = {}\\n'.format(NStates))\n",
    "\n",
    "tdm.write('\\n\\n')"
   ]
  },
  {
   "cell_type": "code",
   "execution_count": 31,
   "metadata": {},
   "outputs": [
    {
     "data": {
      "text/plain": [
       "2"
      ]
     },
     "execution_count": 31,
     "metadata": {},
     "output_type": "execute_result"
    }
   ],
   "source": [
    "tdm.write('Nuclear dipole moments (a.u.) \\n\\n')\n",
    "tdm.write(' x = {: 4.3f} \\n'.format(nuc_dipx*DtoAU))\n",
    "tdm.write(' y = {: 4.3f} \\n'.format(nuc_dipy*DtoAU))\n",
    "tdm.write(' z = {: 4.3f} \\n'.format(nuc_dipz*DtoAU))\n",
    "\n",
    "tdm.write('\\n\\n')"
   ]
  },
  {
   "cell_type": "code",
   "execution_count": 32,
   "metadata": {},
   "outputs": [
    {
     "data": {
      "text/plain": [
       "2"
      ]
     },
     "execution_count": 32,
     "metadata": {},
     "output_type": "execute_result"
    }
   ],
   "source": [
    "tdm.write('Setting up the atomic coordinates \\n\\n')\n",
    "tdm.write(' Standard orientation: \\n')\n",
    "tdm.write(' ------------------------------------------------------------------- \\n')\n",
    "tdm.write(' Center   Atomic     Atomic            Coordinates (Angstroms)       \\n')\n",
    "tdm.write(' Number   Number      Type            X            Y          Z      \\n')\n",
    "tdm.write(' ------------------------------------------------------------------- \\n')\n",
    "\n",
    "\n",
    "coords = np.zeros([NAtoms,3], np.float64)\n",
    "atom_info = np.zeros([NAtoms,3], np.float64)\n",
    "\n",
    "for (n, line) in enumerate(log_lines):\n",
    "    if (' Standard basis:' in line):\n",
    "        for i in range(NAtoms):\n",
    "            elements = log_lines[n + i + 6].split()\n",
    "            atom_info[i,0] = float(elements[0])\n",
    "            atom_info[i,1] = float(elements[1])\n",
    "            atom_info[i,2] = float(elements[2])\n",
    "            coords[i,0] = float(elements[3])\n",
    "            coords[i,1] = float(elements[4])\n",
    "            coords[i,2] = float(elements[5])\n",
    "            tdm.write('  %-10s %-10s %-10s %-10s %-10s %-10s' % (atom_info[i][0], atom_info[i][1], atom_info[i][2], coords[i][0], coords[i][1], coords[i][2]) + \"\\n\")\n",
    "\n",
    "tdm.write('\\n\\n')"
   ]
  },
  {
   "cell_type": "code",
   "execution_count": 33,
   "metadata": {},
   "outputs": [
    {
     "data": {
      "text/plain": [
       "2"
      ]
     },
     "execution_count": 33,
     "metadata": {},
     "output_type": "execute_result"
    }
   ],
   "source": [
    "# input SCF energy- assume energy of first NState - bfh\n",
    "\n",
    "tdm.write('SCF Energy \\n\\n')\n",
    "tdm.write(' SCF Done: E(RHF) = ' + str(CI_E[0]) + '  Ha \\n')\n",
    "\n",
    "tdm.write('\\n\\n')\n",
    "\n",
    "# Excited State energies - bfh\n",
    "\n",
    "tdm.write('Excited state energies (eV) \\n')\n",
    "tdm.write('\\n')\n",
    "for i in range(1,NStates):\n",
    "    prt_E = (CI_E[i] - CI_E[0])*AUtoEV\n",
    "    tdm.write(' Excited State {:3d} \\t {:4.6f}\\n'.format(i, prt_E))\n",
    "\n",
    "tdm.write('\\n\\n')"
   ]
  },
  {
   "cell_type": "code",
   "execution_count": 34,
   "metadata": {},
   "outputs": [
    {
     "data": {
      "text/plain": [
       "2"
      ]
     },
     "execution_count": 34,
     "metadata": {},
     "output_type": "execute_result"
    }
   ],
   "source": [
    "# CI electric dipole moments - bfh\n",
    "\n",
    "tdm.write('CI electric dipole moments (a.u.) \\n\\n')\n",
    "tdm.write(' CI state and transition dipole moments\\n')\n",
    "tdm.write(' state I  state J \\t      X \\t      Y \\t      Z \\t Dip. S.  Osc.\\n' )\n",
    "for i in range(NStates):\n",
    "    for j in range(NStates):\n",
    "        tdm.write('   {} \\t    {} \\t\\t  {:3.7f}  \\t  {:3.7f}  \\t  {:3.7f}  \\t  {}  \\t  {}\\n'.format(i, j, dipXCI[j,i], dipYCI[j,i], dipZCI[j,i], 0.0, 0.0))\n",
    "\n",
    "tdm.write('\\n\\n')"
   ]
  },
  {
   "cell_type": "code",
   "execution_count": 35,
   "metadata": {},
   "outputs": [],
   "source": [
    "# Finally, need to write out information on CI configs and MOs occupations - bfh\n",
    "tdm.write('Output CI Vectors \\n\\n')\n",
    "tdm.write(' CI state       CI coeffs 1...N \\n')\n",
    "for i in range(NStates):\n",
    "    tdm.write('  %4d \\t\\t' % i )\n",
    "    for j in range(NStates):\n",
    "        tdm.write('%6.6f\\t' % CI_vect[i,j])\n",
    "    tdm.write('\\n')\n",
    "\n",
    "tdm.write('\\n\\n')\n",
    "\n",
    "#note, want state # then number for each orbital. something like\n",
    "#   state       MO 1     MO 2    MO 3     MO 4\n",
    "#     1         1.95     1.95    0.05     0.05\n",
    "# - bfh\n",
    "\n",
    "mo_weight = np.zeros([NCAS], np.float64)\n",
    "tdm.write('Orbital electron configuration weighting for CI States \\n\\n')\n",
    "tdm.write(' CI State \\t\\t Orbital Weights 1...N  \\n')\n",
    "for i in range(NStates):\n",
    "    for k in range(NCAS):\n",
    "        mo_weight[k] = config[i,k]\n",
    "    tdm.write('  {:3d}\\t\\t'.format(i))\n",
    "    for k in range(NCAS):\n",
    "        if (k == (NCAS-1)):\n",
    "            tdm.write('{:4.6f}\\n'.format(mo_weight[k]))\n",
    "        else:\n",
    "            tdm.write('{:4.6f}\\t'.format(mo_weight[k]))\n",
    "        mo_weight[k] = 0\n",
    "\n",
    "tdm.write('\\n\\n')\n",
    "\n",
    "tdm.close()"
   ]
  },
  {
   "cell_type": "code",
   "execution_count": null,
   "metadata": {},
   "outputs": [],
   "source": []
  }
 ],
 "metadata": {
  "kernelspec": {
   "display_name": "Python 3",
   "language": "python",
   "name": "python3"
  },
  "language_info": {
   "codemirror_mode": {
    "name": "ipython",
    "version": 3
   },
   "file_extension": ".py",
   "mimetype": "text/x-python",
   "name": "python",
   "nbconvert_exporter": "python",
   "pygments_lexer": "ipython3",
   "version": "3.6.9"
  }
 },
 "nbformat": 4,
 "nbformat_minor": 4
}