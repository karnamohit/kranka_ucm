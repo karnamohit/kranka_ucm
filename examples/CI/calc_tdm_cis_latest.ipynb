{
 "cells": [
  {
   "cell_type": "markdown",
   "metadata": {},
   "source": [
    "**April 17, 2014**\n",
    " \n",
    "**@author B.F. Habenicht (bfh)**\n",
    "\n",
    "\n",
    "Script to extract MO coefficients, dipole matrix, and CI coefficients from Gaussian simulation and use these to calculate the transition dipole moments between all pairs of states. these will later be used by the python script TD_CIS.py to do excited state electron dynamics in an electric field. we first find the data in the gaussian log file. we then rotate the dipole matrix into the MO basis (from AO basis) using the MO coefficient matrix. once we have this, we then can multiply the appropriate CI coefficients together and multiply those terms times the dipole matrix in the MO basis. These terms are collected and summed to calculate the transition dipole moments between states."
   ]
  },
  {
   "cell_type": "markdown",
   "metadata": {},
   "source": [
    "**Important notes**\n",
    "\n",
    "- For a CIS calculation the default window of MOs within which the single substitutions are carried out is determined by the heaviest atom in the system. To use all the MOs for a CIS calculation, set the following flag: `IOp(8/10=90)`.\n",
    "\n",
    "\\- KR, 06/07/2020"
   ]
  },
  {
   "cell_type": "code",
   "execution_count": 1,
   "metadata": {},
   "outputs": [],
   "source": [
    "import sys\n",
    "import numpy as np\n",
    "import os\n",
    "import shutil\n",
    "import re\n",
    "import time"
   ]
  },
  {
   "cell_type": "markdown",
   "metadata": {},
   "source": [
    "**Defining conversion factors and parameters**"
   ]
  },
  {
   "cell_type": "code",
   "execution_count": 2,
   "metadata": {},
   "outputs": [],
   "source": [
    "# dipole moment conversion factor: 1 debye = 0.393430307 a.u.\n",
    "DtoAU = 0.39343\n",
    "AUtoD = 1./DtoAU\n",
    "\n",
    "# energy conversion factor: 1 a.u. = 27.211396 eV\n",
    "AUtoEV = 27.211396\n",
    "EVtoAU = 1./AUtoEV\n",
    "\n",
    "# define square root of 2 - bfh\n",
    "rt2 = np.sqrt(2)"
   ]
  },
  {
   "cell_type": "code",
   "execution_count": 3,
   "metadata": {},
   "outputs": [],
   "source": [
    "#\n",
    "# Route section for CIS calculation using \"GDV i14+\":\n",
    "#   #P hf/sto-3g CIS(NStates=9,Root=1,AllTransitionDensities,Singlets)\n",
    "#      nosymm IOp(3/33=3,3/36=1,4/33=3,5/33=3,5/72=-3,6/8=1,6/33=3,\n",
    "#      8/10=90,9/33=3,9/40=3)\n",
    "#\n",
    "ci = 'cis'\n",
    "molecule = 'sys1_h' # 'lih' or 'sys1_h' or 'heh+'\n",
    "if (molecule == 'sys1_h'):\n",
    "    mol = 'sys1_h'\n",
    "    roots = 30\n",
    "    cas = '-'+str(roots)+'roots'\n",
    "    sN = 's0'\n",
    "    basis = 'sto-3g'\n",
    "elif (molecule == 'lih'):\n",
    "    mol = 'lih'\n",
    "    roots = 8\n",
    "    cas = '-'+str(roots)+'roots'\n",
    "    sN = 's0'\n",
    "    basis = 'sto-3g'\n",
    "elif (molecule == 'heh+'):\n",
    "    mol = 'heh+'\n",
    "    ci = 'cis'\n",
    "    roots = 1\n",
    "    cas = '-'+str(roots)+'roots'\n",
    "    sN = 's0'\n",
    "    basis = 'sto-3g'\n",
    "ext = '.log'\n",
    "\n",
    "Logfile = ci+cas+'_'+sN+'_'+mol+'_'+basis+ext # this is the string for '/path/to/file.log'\n",
    "#Logfile = 'cis-4roots_s0_lih_sto-3g_nocore.log'\n",
    "Logfile = './test_data/'+molecule+'/'+Logfile\n",
    "#Logfile = '/path/to/Gaussian/log/file.log'"
   ]
  },
  {
   "cell_type": "code",
   "execution_count": 4,
   "metadata": {},
   "outputs": [
    {
     "name": "stdout",
     "output_type": "stream",
     "text": [
      "file input: ./test_data/sys1_h/cis-30roots_s0_sys1_h_sto-3g.log\n",
      "detecting whether file exists...\n",
      "file exists.\n"
     ]
    }
   ],
   "source": [
    "debug = 1\n",
    "if debug == 1:\n",
    "    print('file input:', Logfile)\n",
    "    print('detecting whether file exists...')\n",
    "    if os.path.isfile(Logfile) == True:\n",
    "        print('file exists.')\n",
    "    elif os.path.isfile(Logfile) == False:\n",
    "        print('error: file does not exist.')\n",
    "        quit()\n",
    "debug = 0"
   ]
  },
  {
   "cell_type": "code",
   "execution_count": 5,
   "metadata": {},
   "outputs": [],
   "source": [
    "# read the .LOG file after copying it to 'logfile.tmp'\n",
    "outp = 'logfile.tmp'\n",
    "shutil.copy(Logfile, outp)\n",
    "\n",
    "infile = open(outp, 'r')\n",
    "log_lines = infile.readlines()\n",
    "log_lines = [re.sub(r'D','E', s) for s in log_lines]\n",
    "infile.close()"
   ]
  },
  {
   "cell_type": "markdown",
   "metadata": {},
   "source": [
    "**Defining/reading parameters**"
   ]
  },
  {
   "cell_type": "code",
   "execution_count": 6,
   "metadata": {},
   "outputs": [],
   "source": [
    "# read parameters from the Gaussian .LOG file of CIS calculation\n",
    "#  (currently works for restricted reference, singlet only)\n",
    "#  - KR, 06/07/2020\n",
    "for (n,line) in enumerate(log_lines):\n",
    "    error = False\n",
    "    try:\n",
    "        if ('primitive gaussians' in line):\n",
    "            elements = log_lines[n].split()\n",
    "            # total number of basis fns/MOs with double occupancy\n",
    "            NMOs = int(float(elements[0]))\n",
    "        if ('NAtoms' in line):\n",
    "            elements = log_lines[n].split()\n",
    "            # total numer of atoms in the system\n",
    "            NAtoms = int(float(elements[1]))\n",
    "        if ('alpha electrons' in line):\n",
    "            elements = log_lines[n].split()\n",
    "            # number of alpha electrons in the system\n",
    "            NELECT_A = int(float(elements[0]))\n",
    "            # number of beta electrons in the system\n",
    "            NELECT_B = int(float(elements[3]))\n",
    "            # number of doubly occupied MOs in the reference\n",
    "            NDOCC = NELECT_B\n",
    "            # number of singly occupied MOs in the reference\n",
    "            NSOCC = NELECT_A - NELECT_B\n",
    "            NELECT = NELECT_A + NELECT_B\n",
    "            NOCC = NSOCC + NDOCC\n",
    "        # specific to CIS calculation\n",
    "        if ('Range of M.O.s used for correlation' in line):\n",
    "            elements = log_lines[n].split()\n",
    "            NMOLow = int(float(elements[-2]))\n",
    "            NMOHigh = int(float(elements[-1]))\n",
    "            # number of MOs with frozen occupation\n",
    "            #   NOTE: entire set of virtual MOs is considered for CIS\n",
    "            NFRZ = NMOLow - 1\n",
    "            NCAS = NMOHigh - NMOLow + 1\n",
    "    except (ValueError, IndexError, TypeError, NameError):\n",
    "        error = True\n",
    "        print('Error encountered while reading parameters.')\n",
    "        print(' Assigning them manually...')\n",
    "        if (molecule == 'sys1_h'):\n",
    "            NMOs=34\n",
    "            NCAS=NMOs\n",
    "            NFRZ=0\n",
    "            NELECT=40\n",
    "            NOCC=int(NELECT/2.)\n",
    "            NAtoms=14\n",
    "            NStates=30\n",
    "        elif (molecule == 'lih'):\n",
    "            NMOs=6\n",
    "            NCAS=NMOs\n",
    "            NFRZ=0\n",
    "            NELECT=4\n",
    "            NOCC=int(NELECT/2.)\n",
    "            NAtoms=2\n",
    "            NStates=9\n",
    "        elif (molecule == 'heh+'):\n",
    "            NMOs=2\n",
    "            NCAS=NMOs\n",
    "            NFRZ=0\n",
    "            NELECT=2\n",
    "            NOCC=int(NELECT/2.)\n",
    "            NAtoms=2\n",
    "            NStates=2\n",
    "        break\n",
    "\n",
    "# specific to CIS calculation\n",
    "if (error == False):\n",
    "    linenum = []\n",
    "    for (n,line) in enumerate(log_lines):\n",
    "        if ('Excited State  ' in line):\n",
    "            elements = log_lines[n].split()\n",
    "            linenum.append(n)\n",
    "    count = -1\n",
    "    n = linenum[count]\n",
    "    elements = log_lines[n].split()[2].split(':')\n",
    "    NStates = int(float(elements[0])) + 1     # number of CI states/CSFs"
   ]
  },
  {
   "cell_type": "code",
   "execution_count": 7,
   "metadata": {},
   "outputs": [
    {
     "name": "stdout",
     "output_type": "stream",
     "text": [
      "NMOs \t= 34\n",
      "NCAS \t= 34\n",
      "NFRZ \t= 0\n",
      "NELECT \t= 40\n",
      "NOCC \t= 20\n",
      "NAtoms \t= 14\n",
      "NStates = 31\n"
     ]
    }
   ],
   "source": [
    "debug = 2\n",
    "if debug == 1:\n",
    "    print('CIS calculation with {} electrons and {} orbitals...'.format(NELECT, NCAS))\n",
    "    print('total no. of MOs with double occupancy:\\t\\t {}'.format(NMOs))\n",
    "    print('no. of occupied MOs with frozen configuration:\\t {}'.format(NFRZ))\n",
    "    print('total no. of occupied MOs:\\t\\t\\t {}'.format(NOCC))\n",
    "    print('total no. of atoms in the system:\\t\\t {}'.format(NAtoms))\n",
    "    print('total no. of determinants in the system:\\t {}'.format(NStates))\n",
    "elif debug == 2:\n",
    "    print('NMOs \\t= {}'.format(NMOs))\n",
    "    print('NCAS \\t= {}'.format(NCAS))\n",
    "    print('NFRZ \\t= {}'.format(NFRZ))\n",
    "    print('NELECT \\t= {}'.format(NELECT))\n",
    "    print('NOCC \\t= {}'.format(NOCC))\n",
    "    print('NAtoms \\t= {}'.format(NAtoms))\n",
    "    print('NStates = {}'.format(NStates))\n",
    "debug = 0"
   ]
  },
  {
   "cell_type": "markdown",
   "metadata": {},
   "source": [
    "**Reading nuclear dipole moments**"
   ]
  },
  {
   "cell_type": "code",
   "execution_count": 8,
   "metadata": {},
   "outputs": [],
   "source": [
    "# reading nuclear dipole moments from .LOG file\n",
    "for (n,line) in enumerate(log_lines):\n",
    "    try:\n",
    "        if ('Nuclear    moments (au)' in line):\n",
    "            elements = log_lines[n+1].split()\n",
    "            # nuclear dipole moment along x-axis of the system in the input\n",
    "            nuc_dipx = float(elements[1])\n",
    "            # nuclear dipole moment along y-axis of the system in the input\n",
    "            nuc_dipy = float(elements[2])\n",
    "            # nuclear dipole moment along z-axis of the system in the input\n",
    "            nuc_dipz = float(elements[3])\n",
    "            nuc_dipx *= AUtoD\n",
    "            nuc_dipy *= AUtoD\n",
    "            nuc_dipz *= AUtoD\n",
    "    except (ValueError, TypeError, NameError):\n",
    "        print('Error encountered. Assigning nuclear dipole moments manually...')\n",
    "        if (molecule == 'lih'):\n",
    "            nuc_dipx=0.0\n",
    "            nuc_dipy=0.0\n",
    "            nuc_dipz=2.89128097\n",
    "        elif (molecule == 'sys1_h'):\n",
    "            nuc_dipx=0.0\n",
    "            nuc_dipy=0.0\n",
    "            nuc_dipz=0.0\n",
    "        break"
   ]
  },
  {
   "cell_type": "code",
   "execution_count": 9,
   "metadata": {},
   "outputs": [
    {
     "name": "stdout",
     "output_type": "stream",
     "text": [
      "Nuclear dipole moment along-\n",
      "x-axis: 0.00 D (0.0000 a.u.)\n",
      "y-axis: -0.00 D (-0.0000 a.u.)\n",
      "z-axis: -0.00 D (-0.0000 a.u.)\n"
     ]
    }
   ],
   "source": [
    "debug = 1\n",
    "if debug == 1:\n",
    "    print('Nuclear dipole moment along-')\n",
    "    print('{}-axis: {:3.2f} D ({:3.4f} a.u.)'\\\n",
    "          .format('x',nuc_dipx,nuc_dipx*DtoAU))\n",
    "    print('{}-axis: {:3.2f} D ({:3.4f} a.u.)'\\\n",
    "          .format('y',nuc_dipy,nuc_dipy*DtoAU))\n",
    "    print('{}-axis: {:3.2f} D ({:3.4f} a.u.)'\\\n",
    "          .format('z',nuc_dipz,nuc_dipz*DtoAU))\n",
    "debug = 0"
   ]
  },
  {
   "cell_type": "markdown",
   "metadata": {},
   "source": [
    "**Reading dipole moment matrices represented in the AO basis**"
   ]
  },
  {
   "cell_type": "code",
   "execution_count": 10,
   "metadata": {},
   "outputs": [],
   "source": [
    "dipX = np.zeros([NMOs,NMOs], np.float64)\n",
    "\n",
    "line_num = []\n",
    "for (n, line) in enumerate(log_lines):\n",
    "    if ('Multipole matrices IBuc=  518 IX=    1' in line):\n",
    "        line_num.append(n)\n",
    "\n",
    "loops = int(NMOs / 5) + 1\n",
    "last = NMOs % 5\n",
    "count = 0\n",
    "n = line_num[count]\n",
    "shift = 0\n",
    "for k in range(loops):\n",
    "    try:\n",
    "        irange = NMOs - k*5\n",
    "        for i in range(irange):\n",
    "            if (k == (loops - 1)):\n",
    "                if (i < last):\n",
    "                    end = i + 1\n",
    "                else:\n",
    "                    end = last\n",
    "            else:\n",
    "                if (i <= 4):\n",
    "                    end = i + 1\n",
    "                else:\n",
    "                    end = 5\n",
    "            elements=log_lines[n+2+k+shift+i].split()\n",
    "            for j in range(end):\n",
    "                s = k*5 + j\n",
    "                m = i + k*5\n",
    "                dipX[m,s] = float(elements[j+1])\n",
    "                if (i != j):\n",
    "                    dipX[s,m] = dipX[m,s]\n",
    "        shift += irange\n",
    "    except (IndexError, ValueError):\n",
    "        break"
   ]
  },
  {
   "cell_type": "code",
   "execution_count": 11,
   "metadata": {},
   "outputs": [],
   "source": [
    "dipY = np.zeros([NMOs,NMOs], np.float64)\n",
    "\n",
    "line_num = []\n",
    "for (n, line) in enumerate(log_lines):\n",
    "    if ('Multipole matrices IBuc=  518 IX=    2' in line):\n",
    "        line_num.append(n)\n",
    "\n",
    "loops = int(NMOs / 5) + 1\n",
    "last = NMOs % 5\n",
    "count = 0\n",
    "n = line_num[count]\n",
    "shift = 0\n",
    "for k in range(loops):\n",
    "    try:\n",
    "        irange = NMOs - k*5\n",
    "        for i in range(irange):\n",
    "            if (k == (loops - 1)):\n",
    "                if (i < last):\n",
    "                    end = i + 1\n",
    "                else:\n",
    "                    end = last\n",
    "            else:\n",
    "                if (i <= 4):\n",
    "                    end = i + 1\n",
    "                else:\n",
    "                    end = 5\n",
    "            elements=log_lines[n+2+k+shift+i].split()\n",
    "            for j in range(end):\n",
    "                s = k*5 + j\n",
    "                m = i + k*5\n",
    "                dipY[m,s] = float(elements[j+1])\n",
    "                if (i != j):\n",
    "                    dipY[s,m] = dipY[m,s]\n",
    "        shift += irange\n",
    "    except (IndexError, ValueError):\n",
    "        break"
   ]
  },
  {
   "cell_type": "code",
   "execution_count": 12,
   "metadata": {},
   "outputs": [],
   "source": [
    "dipZ = np.zeros([NMOs,NMOs], np.float64)\n",
    "\n",
    "line_num = []\n",
    "for (n, line) in enumerate(log_lines):\n",
    "    if ('Multipole matrices IBuc=  518 IX=    3' in line):\n",
    "        line_num.append(n)\n",
    "\n",
    "loops = int(NMOs / 5) + 1\n",
    "last = NMOs % 5\n",
    "count = 0\n",
    "n = line_num[count]\n",
    "shift = 0\n",
    "for k in range(loops):\n",
    "    try:\n",
    "        irange = NMOs - k*5\n",
    "        for i in range(irange):\n",
    "            if (k == (loops - 1)):\n",
    "                if (i < last):\n",
    "                    end = i + 1\n",
    "                else:\n",
    "                    end = last\n",
    "            else:\n",
    "                if (i <= 4):\n",
    "                    end = i + 1\n",
    "                else:\n",
    "                    end = 5\n",
    "            elements=log_lines[n+2+k+shift+i].split()\n",
    "            for j in range(end):\n",
    "                s = k*5 + j\n",
    "                m = i + k*5\n",
    "                dipZ[m,s] = float(elements[j+1])\n",
    "                if (i != j):\n",
    "                    dipZ[s,m] = dipZ[m,s]\n",
    "        shift += irange\n",
    "    except (IndexError, ValueError):\n",
    "        break"
   ]
  },
  {
   "cell_type": "code",
   "execution_count": 13,
   "metadata": {},
   "outputs": [],
   "source": [
    "debug = 0\n",
    "if debug == 1:\n",
    "    print('Dipole X')\n",
    "    for i in range(NMOs):\n",
    "        for j in range(NMOs):\n",
    "            print(\"%d  %d  %f\" % (i,j, dipX[i,j]))\n",
    "    print('Dipole Y')\n",
    "    for i in range(NMOs):\n",
    "        for j in range(NMOs):\n",
    "            print(\"%d  %d  %f\" % (i,j, dipY[i,j]))\n",
    "    print('Dipole Z')\n",
    "    for i in range(NMOs):\n",
    "        for j in range(NMOs):\n",
    "            print(\"%d  %d  %f\" % (i,j, dipZ[i,j]))\n",
    "debug = 0"
   ]
  },
  {
   "cell_type": "markdown",
   "metadata": {},
   "source": [
    "**Reading MO coefficients as column-vectors**"
   ]
  },
  {
   "cell_type": "code",
   "execution_count": 14,
   "metadata": {},
   "outputs": [],
   "source": [
    "# specific to CIS calculation\n",
    "MO = np.zeros([NMOs,NMOs], np.float64)\n",
    "\n",
    "line_num = []\n",
    "for (n, line) in enumerate(log_lines):\n",
    "    try:\n",
    "        if ('Alpha MOs' in line):\n",
    "            line_num.append(n)\n",
    "    except (IndexError, ValueError):\n",
    "        pass\n",
    "\n",
    "count = -1\n",
    "nline = line_num[count]\n",
    "loops = int(NMOs / 5) + 1\n",
    "last = NMOs % 5\n",
    "for k in range(loops):\n",
    "    for i in range(NMOs):\n",
    "        try:\n",
    "            if (k == (loops - 1)):\n",
    "                end = last\n",
    "            else:\n",
    "                end = 5\n",
    "            dum1 = nline+3+k*(2+NMOs)+i\n",
    "            elements = log_lines[dum1].split()\n",
    "            for j in range(end):\n",
    "                s = k*5 + j\n",
    "                m = i\n",
    "                MO[m,s] = float(elements[j+1])\n",
    "        except (IndexError, ValueError):\n",
    "            break"
   ]
  },
  {
   "cell_type": "code",
   "execution_count": 15,
   "metadata": {
    "scrolled": true
   },
   "outputs": [],
   "source": [
    "debug = 0\n",
    "if debug == 1:\n",
    "    print('MO coefficients (column-vectors):')\n",
    "    print(MO)\n",
    "debug = 0"
   ]
  },
  {
   "cell_type": "markdown",
   "metadata": {},
   "source": [
    "**Transforming the dipole moment matrices from AO basis to MO basis**\n",
    "\n",
    "*(Not necessary for the current method which works entirely within the AO basis)*"
   ]
  },
  {
   "cell_type": "code",
   "execution_count": 16,
   "metadata": {},
   "outputs": [],
   "source": [
    "dipXMO = MO.T.dot(dipX).dot(MO)\n",
    "dipYMO = MO.T.dot(dipY).dot(MO)\n",
    "dipZMO = MO.T.dot(dipZ).dot(MO)"
   ]
  },
  {
   "cell_type": "code",
   "execution_count": 17,
   "metadata": {},
   "outputs": [],
   "source": [
    "debug = 0\n",
    "if (debug == 2):\n",
    "    print('MO Dipole:')\n",
    "    print('x:\\n',dipXMO)\n",
    "    print('y:\\n',dipYMO)\n",
    "    print('z:\\n',dipZMO)\n",
    "debug = 0"
   ]
  },
  {
   "cell_type": "markdown",
   "metadata": {},
   "source": [
    "**Determining the dimensions of the matrix of CI vectors**\n",
    "\n",
    "**NOTE**: The CIS vectors will be, in general, arranged in a rectangular matrix of dimensions $(M \\times N)$, where $M$=`NStates` and $N$=`(NOCC-NMOLow+1)*(NMOHigh-NOCC)]` (or vice versa). For convenience, CI vectors will be saved in arrays as row-vectors. The total number of CIS states is `NStates`, however, the ground state does not mix with the excited states (formed from singly-subsituted determinants upon the reference state). Therefore, the CI vector of the ground state is assigned a vector with full weight to the Hartree-Fock determinant (element `[0,0]` of `CI_vect`)."
   ]
  },
  {
   "cell_type": "code",
   "execution_count": 18,
   "metadata": {},
   "outputs": [],
   "source": [
    "# specific to CIS calculation\n",
    "M = NStates\n",
    "N = int((NOCC - NMOLow + 1)*(NMOHigh - NOCC)) + 1\n",
    "\n",
    "# forming an array of compound indices. This array will be used as\n",
    "#   reference to determine index of the singly-substituted determinant\n",
    "#   within the CI vector array\n",
    "cmpd_indx = []\n",
    "cmpd_indx_dict = {}\n",
    "k = 1\n",
    "for i in range((NMOLow-1),NOCC):\n",
    "    for a in range(NOCC,NMOHigh):\n",
    "        ia = int((a+1)*((a+1)+1)/2 + (i+1))\n",
    "        cmpd_indx.append(ia)\n",
    "        cmpd_indx_dict[str(k)] = [i, a, ia]\n",
    "        k += 1"
   ]
  },
  {
   "cell_type": "code",
   "execution_count": 19,
   "metadata": {},
   "outputs": [],
   "source": [
    "debug = 0\n",
    "if debug == 1:\n",
    "    print('M = {}; N = {}'.format(M,N))\n",
    "elif debug == 2:\n",
    "    print('M = {}; N = {}'.format(M,N))\n",
    "    print('list of compound indices used:')\n",
    "    print(cmpd_indx)\n",
    "    print(cmpd_indx_dict)\n",
    "debug = 0"
   ]
  },
  {
   "cell_type": "markdown",
   "metadata": {},
   "source": [
    "**Reading CI coefficients and energies**"
   ]
  },
  {
   "cell_type": "code",
   "execution_count": 20,
   "metadata": {},
   "outputs": [],
   "source": [
    "# specific to CIS calculation\n",
    "CI_vect = np.zeros([M,N], np.float64)\n",
    "CI_E = np.zeros([M], np.float64)\n",
    "\n",
    "# first element of CI_E will be the HF energy\n",
    "for (n, line) in enumerate(log_lines):\n",
    "    if ('E(RHF) =' in line):\n",
    "        elements = log_lines[n].split()\n",
    "        CI_E[0] = float(elements[4])\n",
    "\n",
    "CI_vect[0,0] = np.float64(1)    # HF determinant contribution to GS is 1.0\n",
    "ia = 0\n",
    "for (n, line) in enumerate(log_lines):\n",
    "    try:\n",
    "        if ('Excited State  ' in line):\n",
    "            elements = log_lines[n].split()[2].split(':')\n",
    "            st_ci = int(float(elements[0]))\n",
    "            CI_E[st_ci] = float(log_lines[n].split()[4])*EVtoAU + CI_E[0]\n",
    "            for i in range(N):\n",
    "                try:\n",
    "                    elements = log_lines[n+1+i].split('->')\n",
    "                    mo_i = int(float(elements[0]))\n",
    "                    mo_a = int(float(elements[1].split()[0]))\n",
    "                    c_ia = float(elements[1].split()[1])\n",
    "                    ia = int(mo_a*(mo_a+1)/2 + mo_i)\n",
    "                    CI_vect[st_ci,(cmpd_indx.index(ia)+1)] = c_ia*rt2\n",
    "                except (ValueError, IndexError, TypeError):\n",
    "                    break\n",
    "    except (IndexError):\n",
    "        break"
   ]
  },
  {
   "cell_type": "code",
   "execution_count": 21,
   "metadata": {},
   "outputs": [],
   "source": [
    "debug = 0\n",
    "if debug == 1:\n",
    "    print('# CI states = ',len(CI_E))\n",
    "    print('CI Eigenvalues (eV):')\n",
    "    print(CI_E[:]*AUtoEV)\n",
    "elif debug == 2:\n",
    "    print('CIS Eigenvalues and Eigenvectors:')\n",
    "    for i in range(M):\n",
    "        print('ECIS(S{}) = {: 4.3f} eV'.format(i, CI_E[i]*AUtoEV))\n",
    "        print(CI_vect[i,:])\n",
    "debug = 0"
   ]
  },
  {
   "cell_type": "markdown",
   "metadata": {},
   "source": [
    "**Reading MO configurations for each determinant in the basis**\n",
    "\n",
    "**NOTE**: The occupation numbers (which is what comprises the \"MO configurations\") are calculated as a sum of weighted occupations of each orbital in the active space, the weights corresponding to the norm-squared of the CI coefficients."
   ]
  },
  {
   "cell_type": "code",
   "execution_count": 22,
   "metadata": {},
   "outputs": [],
   "source": [
    "# specific to CIS calculation\n",
    "\n",
    "# initialize arrays to read and analyze MO configuration for each configuration - bfh\n",
    "config = np.zeros((M,NCAS), np.float64)\n",
    "\n",
    "for i in range(M):\n",
    "    for j in range(NCAS):\n",
    "        if ((j+NFRZ) < NOCC):\n",
    "            config[i,j] = 2\n",
    "        else:\n",
    "            config[i,j] = 0\n",
    "    if (i > 0):\n",
    "        for j in cmpd_indx_dict:\n",
    "            indx = int(j)\n",
    "            index_i = cmpd_indx_dict[str(j)][0]\n",
    "            index_a = cmpd_indx_dict[str(j)][1]\n",
    "            index_ia = int((index_a+1)*((index_a+1)+1)/2 + (index_i+1))\n",
    "            occ_i = 1*CI_vect[i,indx]*np.conjugate(CI_vect[i,indx])\n",
    "            occ_a = 1*CI_vect[i,indx]*np.conjugate(CI_vect[i,indx])\n",
    "            config[i,(index_i-NMOLow+1)] -= occ_i\n",
    "            config[i,(index_a-NMOLow+1)] += occ_a"
   ]
  },
  {
   "cell_type": "code",
   "execution_count": 23,
   "metadata": {},
   "outputs": [],
   "source": [
    "debug = 0\n",
    "if (debug == 1):\n",
    "    print('CIS configurations (within the active space):')\n",
    "    for i in range(NStates):\n",
    "        print('CI state {}   '.format(i))\n",
    "        for j in range(NCAS):\n",
    "            if (j == (NCAS - 1)):\n",
    "                print(config[i,j],end='\\n')\n",
    "            else:\n",
    "                print(config[i,j],end=' ')\n",
    "elif (debug == 2):\n",
    "    print('CIS configurations and multiplicities:')\n",
    "    for i in range(NStates):\n",
    "        print('CI state {}   (multiplicity = {})   '.format(i,multi[i]))\n",
    "        for j in range(NCAS):\n",
    "            if (j == (NCAS - 1)):\n",
    "                print(config[i,j],end='\\n')\n",
    "            else:\n",
    "                print(config[i,j],end=' ')    \n",
    "debug = 0"
   ]
  },
  {
   "cell_type": "markdown",
   "metadata": {},
   "source": [
    "**Calculating electric dipole moment matrix in the CI state basis**\n",
    "\n",
    "**NOTE**: No calculation is involved for CIS transition dipole moment matrix elements, as these values are printed in the `Gaussian` output (`.LOG`) file. For the state dipole moments, we use the formula: $\\boldsymbol{\\mu}_\\text{CI}^{i} = \\text{tr}(\\textbf{P}_\\text{CI}^\\text{AO} \\boldsymbol{\\mu}_\\text{AO}^{i})$, where, $i \\in \\{x, y, z\\}$"
   ]
  },
  {
   "cell_type": "code",
   "execution_count": 24,
   "metadata": {},
   "outputs": [
    {
     "name": "stdout",
     "output_type": "stream",
     "text": [
      "calculating CI state dipole moments...\n"
     ]
    }
   ],
   "source": [
    "# specific for CIS calculation\n",
    "dipXCI = np.zeros([M,M], np.float64)\n",
    "dipYCI = np.zeros([M,M], np.float64)\n",
    "dipZCI = np.zeros([M,M], np.float64)\n",
    "\n",
    "densCI_AO = np.zeros((NMOs, NMOs), np.float64)\n",
    "\n",
    "print('calculating CI state dipole moments...')\n",
    "\n",
    "line_num = []\n",
    "for (n, line) in enumerate(log_lines):\n",
    "    # reading ground state (HF) density\n",
    "    if ('Alpha density for excited state' in line):\n",
    "        st1 = int(float(log_lines[n].split()[-1]))\n",
    "        loops = int(NMOs / 5) + 1\n",
    "        last = NMOs % 5\n",
    "        shift = 0\n",
    "        for k in range(loops):\n",
    "            try:\n",
    "                irange = NMOs - k*5\n",
    "                for i in range(irange):\n",
    "                    if (k == (loops - 1)):\n",
    "                        if (i < last):\n",
    "                            end = i + 1\n",
    "                        else:\n",
    "                            end = last\n",
    "                    else:\n",
    "                        if (i <= 4):\n",
    "                            end = i + 1\n",
    "                        else:\n",
    "                            end = 5\n",
    "                    elements=log_lines[n+2+k+shift+i].split()\n",
    "                    for j in range(end):\n",
    "                        s = k*5 + j\n",
    "                        m = i + k*5\n",
    "                        densCI_AO[m,s] = float(elements[j+1])\n",
    "                        if (i != j):\n",
    "                            densCI_AO[s,m] = densCI_AO[m,s]\n",
    "                shift += irange\n",
    "            except (IndexError, ValueError):\n",
    "                break\n",
    "        densCI_AO *= 2\n",
    "        dipXCI[st1,st1] = -1*np.trace(np.matmul(densCI_AO,dipX))\n",
    "        dipYCI[st1,st1] = -1*np.trace(np.matmul(densCI_AO,dipY))\n",
    "        dipZCI[st1,st1] = -1*np.trace(np.matmul(densCI_AO,dipZ))\n",
    "    # reading CI state density\n",
    "    elif ('Final density matrix:' in line):\n",
    "        st1 = 0\n",
    "        loops = int(NMOs / 5) + 1\n",
    "        last = NMOs % 5\n",
    "        shift = 0\n",
    "        for k in range(loops):\n",
    "            try:\n",
    "                irange = NMOs - k*5\n",
    "                for i in range(irange):\n",
    "                    if (k == (loops - 1)):\n",
    "                        if (i < last):\n",
    "                            end = i + 1\n",
    "                        else:\n",
    "                            end = last\n",
    "                    else:\n",
    "                        if (i <= 4):\n",
    "                            end = i + 1\n",
    "                        else:\n",
    "                            end = 5\n",
    "                    elements=log_lines[n+2+k+shift+i].split()\n",
    "                    for j in range(end):\n",
    "                        s = k*5 + j\n",
    "                        m = i + k*5\n",
    "                        densCI_AO[m,s] = float(elements[j+1])\n",
    "                        if (i != j):\n",
    "                            densCI_AO[s,m] = densCI_AO[m,s]\n",
    "                shift += irange\n",
    "            except (IndexError, ValueError):\n",
    "                break\n",
    "        densCI_AO *= 2\n",
    "        dipXCI[st1,st1] = -1*np.trace(np.matmul(densCI_AO,dipX))\n",
    "        dipYCI[st1,st1] = -1*np.trace(np.matmul(densCI_AO,dipY))\n",
    "        dipZCI[st1,st1] = -1*np.trace(np.matmul(densCI_AO,dipZ))"
   ]
  },
  {
   "cell_type": "code",
   "execution_count": 25,
   "metadata": {},
   "outputs": [
    {
     "name": "stdout",
     "output_type": "stream",
     "text": [
      "reading CI transition dipole moments...\n"
     ]
    }
   ],
   "source": [
    "# specific to CIS calculation\n",
    "\n",
    "print('reading CI transition dipole moments...')\n",
    "\n",
    "#\n",
    "# calculating CI transition dipole moments\n",
    "#\n",
    "for (n, line) in enumerate(log_lines):\n",
    "    if ('Excited to excited state transition electric dipole moments' in line):\n",
    "        for i in range(int((M-2)*(M-1)/2)):\n",
    "            try:\n",
    "                elements = log_lines[n+3+i].split()\n",
    "                st1 = int(float(elements[0]))\n",
    "                st2 = int(float(elements[1]))\n",
    "                dipXCI[st1,st2] = float(elements[2])\n",
    "                dipXCI[st2,st1] = dipXCI[st1,st2]\n",
    "                dipYCI[st1,st2] = float(elements[3])\n",
    "                dipYCI[st2,st1] = dipYCI[st1,st2]\n",
    "                dipZCI[st1,st2] = float(elements[4])\n",
    "                dipZCI[st2,st1] = dipZCI[st1,st2]\n",
    "            except (IndexError, ValueError):\n",
    "                break\n",
    "    elif ('Ground to excited state transition electric dipole' in line):\n",
    "        st1 = 0\n",
    "        for i in range(1,M):\n",
    "            try:\n",
    "                elements = log_lines[n+1+i].split()\n",
    "                st2 = int(float(elements[0]))\n",
    "                dipXCI[st1,st2] = float(elements[1])\n",
    "                dipXCI[st2,st1] = dipXCI[st1,st2]\n",
    "                dipYCI[st1,st2] = float(elements[2])\n",
    "                dipYCI[st2,st1] = dipYCI[st1,st2]\n",
    "                dipZCI[st1,st2] = float(elements[3])\n",
    "                dipZCI[st2,st1] = dipZCI[st1,st2]\n",
    "            except (IndexError, ValueError):\n",
    "                break"
   ]
  },
  {
   "cell_type": "code",
   "execution_count": 26,
   "metadata": {
    "scrolled": true
   },
   "outputs": [],
   "source": [
    "debug = 0\n",
    "if debug == 1:\n",
    "    print('CI dipole moment matrices (a.u.):')\n",
    "    print('along x-axis:\\n', dipXCI)\n",
    "    print('along y-axis:\\n', dipYCI)\n",
    "    print('along z-axis:\\n', dipZCI)\n",
    "elif debug == 2:\n",
    "    for i in range(NStates):\n",
    "        print('dipole moment (z) of CI state {}  = {} a.u.  '\\\n",
    "              .format(i+1, dipZCI[i,i]))\n",
    "debug = 0"
   ]
  },
  {
   "cell_type": "markdown",
   "metadata": {},
   "source": [
    "**Writing read and computed CI data to `tdm_tdcis.txt` for TDCI calculation** "
   ]
  },
  {
   "cell_type": "code",
   "execution_count": 27,
   "metadata": {},
   "outputs": [
    {
     "data": {
      "text/plain": [
       "2"
      ]
     },
     "execution_count": 27,
     "metadata": {},
     "output_type": "execute_result"
    }
   ],
   "source": [
    "# this part is written by bfh and is mostly unchanged\n",
    "\n",
    "# have now calculated the Transition dipole moments. time to get atom coordinates and dump data\n",
    "#  to file so TD_CIS.py can read it in. - bfh\n",
    "\n",
    "outname = 'tdm_tdci.txt' # name of the output file, to be read by TDCI script\n",
    "\n",
    "tdm = open(outname, 'w')\n",
    "tdm.write('===========================================================================================\\n')\n",
    "tdm.write('   This file contains the information one needs to run a time-dependent CIS simulation.    \\n')\n",
    "tdm.write('===========================================================================================\\n')\n",
    "tdm.write('An initial Gaussian calculation was used to calculate the CI eigenvalues and eigenvectors  \\n')\n",
    "tdm.write('as well as the CI state configurations. The program calc_tdm.py was then used to calculate \\n')\n",
    "tdm.write('the transition dipole moments between the CI states as well as the project of the CI states\\n')\n",
    "tdm.write('onto the molecular orbitals. This file was generated by calc_tdm.py as input to TD_CIS.py. \\n')\n",
    "tdm.write(' -BFH 9 May 2014 (modified by KR 8 June 2019)                                              \\n')\n",
    "\n",
    "tdm.write('\\n\\n')"
   ]
  },
  {
   "cell_type": "code",
   "execution_count": 28,
   "metadata": {},
   "outputs": [
    {
     "data": {
      "text/plain": [
       "2"
      ]
     },
     "execution_count": 28,
     "metadata": {},
     "output_type": "execute_result"
    }
   ],
   "source": [
    "# parameters for the TDCI script\n",
    "\n",
    "tdm.write('CI calculation parameters\\n\\n')\n",
    "tdm.write(' title   = {}\\n'.format(mol+'_'+basis))\n",
    "tdm.write(' method  = {}\\n'.format(ci))\n",
    "tdm.write(' NMOLow  = {}\\n'.format(NMOLow))\n",
    "tdm.write(' NMOHigh = {}\\n'.format(NMOHigh))\n",
    "tdm.write(' NMOs    = {}\\n'.format(NMOs))\n",
    "tdm.write(' NCAS    = {}\\n'.format(NCAS))\n",
    "tdm.write(' NFRZ    = {}\\n'.format(NFRZ))\n",
    "tdm.write(' NOCC    = {}\\n'.format(NOCC))\n",
    "tdm.write(' NELECT  = {}\\n'.format(NELECT))\n",
    "tdm.write(' NAtoms  = {}\\n'.format(NAtoms))\n",
    "tdm.write(' NStates = {}\\n'.format(NStates))\n",
    "\n",
    "tdm.write('\\n\\n')"
   ]
  },
  {
   "cell_type": "code",
   "execution_count": 29,
   "metadata": {},
   "outputs": [
    {
     "data": {
      "text/plain": [
       "2"
      ]
     },
     "execution_count": 29,
     "metadata": {},
     "output_type": "execute_result"
    }
   ],
   "source": [
    "tdm.write('Nuclear dipole moments (a.u.) \\n\\n')\n",
    "tdm.write(' x = {: 4.3f} \\n'.format(nuc_dipx*DtoAU))\n",
    "tdm.write(' y = {: 4.3f} \\n'.format(nuc_dipy*DtoAU))\n",
    "tdm.write(' z = {: 4.3f} \\n'.format(nuc_dipz*DtoAU))\n",
    "\n",
    "tdm.write('\\n\\n')"
   ]
  },
  {
   "cell_type": "code",
   "execution_count": 30,
   "metadata": {},
   "outputs": [
    {
     "data": {
      "text/plain": [
       "2"
      ]
     },
     "execution_count": 30,
     "metadata": {},
     "output_type": "execute_result"
    }
   ],
   "source": [
    "tdm.write('Setting up the atomic coordinates \\n\\n')\n",
    "tdm.write(' Standard orientation: \\n')\n",
    "tdm.write(' ------------------------------------------------------------------- \\n')\n",
    "tdm.write(' Center   Atomic     Atomic            Coordinates (Angstroms)       \\n')\n",
    "tdm.write(' Number   Number      Type            X            Y          Z      \\n')\n",
    "tdm.write(' ------------------------------------------------------------------- \\n')\n",
    "\n",
    "\n",
    "coords = np.zeros([NAtoms,3], np.float64)\n",
    "atom_info = np.zeros([NAtoms,3], np.float64)\n",
    "\n",
    "for (n, line) in enumerate(log_lines):\n",
    "    if (' Standard basis:' in line):\n",
    "        for i in range(NAtoms):\n",
    "            elements = log_lines[n + i + 6].split()\n",
    "            atom_info[i,0] = float(elements[0])\n",
    "            atom_info[i,1] = float(elements[1])\n",
    "            atom_info[i,2] = float(elements[2])\n",
    "            coords[i,0] = float(elements[3])\n",
    "            coords[i,1] = float(elements[4])\n",
    "            coords[i,2] = float(elements[5])\n",
    "            tdm.write('  %-10s %-10s %-10s %-10s %-10s %-10s' % (atom_info[i][0], atom_info[i][1], atom_info[i][2], coords[i][0], coords[i][1], coords[i][2]) + \"\\n\")\n",
    "\n",
    "tdm.write('\\n\\n')"
   ]
  },
  {
   "cell_type": "code",
   "execution_count": 31,
   "metadata": {},
   "outputs": [
    {
     "data": {
      "text/plain": [
       "2"
      ]
     },
     "execution_count": 31,
     "metadata": {},
     "output_type": "execute_result"
    }
   ],
   "source": [
    "# input SCF energy- assume energy of first NState - bfh\n",
    "\n",
    "tdm.write('SCF Energy \\n\\n')\n",
    "tdm.write(' SCF Done: E(RHF) = ' + str(CI_E[0]) + '  Ha \\n')\n",
    "\n",
    "tdm.write('\\n\\n')\n",
    "\n",
    "# Excited State energies - bfh\n",
    "\n",
    "tdm.write('Excited state energies (eV) \\n\\n')\n",
    "for i in range(1,NStates):\n",
    "    prt_E = (CI_E[i] - CI_E[0])*AUtoEV\n",
    "    tdm.write(' Excited State {:3d} \\t {:4.6f}\\n'.format(i, prt_E))\n",
    "\n",
    "tdm.write('\\n\\n')"
   ]
  },
  {
   "cell_type": "code",
   "execution_count": 32,
   "metadata": {},
   "outputs": [
    {
     "data": {
      "text/plain": [
       "2"
      ]
     },
     "execution_count": 32,
     "metadata": {},
     "output_type": "execute_result"
    }
   ],
   "source": [
    "# CI electric dipole moments - bfh\n",
    "\n",
    "tdm.write('CI electric dipole moments (a.u.) \\n\\n')\n",
    "tdm.write(' CI state and transition dipole moments\\n')\n",
    "tdm.write(' state I  state J \\t      X \\t      Y \\t      Z \\t Dip. S.  Osc.\\n' )\n",
    "for i in range(M):\n",
    "    for j in range(M):\n",
    "        tdm.write('   {} \\t    {} \\t\\t  {:3.7f}  \\t  {:3.7f}  \\t  {:3.7f}  \\t  {}  \\t  {}\\n'.format(i, j, dipXCI[j,i], dipYCI[j,i], dipZCI[j,i], 0.0, 0.0))\n",
    "\n",
    "tdm.write('\\n\\n')"
   ]
  },
  {
   "cell_type": "code",
   "execution_count": 33,
   "metadata": {},
   "outputs": [],
   "source": [
    "# Finally, need to write out information on CI configs and MOs occupations - bfh\n",
    "tdm.write('Output CI Vectors \\n\\n')\n",
    "tdm.write(' CI state       CI coeffs 1...N \\n')\n",
    "for i in range(M):\n",
    "    tdm.write('  %4d \\t\\t' % i )\n",
    "    for j in range(N):\n",
    "        tdm.write('%6.6f\\t' % CI_vect[i,j])\n",
    "    tdm.write('\\n')\n",
    "\n",
    "tdm.write('\\n\\n')\n",
    "\n",
    "#note, want state # then number for each orbital. something like\n",
    "#   state       MO 1     MO 2    MO 3     MO 4\n",
    "#     1         1.95     1.95    0.05     0.05\n",
    "# - bfh\n",
    "\n",
    "mo_weight = np.zeros([NCAS], np.float64)\n",
    "tdm.write('Orbital electron configuration weighting for CI States \\n\\n')\n",
    "tdm.write(' CI State \\t\\t Orbital Weights 1...N  \\n')\n",
    "for i in range(M):\n",
    "    for k in range(NCAS):\n",
    "        mo_weight[k] = float(config[i,k])\n",
    "    tdm.write('  {:3d}\\t\\t'.format(i))\n",
    "    for k in range(NCAS):\n",
    "        if (k == (NCAS - 1)):\n",
    "            tdm.write('{:4.6f}\\n'.format(mo_weight[k]))\n",
    "        else:\n",
    "            tdm.write('{:4.6f}\\t'.format(mo_weight[k]))\n",
    "        mo_weight[k] = 0\n",
    "\n",
    "tdm.write('\\n\\n')\n",
    "\n",
    "tdm.close()"
   ]
  },
  {
   "cell_type": "code",
   "execution_count": null,
   "metadata": {},
   "outputs": [],
   "source": []
  }
 ],
 "metadata": {
  "kernelspec": {
   "display_name": "Python 3",
   "language": "python",
   "name": "python3"
  },
  "language_info": {
   "codemirror_mode": {
    "name": "ipython",
    "version": 3
   },
   "file_extension": ".py",
   "mimetype": "text/x-python",
   "name": "python",
   "nbconvert_exporter": "python",
   "pygments_lexer": "ipython3",
   "version": "3.6.9"
  }
 },
 "nbformat": 4,
 "nbformat_minor": 4
}
