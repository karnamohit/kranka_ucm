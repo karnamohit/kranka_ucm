{
 "cells": [
  {
   "cell_type": "markdown",
   "source": [
    "**April 17, 2014**\n",
    " \n",
    "**@author B.F. Habenicht (bfh)**\n",
    "\n",
    "\n",
    "Script to extract MO coefficients, dipole matrix, and CI coefficients from Gaussian simulation and use these to calculate the transition dipole moments between all pairs of states. these will later be used by the python script TD_CIS.py to do excited state electron dynamics in an electric field. we first find the data in the gaussian log file. we then rotate the dipole matrix into the MO basis (from AO basis) using the MO coefficient matrix. once we have this, we then can multiply the appropriate CI coefficients together and multiply those terms times the dipole matrix in the MO basis. These terms are collected and summed to calculate the transition dipole moments between states."
   ],
   "metadata": {}
  },
  {
   "cell_type": "markdown",
   "source": [
    "**Important notes**\n",
    "\n",
    "- For a CASSCF calculation with only two electrons in the active space, the subsequently determined configurations are not spin-adapted. \n",
    "\n",
    "- Having `CAS(SaveGEDensities)` in the route section means that the configurations determined by `Gaussian`'s MC-SCF subroutine are not spin-adapted any more even if the number of electrons is more than two and the reference is restricted.\n",
    "\n",
    "\\- KR, 05/17/2020"
   ],
   "metadata": {}
  },
  {
   "cell_type": "code",
   "execution_count": 1,
   "source": [
    "import sys\r\n",
    "import numpy as np\r\n",
    "import os\r\n",
    "import shutil\r\n",
    "import re\r\n",
    "import time\r\n",
    "from gauss_hf import *"
   ],
   "outputs": [],
   "metadata": {}
  },
  {
   "cell_type": "markdown",
   "source": [
    "**Defining conversion factors and parameters**"
   ],
   "metadata": {}
  },
  {
   "cell_type": "code",
   "execution_count": 2,
   "source": [
    "# dipole moment conversion factor: 1 debye = 0.393430307 a.u.\r\n",
    "DtoAU = 0.39343\r\n",
    "AUtoD = 1./DtoAU\r\n",
    "\r\n",
    "# energy conversion factor: 1 a.u. = 27.211396 eV\r\n",
    "AUtoEV = 27.211396\r\n",
    "EVtoAU = 1./AUtoEV\r\n",
    "\r\n",
    "# define square root of 2 - bfh\r\n",
    "rt2 = np.sqrt(2)\r\n",
    "\r\n",
    "##===============\r\n",
    "#debug = 0      # my debug flag; set = 1 or 2 to print stuff - bfh\r\n",
    "##==============="
   ],
   "outputs": [],
   "metadata": {}
  },
  {
   "cell_type": "code",
   "execution_count": 3,
   "source": [
    "#\r\n",
    "# Route section for SA-CASSCF calculation using \"GDV i14+\":\r\n",
    "#   #P CASSCF(4,6,fulldiag,NRoot=225,StateAverage,SaveGEDensities)/sto-3g\r\n",
    "#      scf(tight,maxcyc=150) nosymm iop(6/8=1,3/33=3,3/36=1,4/33=3,5/33=3,\r\n",
    "#      6/33=3,9/33=3,5/72=-3)\r\n",
    "#\r\n",
    "# Route section for CASSCF calculation using \"GDV i14+\":\r\n",
    "#   #P CASSCF(4,6,fulldiag,NRoot=225,SaveGEDensities)/sto-3g\r\n",
    "#      scf(tight,maxcyc=150) nosymm iop(6/8=1,3/33=3,3/36=1,4/33=3,5/33=3,\r\n",
    "#      6/33=3,9/33=3,5/72=-3)\r\n",
    "#\r\n",
    "Logfile = './casscf22_s2_h2_sto-3g.log'\r\n",
    "\r\n",
    "Log = Logfile.split('/')[-1].split('.')[0]\r\n",
    "terms = Logfile.split('/')[-1].split('_')\r\n",
    "\r\n",
    "ci_str = list(terms[0])\r\n",
    "# print(ci_str)\r\n",
    "if ci_str[1] == 'a':\r\n",
    "    ci = 'casscf'\r\n",
    "else:\r\n",
    "    print('not the right .LOG file for this code.')\r\n",
    "    quit()\r\n",
    "\r\n",
    "#specify CAS here\r\n",
    "cas = ''.join(ci_str[6:])\r\n",
    "sN = terms[-3]\r\n",
    "basis = terms[-1].split('.')[0]\r\n",
    "molecule = terms[-2]\r\n",
    "ext = '.'+terms[-1].split('.')[1]"
   ],
   "outputs": [],
   "metadata": {}
  },
  {
   "cell_type": "code",
   "execution_count": 4,
   "source": [
    "debug = 1\n",
    "if debug == 1:\n",
    "    print('file input:', Logfile)\n",
    "    print('detecting whether file exists...')\n",
    "    if os.path.isfile(Logfile) == True:\n",
    "        print('file exists.')\n",
    "    elif os.path.isfile(Logfile) == False:\n",
    "        print('error: file does not exist.')\n",
    "debug = 0"
   ],
   "outputs": [
    {
     "output_type": "stream",
     "name": "stdout",
     "text": [
      "file input: ./test_data/lih/casscf46_s224_lih_sto-3g.log\n",
      "detecting whether file exists...\n",
      "file exists.\n"
     ]
    }
   ],
   "metadata": {}
  },
  {
   "cell_type": "code",
   "execution_count": 5,
   "source": [
    "# read the .LOG file after copying it to 'logfile.tmp'\n",
    "outp = 'logfile.tmp'\n",
    "shutil.copy(Logfile, outp)\n",
    "\n",
    "datafile = log_data(outp)\n",
    "log_lines = datafile.loglines"
   ],
   "outputs": [],
   "metadata": {}
  },
  {
   "cell_type": "markdown",
   "source": [
    "**Defining/reading parameters**"
   ],
   "metadata": {}
  },
  {
   "cell_type": "code",
   "execution_count": 6,
   "source": [
    "# read parameters from the Gaussian .LOG file of CASSCF calculation\r\n",
    "#  (currently works for restricted reference, minimum spin configuration only)\r\n",
    "#  - KR, 05/17/2020\r\n",
    "for (n,line) in enumerate(log_lines):\r\n",
    "    try:\r\n",
    "        NMOs = datafile.nao        # total number of basis fns/MOs with double occupancy\r\n",
    "        NELECT_A = datafile.n_a    # number of alpha electrons in the system\r\n",
    "        NELECT_B = datafile.n_b    # number of beta electrons in the system\r\n",
    "        NOCC = NELECT_A            # total number of occupied MOs in the reference\r\n",
    "        if ('NAtoms' in line):\r\n",
    "            elements = log_lines[n].split()\r\n",
    "            NAtoms = int(float(elements[1]))      # total numer of atoms in the system\r\n",
    "        if ('NO OF BASIS FUNCTIONS' in line):\r\n",
    "            elements = log_lines[n].split()\r\n",
    "            NStates = int(float(elements[5]))     # number of CI states/CSFs\r\n",
    "            print('for \"CASSCF(NRoot=N)\" option, please make sure N is the same as the \\n total no. of configurations, NStates\\n')\r\n",
    "        if ('NO. OF ORBITALS' in line):\r\n",
    "            elements = log_lines[n].split('=')\r\n",
    "            NCAS = int(float(elements[1]))        # number of doubly occupied MOs in the active space\r\n",
    "        if ('NO. OF ELECTRONS' in line):\r\n",
    "            elements = log_lines[n].split('=')\r\n",
    "            NELECT = int(float(elements[1]))      # total number of electrons in the active space\r\n",
    "            if ((NELECT % 2) == 1):\r\n",
    "                NELECT_CAS_A = int((NELECT-1)/2)\r\n",
    "                NELECT_CAS_A += 1                 # number of alpha electrons in the active space\r\n",
    "                NELECT_CAS_B = NELECT - NELECT_CAS_A\r\n",
    "            else:\r\n",
    "                NELECT_CAS_A = int(NELECT/2)\r\n",
    "                NELECT_CAS_B = NELECT_CAS_A\r\n",
    "            NFRZ = NELECT_A - NELECT_CAS_A        # number of doubly occupied MOs outside of the active space\r\n",
    "    except (ValueError, IndexError, TypeError, NameError):\r\n",
    "        print('Error encountered while reading parameters. Assigning them manually...')\r\n",
    "        if (molecule == 'sys1_h'):\r\n",
    "            NMOs=34\r\n",
    "            NCAS=3\r\n",
    "            NFRZ=18\r\n",
    "            NOCC=NCAS + NFRZ\r\n",
    "            NELECT=4\r\n",
    "            NAtoms=14\r\n",
    "            NStates = 9\r\n",
    "        elif (molecule == 'lih'):\r\n",
    "            NMOs=6\r\n",
    "            NCAS=6\r\n",
    "            NFRZ=0\r\n",
    "            NOCC=NCAS + NFRZ\r\n",
    "            NELECT=4\r\n",
    "            NAtoms=2\r\n",
    "            NStates = 225\r\n",
    "        break"
   ],
   "outputs": [
    {
     "output_type": "stream",
     "name": "stdout",
     "text": [
      "for \"CASSCF(NRoot=N)\" option, please make sure N is the same as the \n",
      " total no. of configurations, NStates\n",
      "\n"
     ]
    }
   ],
   "metadata": {}
  },
  {
   "cell_type": "code",
   "execution_count": 7,
   "source": [
    "debug = 2\n",
    "if debug == 1:\n",
    "    print('CAS({},{}) calculation...'.format(NELECT, NCAS))\n",
    "    print('total no. of MOs with double occupancy:\\t\\t {}'.format(NMOs))\n",
    "    print('no. of occupied MOs with frozen configuration:\\t {}'.format(NFRZ))\n",
    "    print('total no. of occupied MOs:\\t\\t\\t {}'.format(NOCC))\n",
    "    print('total no. of atoms in the system:\\t\\t {}'.format(NAtoms))\n",
    "    print('total no. of determinants in the system:\\t {}'.format(NStates))\n",
    "elif debug == 2:\n",
    "    print('NMOs \\t= {}'.format(NMOs))\n",
    "    print('NCAS \\t= {}'.format(NCAS))\n",
    "    print('NFRZ \\t= {}'.format(NFRZ))\n",
    "    print('NOCC \\t= {}'.format(NOCC))\n",
    "    print('NELECT \\t= {}'.format(NELECT))\n",
    "    print('NAtoms \\t= {}'.format(NAtoms))\n",
    "    print('NStates = {}'.format(NStates))\n",
    "debug = 0"
   ],
   "outputs": [
    {
     "output_type": "stream",
     "name": "stdout",
     "text": [
      "NMOs \t= 6\n",
      "NCAS \t= 6\n",
      "NFRZ \t= 0\n",
      "NOCC \t= 2\n",
      "NELECT \t= 4\n",
      "NAtoms \t= 2\n",
      "NStates = 225\n"
     ]
    }
   ],
   "metadata": {}
  },
  {
   "cell_type": "markdown",
   "source": [
    "**Reading nuclear dipole moments**"
   ],
   "metadata": {}
  },
  {
   "cell_type": "code",
   "execution_count": 8,
   "source": [
    "# reading nuclear dipole moments from .LOG file\n",
    "for (n,line) in enumerate(log_lines):\n",
    "    try:\n",
    "        if ('Nuclear    moments (au)' in line):\n",
    "            elements = log_lines[n+1].split()\n",
    "            nuc_dipx = float(elements[1])      # nuclear dipole moment along x-axis of the system in the input\n",
    "            nuc_dipy = float(elements[2])      # nuclear dipole moment along y-axis of the system in the input\n",
    "            nuc_dipz = float(elements[3])      # nuclear dipole moment along z-axis of the system in the input\n",
    "            nuc_dipx *= AUtoD\n",
    "            nuc_dipy *= AUtoD\n",
    "            nuc_dipz *= AUtoD\n",
    "    except (ValueError, TypeError, NameError):\n",
    "        print('Error encountered. Assigning nuclear dipole moments manually...')\n",
    "        if (molecule == 'lih'):\n",
    "            nuc_dipx=0.0\n",
    "            nuc_dipy=0.0\n",
    "            nuc_dipz=2.89128097\n",
    "        elif (molecule == 'sys1_h'):\n",
    "            nuc_dipx=0.0\n",
    "            nuc_dipy=0.0\n",
    "            nuc_dipz=0.0\n",
    "        break"
   ],
   "outputs": [],
   "metadata": {}
  },
  {
   "cell_type": "code",
   "execution_count": 9,
   "source": [
    "debug = 0\n",
    "if debug == 1:\n",
    "    print('Nuclear dipole moment along-')\n",
    "    print('{}-axis: {:3.2f} D ({:3.4f} a.u.)'.format('x',nuc_dipx,nuc_dipx*DtoAU))\n",
    "    print('{}-axis: {:3.2f} D ({:3.4f} a.u.)'.format('y',nuc_dipy,nuc_dipy*DtoAU))\n",
    "    print('{}-axis: {:3.2f} D ({:3.4f} a.u.)'.format('z',nuc_dipz,nuc_dipz*DtoAU))\n",
    "debug = 0"
   ],
   "outputs": [],
   "metadata": {}
  },
  {
   "cell_type": "markdown",
   "source": [
    "**Reading dipole moment matrices represented in the AO basis**"
   ],
   "metadata": {}
  },
  {
   "cell_type": "code",
   "execution_count": 10,
   "source": [
    "dipX = datafile.get_dipole_x_AO()\n",
    "dipY = datafile.get_dipole_y_AO()\n",
    "dipY = datafile.get_dipole_z_AO()"
   ],
   "outputs": [],
   "metadata": {}
  },
  {
   "cell_type": "code",
   "execution_count": 13,
   "source": [
    "# debugging (following code by bfh)\n",
    "debug = 0\n",
    "if debug == 1:\n",
    "    print('Dipole X')\n",
    "    for i in range(NMOs):\n",
    "        for j in range(NMOs):\n",
    "            print(\"%d  %d  %f\" % (i,j, dipX[i,j]))\n",
    "    print('Dipole Y')\n",
    "    for i in range(NMOs):\n",
    "        for j in range(NMOs):\n",
    "            print(\"%d  %d  %f\" % (i,j, dipY[i,j]))\n",
    "    print('Dipole Z')\n",
    "    for i in range(NMOs):\n",
    "        for j in range(NMOs):\n",
    "            print(\"%d  %d  %f\" % (i,j, dipZ[i,j]))\n",
    "debug = 0"
   ],
   "outputs": [],
   "metadata": {}
  },
  {
   "cell_type": "markdown",
   "source": [
    "**Reading MO coefficients as column-vectors**"
   ],
   "metadata": {}
  },
  {
   "cell_type": "code",
   "execution_count": 14,
   "source": [
    "# specific to CASSCF calculation\n",
    "MO = np.zeros([NMOs,NMOs], np.float64)\n",
    "\n",
    "line_num = []\n",
    "for (n, line) in enumerate(log_lines):\n",
    "    try:\n",
    "        if ('FINAL COEFFICIENT MATRIX' in line):\n",
    "            line_num.append(n)\n",
    "    except (IndexError, ValueError):\n",
    "        pass\n",
    "\n",
    "count = -1\n",
    "nline = line_num[count]\n",
    "loops = int(NMOs / 10) + 1\n",
    "last = NMOs % 10\n",
    "for i in range(NMOs):\n",
    "    for k in range(loops):\n",
    "        try:\n",
    "            if (k == (loops - 1)):\n",
    "                end = last\n",
    "            else:\n",
    "                end = 10\n",
    "            dum1 = nline+1+i*(1+loops)+(k+1)\n",
    "            elements=log_lines[dum1].split()\n",
    "            for j in range(end):\n",
    "                s = k*10 + j\n",
    "                m = i\n",
    "                MO[s,m] = float(elements[j])\n",
    "        except (IndexError, ValueError):\n",
    "            break"
   ],
   "outputs": [],
   "metadata": {}
  },
  {
   "cell_type": "code",
   "execution_count": 15,
   "source": [
    "debug = 0\n",
    "if debug == 1:\n",
    "    print('MO coefficients (column-vectors)')\n",
    "    print(MO)\n",
    "debug = 0"
   ],
   "outputs": [],
   "metadata": {
    "scrolled": true
   }
  },
  {
   "cell_type": "code",
   "execution_count": 16,
   "source": [
    "# seems that this block of code is unnecessary - KR\n",
    "\n",
    "## need to truncate MOs so only those in occupied space (NOCC) have values - bfh\n",
    "#\n",
    "#if (NOCC < NMOs):\n",
    "#    for i in range(NOCC,NMOs):\n",
    "#        for j in range(NOCC,NMOs):\n",
    "#            MO[i][j] = 0.0\n",
    "#            MO[j][i] = 0.0\n",
    "#            dipX[i][j] = 0.0\n",
    "#            dipX[j][i] = 0.0\n",
    "#            dipY[i][j] = 0.0\n",
    "#            dipY[j][i] = 0.0\n",
    "#            dipZ[i][j] = 0.0\n",
    "#            dipZ[j][i] = 0.0"
   ],
   "outputs": [],
   "metadata": {}
  },
  {
   "cell_type": "markdown",
   "source": [
    "**Transforming the dipole moment matrices from AO basis to MO basis**\n",
    "\n",
    "*(Not necessary for the current method which works entirely within the AO basis)*"
   ],
   "metadata": {}
  },
  {
   "cell_type": "code",
   "execution_count": 17,
   "source": [
    "dipXMO = MO.T.dot(dipX).dot(MO)\n",
    "dipYMO = MO.T.dot(dipY).dot(MO)\n",
    "dipZMO = MO.T.dot(dipZ).dot(MO)"
   ],
   "outputs": [],
   "metadata": {}
  },
  {
   "cell_type": "code",
   "execution_count": 18,
   "source": [
    "debug = 0\n",
    "if (debug == 2):\n",
    "    print('MO Dipole:')\n",
    "    print('x:\\n',dipXMO)\n",
    "    print('y:\\n',dipYMO)\n",
    "    print('z:\\n',dipZMO)\n",
    "debug = 0"
   ],
   "outputs": [],
   "metadata": {}
  },
  {
   "cell_type": "markdown",
   "source": [
    "**Determining the dimensions of the matrix of CI vectors**\n",
    "\n",
    "**NOTE**: The CASSCF vectors will be arranged in a square matrix of dimensions $(M \\times M)$, where $M$=`NStates`, in the current case."
   ],
   "metadata": {}
  },
  {
   "cell_type": "code",
   "execution_count": 19,
   "source": [
    "# specific to CASSCF calculation\n",
    "M = NStates\n",
    "N = M"
   ],
   "outputs": [],
   "metadata": {}
  },
  {
   "cell_type": "markdown",
   "source": [
    "**Reading CI coefficients and energies**"
   ],
   "metadata": {}
  },
  {
   "cell_type": "code",
   "execution_count": 20,
   "source": [
    "# specific to CASSCF calculation\n",
    "CI_vect = np.zeros([M,N], np.float64)\n",
    "CI_E = np.zeros([M], np.float64)\n",
    "\n",
    "line_num = []\n",
    "for (n, line) in enumerate(log_lines):\n",
    "    if ('FINAL EIGENVALUES ANE EIGENVECTOR' in line):\n",
    "        line_num.append(n)\n",
    "\n",
    "count = -1\n",
    "nline = line_num[count]\n",
    "loops = int(M / 5) + 1\n",
    "last = M % 5\n",
    "shift = 0\n",
    "for i in range(M):\n",
    "    try:\n",
    "        for k in range(loops):\n",
    "            try:\n",
    "                if (k == (loops - 1)):\n",
    "                    end = last\n",
    "                else:\n",
    "                    end = 5\n",
    "                dum1 = nline+4+i*(loops)+k+shift\n",
    "                elements=log_lines[dum1].split()\n",
    "                if (k == 0):\n",
    "                    CI_E[i] = float(elements[1])\n",
    "                    for j in range(end):\n",
    "                        s = j + 2\n",
    "                        CI_vect[i,j] = float(elements[s])\n",
    "                else:\n",
    "                    for j in range(end):\n",
    "                        s = 5*k + j\n",
    "                        CI_vect[i,s] = float(elements[j])\n",
    "                if (loops < 2):\n",
    "                    shift += 1\n",
    "            except (IndexError):\n",
    "                break\n",
    "    except (IndexError):\n",
    "        raise(IndexError)\n",
    "        break"
   ],
   "outputs": [],
   "metadata": {}
  },
  {
   "cell_type": "code",
   "execution_count": 21,
   "source": [
    "debug = 0\n",
    "if debug == 1:\n",
    "    print('# CI states = ',len(CI_E))\n",
    "    print('CI Eigenvalues:')\n",
    "    print(CI_E[:])\n",
    "elif debug == 2:\n",
    "    print(CI_vect.shape)\n",
    "    print('CI Eigenvalues and Eigenvectors:')\n",
    "    for i in range(M):\n",
    "        print(i+1, CI_E[i])\n",
    "        print(CI_vect[i,:])\n",
    "debug = 0"
   ],
   "outputs": [],
   "metadata": {}
  },
  {
   "cell_type": "markdown",
   "source": [
    "**Reading MO configurations for each determinant in the basis**\n",
    "\n",
    "**NOTE**: The occupation numbers (which is what comprises the \"MO configurations\") are calculated as a sum of weighted occupations of each orbital in the active space, the weights corresponding to the norm-squared of the CI coefficients."
   ],
   "metadata": {}
  },
  {
   "cell_type": "code",
   "execution_count": 22,
   "source": [
    "# specific to CASSCF calculation\n",
    "\n",
    "# initialize arrays to read and analyze MO configuration for each configuration - bfh\n",
    "tmp = np.zeros((M), dtype='object')\n",
    "config_int = np.zeros((M,NCAS), dtype='object')\n",
    "\n",
    "for (n, line) in enumerate(log_lines):\n",
    "    if ('BOTTOM WEIGHT' in line):\n",
    "        for i in range(M):\n",
    "            elements = log_lines[n+i+1].split()\n",
    "            tmp = list(elements[4])\n",
    "            for j in range(NCAS):\n",
    "                if (tmp[j] == '1'):\n",
    "                    tmp[j] = '2'\n",
    "                if (tmp[j] == 'a' or tmp[j] == 'b'):\n",
    "                    tmp[j] = '1'\n",
    "                config_int[i,j] = int(tmp[j])\n",
    "\n",
    "config = np.zeros((M,NCAS), np.float64)\n",
    "\n",
    "for i in range(M):\n",
    "    for k in range(NCAS):\n",
    "        sum = 0\n",
    "        for j in range(N):\n",
    "            occ_coef = CI_vect[i,j]*np.conjugate(CI_vect[i,j])\n",
    "            #\n",
    "            # WARNING: this works for spin-unadapted configurations ONLY!!\n",
    "            #\n",
    "            sum += config_int[j,k]*occ_coef\n",
    "        config[i,k] = sum"
   ],
   "outputs": [],
   "metadata": {}
  },
  {
   "cell_type": "code",
   "execution_count": 24,
   "source": [
    "debug = 0\n",
    "if (debug == 1):\n",
    "    print('CAS configurations:')\n",
    "    for i in range(NStates):\n",
    "        print('CI state {}   '.format(i+1))\n",
    "        for j in range(NCAS):\n",
    "            if (j == (NCAS - 1)):\n",
    "                print(config[i,j],end='\\n')\n",
    "            else:\n",
    "                print(config[i,j],end='\\t')\n",
    "elif (debug == 2):\n",
    "    print('CAS configurations and multiplicities:')\n",
    "    for i in range(NStates):\n",
    "        print('CI state {}   (multiplicity = {})   '.format(i+1,multi[i]))\n",
    "        for j in range(NCAS):\n",
    "            if (j == (NCAS - 1)):\n",
    "                print(config[i,j],end='\\n')\n",
    "            else:\n",
    "                print(config[i,j],end='\\t')    \n",
    "debug = 0"
   ],
   "outputs": [],
   "metadata": {}
  },
  {
   "cell_type": "markdown",
   "source": [
    "**Calculating electric dipole moment matrix in the CI state basis**\n",
    "\n",
    "**NOTE**: The formula used for this is: $\\boldsymbol{\\mu}_\\text{CI}^{i} = \\text{tr}(\\textbf{P}_\\text{CI}^\\text{AO} \\boldsymbol{\\mu}_\\text{AO}^{i})$, where, $i \\in \\{x, y, z\\}$"
   ],
   "metadata": {}
  },
  {
   "cell_type": "code",
   "execution_count": null,
   "source": [],
   "outputs": [],
   "metadata": {}
  },
  {
   "cell_type": "code",
   "execution_count": 25,
   "source": [
    "# specific to CASSCF calculation\r\n",
    "#\r\n",
    "# calculating transition dipole moments b/w CASSCF ground state\r\n",
    "#   and excited states\r\n",
    "#\r\n",
    "dipXCI = np.zeros([M,M], np.float64)\r\n",
    "dipYCI = np.zeros([M,M], np.float64)\r\n",
    "dipZCI = np.zeros([M,M], np.float64)\r\n",
    "\r\n",
    "densCI_AO_a = np.zeros([NMOs,NMOs], np.float64)\r\n",
    "densCI_AO_b = np.zeros([NMOs,NMOs], np.float64)\r\n",
    "\r\n",
    "print('ground to excited state transitions...')\r\n",
    "\r\n",
    "last = NMOs % 5\r\n",
    "if (last == 0):\r\n",
    "    loops = int(NMOs / 5)\r\n",
    "else:\r\n",
    "    loops = int(NMOs / 5) + 1\r\n",
    "if (NCAS % 5 == 0):\r\n",
    "    loops_cas = int(NCAS / 5)\r\n",
    "else:\r\n",
    "    loops_cas = int(NCAS / 5) + 1\r\n",
    "skip_lines = loops_cas\r\n",
    "for i in range(loops_cas):\r\n",
    "    skip_lines += NCAS - 5*i\r\n",
    "for (n,line) in enumerate(log_lines):\r\n",
    "    if ('1st state is' in line):\r\n",
    "        st1 = int(float(log_lines[n].split()[-1])) - 1\r\n",
    "        st2 = int(float(log_lines[n+1].split()[-1])) - 1\r\n",
    "        elements = log_lines[n+2]\r\n",
    "        if ('MO Ground to excited state density' in log_lines[n+2]):\r\n",
    "            # read the alpha and beta transition densities in AO basis\r\n",
    "            AOdensline_a = n+2*(loops_cas+1)+2*skip_lines\r\n",
    "            for k in range(loops):\r\n",
    "                for i in range(NMOs):\r\n",
    "                    try:\r\n",
    "                        if (k == (loops - 1)):\r\n",
    "                            end = last\r\n",
    "                        else:\r\n",
    "                            end = 5\r\n",
    "                        dum1 = AOdensline_a+k*(1+NMOs)+i+2\r\n",
    "                        dum2 = dum1+1+loops*(NMOs+1)\r\n",
    "                        elements_a = log_lines[dum1].split()\r\n",
    "                        elements_b = log_lines[dum2].split()\r\n",
    "                        for j in range(end):\r\n",
    "                            s = k*5 + j\r\n",
    "                            m = i\r\n",
    "                            densCI_AO_a[m,s] = float(elements_a[j+1])\r\n",
    "                            densCI_AO_b[m,s] = float(elements_b[j+1])\r\n",
    "                    except (IndexError, ValueError):\r\n",
    "                        pass\r\n",
    "            densCI_AO = densCI_AO_a + densCI_AO_b\r\n",
    "            dipXCI[st1,st2] = -1*np.trace(np.matmul(densCI_AO,dipX))\r\n",
    "            dipXCI[st2,st1] = dipXCI[st1,st2]\r\n",
    "            dipYCI[st1,st2] = -1*np.trace(np.matmul(densCI_AO,dipY))\r\n",
    "            dipYCI[st2,st1] = dipYCI[st1,st2]\r\n",
    "            dipZCI[st1,st2] = -1*np.trace(np.matmul(densCI_AO,dipZ))\r\n",
    "            dipZCI[st2,st1] = dipZCI[st1,st2]\r\n",
    "            dens_file = 'dens_ci_'+str(st1)+'_'+str(st2)+'.npz'\r\n",
    "            np.savez(dens_file, densCI_AO)"
   ],
   "outputs": [
    {
     "output_type": "stream",
     "name": "stdout",
     "text": [
      "ground to excited state transitions...\n"
     ]
    }
   ],
   "metadata": {}
  },
  {
   "cell_type": "code",
   "execution_count": 26,
   "source": [
    "#\r\n",
    "# calculating transition dipole moments b/w CASSCF excited states\r\n",
    "#\r\n",
    "\r\n",
    "print('excited to excited state transitions...')\r\n",
    "\r\n",
    "for (n,line) in enumerate(log_lines):\r\n",
    "    if ('Alpha transition density between states' in line):\r\n",
    "        elements = log_lines[n].split(':')[0].split()\r\n",
    "        st1 = int(float(elements[-1])) - 1\r\n",
    "        st2 = int(float(elements[-2])) - 1\r\n",
    "        densCI_AO_a = np.zeros([NMOs,NMOs], np.float64)\r\n",
    "        densCI_AO_b = np.zeros([NMOs,NMOs], np.float64)\r\n",
    "        for k in range(loops):\r\n",
    "            for i in range(NMOs):\r\n",
    "                try:\r\n",
    "                    if (k == (loops - 1)):\r\n",
    "                        end = last\r\n",
    "                    else:\r\n",
    "                        end = 5\r\n",
    "                    dum1 = n+2+k*(1+NMOs)+i\r\n",
    "                    dum2 = dum1+1+loops*(NMOs+1)\r\n",
    "                    elements_a = log_lines[dum1].split()\r\n",
    "                    elements_b = log_lines[dum2].split()\r\n",
    "                    for j in range(end):\r\n",
    "                        s = k*5 + j\r\n",
    "                        m = i\r\n",
    "                        densCI_AO_a[m,s] = float(elements_a[j+1])\r\n",
    "                        densCI_AO_b[m,s] = float(elements_b[j+1])\r\n",
    "                except (IndexError, ValueError):\r\n",
    "                    break\r\n",
    "        densCI_AO = densCI_AO_a + densCI_AO_b\r\n",
    "        dipXCI[st1,st2] = -1*np.trace(np.matmul(densCI_AO,dipX))\r\n",
    "        dipXCI[st2,st1] = dipXCI[st1,st2]\r\n",
    "        dipYCI[st1,st2] = -1*np.trace(np.matmul(densCI_AO,dipY))\r\n",
    "        dipYCI[st2,st1] = dipYCI[st1,st2]\r\n",
    "        dipZCI[st1,st2] = -1*np.trace(np.matmul(densCI_AO,dipZ))\r\n",
    "        dipZCI[st2,st1] = dipZCI[st1,st2]\r\n",
    "        dens_file = 'dens_ci_'+str(st1)+'_'+str(st2)+'.npz'\r\n",
    "        np.savez(dens_file, densCI_AO)"
   ],
   "outputs": [
    {
     "output_type": "stream",
     "name": "stdout",
     "text": [
      "excited to excited state transitions...\n"
     ]
    }
   ],
   "metadata": {}
  },
  {
   "cell_type": "code",
   "execution_count": 27,
   "source": [
    "#\r\n",
    "# calculating state dipole moments of all CASSCF states\r\n",
    "#\r\n",
    "\r\n",
    "print('stationary states...')\r\n",
    "\r\n",
    "for (n,line) in enumerate(log_lines):\r\n",
    "    if ('1st state is' in line):\r\n",
    "        st1 = int(float(log_lines[n].split()[-1])) - 1\r\n",
    "        st2 = int(float(log_lines[n+1].split()[-1])) - 1\r\n",
    "        if (st1 == st2):\r\n",
    "            elements = log_lines[n+2]\r\n",
    "            if ('MO valence' in log_lines[n+2]):\r\n",
    "                densCI_AO_a = np.zeros([NMOs,NMOs], np.float64)\r\n",
    "                shift = 0\r\n",
    "                # read the alpha state densities in AO basis\r\n",
    "                AOdensline_a = n+2*(loops_cas+1)+2*skip_lines\r\n",
    "                for k in range(loops):\r\n",
    "                    try:\r\n",
    "                        irange = NMOs - k*5\r\n",
    "                        for i in range(irange):\r\n",
    "                            if (k == (loops - 1)):\r\n",
    "                                if (i < last):\r\n",
    "                                    end = i + 1\r\n",
    "                                else:\r\n",
    "                                    end = last\r\n",
    "                            else:\r\n",
    "                                if (i <= 4):\r\n",
    "                                    end = i + 1\r\n",
    "                                else:\r\n",
    "                                    end = 5\r\n",
    "                            dum1 = AOdensline_a+k+shift+i+2\r\n",
    "                            elements=log_lines[dum1].split()\r\n",
    "                            for j in range(end):\r\n",
    "                                s = k*5 + j\r\n",
    "                                m = i + k*5\r\n",
    "                                densCI_AO_a[m,s] = float(elements[j+1])\r\n",
    "                                if (i != j):\r\n",
    "                                    densCI_AO_a[s,m] = densCI_AO_a[m,s]\r\n",
    "                        shift += irange\r\n",
    "                    except (IndexError, ValueError):\r\n",
    "                        break\r\n",
    "                densCI_AO = 2*densCI_AO_a\r\n",
    "                dipXCI[st1,st1] = -1*np.trace(np.matmul(densCI_AO,dipX))\r\n",
    "                dipYCI[st1,st1] = -1*np.trace(np.matmul(densCI_AO,dipY))\r\n",
    "                dipZCI[st1,st1] = -1*np.trace(np.matmul(densCI_AO,dipZ))\r\n",
    "                dens_file = 'dens_ci_'+str(st1)+'_'+str(st2)+'.npz'\r\n",
    "                np.savez(dens_file, densCI_AO)"
   ],
   "outputs": [
    {
     "output_type": "stream",
     "name": "stdout",
     "text": [
      "stationary states...\n"
     ]
    }
   ],
   "metadata": {}
  },
  {
   "cell_type": "code",
   "execution_count": 28,
   "source": [
    "debug = 0\r\n",
    "if debug == 1:\r\n",
    "    print('Total number of allowed states for electric dipole transition from the ground state:\\n')\r\n",
    "    print(len(spin_allowed) - 1)\r\n",
    "elif debug == 2:\r\n",
    "    print('Total number of spin-allowed (singlet) states for transition from the ground state:\\n')\r\n",
    "    print(len(spin_allowed[1:]))\r\n",
    "    print('Spin-allowed excited states:\\n')\r\n",
    "    print(spin_allowed[1:])\r\n",
    "elif debug == 3:\r\n",
    "    print('CI dipole moment matrices (a.u.):')\r\n",
    "    print('along x-axis:\\n', dipXCI)\r\n",
    "    print('along y-axis:\\n', dipYCI)\r\n",
    "    print('along z-axis:\\n', dipZCI)\r\n",
    "elif debug == 4:\r\n",
    "    for i in range(NStates):\r\n",
    "        print('dipole moment (z) of CI state {}  = {} a.u.  '.format(i+1, dipZCI[i,i]))\r\n",
    "debug = 0"
   ],
   "outputs": [],
   "metadata": {
    "scrolled": true
   }
  },
  {
   "cell_type": "markdown",
   "source": [
    "**Writing read and computed CI data to `tdm_tdcis.txt` for TDCI calculation** "
   ],
   "metadata": {}
  },
  {
   "cell_type": "code",
   "execution_count": 26,
   "source": [
    "write_output = True"
   ],
   "outputs": [],
   "metadata": {}
  },
  {
   "cell_type": "code",
   "execution_count": 29,
   "source": [
    "if (write_output):\r\n",
    "    # this part is written by bfh and is mostly unchanged\r\n",
    "\r\n",
    "    # have now calculated the Transition dipole moments. time to get atom coordinates and dump data\r\n",
    "    #  to file so TD_CIS.py can read it in. - bfh\r\n",
    "\r\n",
    "    outname = 'tdm_tdci.txt' # name of the output file, to be read by TDCI script\r\n",
    "\r\n",
    "    tdm = open(outname, 'w')\r\n",
    "    tdm.write('===========================================================================================\\n')\r\n",
    "    tdm.write('  This file contains the information one needs to run a time-dependent CASSCF simulation.  \\n')\r\n",
    "    tdm.write('===========================================================================================\\n')\r\n",
    "    tdm.write('An initial Gaussian calculation was used to calculate the CI eigenvalues and eigenvectors  \\n')\r\n",
    "    tdm.write('as well as the CI state configurations. The program calc_tdm.py was then used to calculate \\n')\r\n",
    "    tdm.write('the transition dipole moments between the CI states as well as the project of the CI states\\n')\r\n",
    "    tdm.write('onto the molecular orbitals. This file was generated by calc_tdm.py as input to TD_CIS.py. \\n')\r\n",
    "    tdm.write(' -BFH 9 May 2014                                                                           \\n')\r\n",
    "\r\n",
    "    tdm.write('\\n\\n')\r\n",
    "\r\n",
    "    # parameters for the TDCI script\r\n",
    "\r\n",
    "    tdm.write('CI calculation parameters\\n\\n')\r\n",
    "    tdm.write(' title   = {}\\n'.format(molecule+'_'+basis))\r\n",
    "    tdm.write(' method  = {}\\n'.format(ci))\r\n",
    "    tdm.write(' NMOs    = {}\\n'.format(NMOs))\r\n",
    "    tdm.write(' NCAS    = {}\\n'.format(NCAS))\r\n",
    "    tdm.write(' NFRZ    = {}\\n'.format(NFRZ))\r\n",
    "    tdm.write(' NOCC    = {}\\n'.format(NOCC))\r\n",
    "    tdm.write(' NELECT  = {}\\n'.format(NELECT))\r\n",
    "    tdm.write(' NAtoms  = {}\\n'.format(NAtoms))\r\n",
    "    tdm.write(' NStates = {}\\n'.format(NStates))\r\n",
    "\r\n",
    "    tdm.write('\\n\\n')\r\n",
    "\r\n",
    "    tdm.write('Nuclear dipole moments (a.u.) \\n\\n')\r\n",
    "    tdm.write(' x = {: 4.3f} \\n'.format(nuc_dipx*DtoAU))\r\n",
    "    tdm.write(' y = {: 4.3f} \\n'.format(nuc_dipy*DtoAU))\r\n",
    "    tdm.write(' z = {: 4.3f} \\n'.format(nuc_dipz*DtoAU))\r\n",
    "\r\n",
    "    tdm.write('\\n\\n')\r\n",
    "\r\n",
    "    tdm.write('Setting up the atomic coordinates \\n\\n')\r\n",
    "    tdm.write(' Standard orientation: \\n')\r\n",
    "    tdm.write(' ------------------------------------------------------------------- \\n')\r\n",
    "    tdm.write(' Center   Atomic     Atomic            Coordinates (Angstroms)       \\n')\r\n",
    "    tdm.write(' Number   Number      Type            X            Y          Z      \\n')\r\n",
    "    tdm.write(' ------------------------------------------------------------------- \\n')\r\n",
    "\r\n",
    "\r\n",
    "    coords = np.zeros([NAtoms,3], np.float64)\r\n",
    "    atom_info = np.zeros([NAtoms,3], np.float64)\r\n",
    "\r\n",
    "    for (n, line) in enumerate(log_lines):\r\n",
    "        if (' Standard basis:' in line):\r\n",
    "            for i in range(NAtoms):\r\n",
    "                elements = log_lines[n + i + 6].split()\r\n",
    "                atom_info[i,0] = float(elements[0])\r\n",
    "                atom_info[i,1] = float(elements[1])\r\n",
    "                atom_info[i,2] = float(elements[2])\r\n",
    "                coords[i,0] = float(elements[3])\r\n",
    "                coords[i,1] = float(elements[4])\r\n",
    "                coords[i,2] = float(elements[5])\r\n",
    "                tdm.write('  %-10s %-10s %-10s %-10s %-10s %-10s' % (atom_info[i][0], atom_info[i][1], atom_info[i][2], coords[i][0], coords[i][1], coords[i][2]) + \"\\n\")\r\n",
    "\r\n",
    "    tdm.write('\\n\\n')\r\n",
    "\r\n",
    "    # input SCF energy- assume energy of first NState - bfh\r\n",
    "\r\n",
    "    tdm.write('SCF Energy \\n\\n')\r\n",
    "    tdm.write(' SCF Done: E(RHF) = ' + str(CI_E[0]) + '  Ha \\n')\r\n",
    "\r\n",
    "    tdm.write('\\n\\n')\r\n",
    "\r\n",
    "    # Excited State energies - bfh\r\n",
    "\r\n",
    "    tdm.write('Excited state energies (eV) \\n')\r\n",
    "    tdm.write('\\n')\r\n",
    "    for i in range(1,NStates):\r\n",
    "        prt_E = (CI_E[i] - CI_E[0])*AUtoEV\r\n",
    "        tdm.write(' Excited State {:3d} \\t {:4.6f}\\n'.format(i, prt_E))\r\n",
    "\r\n",
    "    tdm.write('\\n\\n')\r\n",
    "\r\n",
    "    # CI electric dipole moments - bfh\r\n",
    "\r\n",
    "    tdm.write('CI electric dipole moments (a.u.) \\n\\n')\r\n",
    "    tdm.write(' CI state and transition dipole moments\\n')\r\n",
    "    tdm.write(' state I  state J \\t      X \\t\\t      Y \\t\\t      Z \\t\\t   Dip. S. \\t\\t    Osc.\\n' )\r\n",
    "    for i in range(NStates):\r\n",
    "        for j in range(NStates):\r\n",
    "            tdm.write('   {} \\t    {} \\t\\t  {:3.7f}  \\t  {:3.7f}  \\t  {:3.7f}  \\t  {:3.7f}  \\t  {:3.7f}\\n'.format(i, j, dipXCI[j,i], dipYCI[j,i], dipZCI[j,i], 0.0, 0.0))\r\n",
    "\r\n",
    "    tdm.write('\\n\\n')\r\n",
    "\r\n",
    "    # Finally, need to write out information on CI configs and MOs occupations - bfh\r\n",
    "    tdm.write('Output CI Vectors \\n\\n')\r\n",
    "    tdm.write(' CI state       CI coeffs 1...N \\n')\r\n",
    "    for i in range(NStates):\r\n",
    "        tdm.write('  %4d \\t\\t' % i )\r\n",
    "        for j in range(NStates):\r\n",
    "            tdm.write('%6.6f\\t' % CI_vect[i,j])\r\n",
    "        tdm.write('\\n')\r\n",
    "\r\n",
    "    tdm.write('\\n\\n')\r\n",
    "\r\n",
    "    #note, want state # then number for each orbital. something like\r\n",
    "    #   state       MO 1     MO 2    MO 3     MO 4\r\n",
    "    #     1         1.95     1.95    0.05     0.05\r\n",
    "    # - bfh\r\n",
    "\r\n",
    "    mo_weight = np.zeros([NCAS], np.float64)\r\n",
    "    tdm.write('Orbital electron configuration weighting for CI States \\n\\n')\r\n",
    "    tdm.write(' CI State \\t\\t Orbital Weights 1...N  \\n')\r\n",
    "    for i in range(NStates):\r\n",
    "        for k in range(NCAS):\r\n",
    "            mo_weight[k] = config[i,k]\r\n",
    "        tdm.write('  {:3d}\\t\\t'.format(i))\r\n",
    "        for k in range(NCAS):\r\n",
    "            if (k == (NCAS-1)):\r\n",
    "                tdm.write('{:4.6f}\\n'.format(mo_weight[k]))\r\n",
    "            else:\r\n",
    "                tdm.write('{:4.6f}\\t'.format(mo_weight[k]))\r\n",
    "            mo_weight[k] = 0\r\n",
    "\r\n",
    "    tdm.write('\\n\\n')\r\n",
    "\r\n",
    "    tdm.close()"
   ],
   "outputs": [
    {
     "output_type": "execute_result",
     "data": {
      "text/plain": [
       "2"
      ]
     },
     "metadata": {},
     "execution_count": 29
    }
   ],
   "metadata": {}
  }
 ],
 "metadata": {
  "kernelspec": {
   "display_name": "Python 3",
   "language": "python",
   "name": "python3"
  },
  "language_info": {
   "codemirror_mode": {
    "name": "ipython",
    "version": 3
   },
   "file_extension": ".py",
   "mimetype": "text/x-python",
   "name": "python",
   "nbconvert_exporter": "python",
   "pygments_lexer": "ipython3",
   "version": "3.6.9"
  }
 },
 "nbformat": 4,
 "nbformat_minor": 4
}