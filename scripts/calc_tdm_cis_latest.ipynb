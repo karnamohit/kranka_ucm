{
 "cells": [
  {
   "cell_type": "markdown",
   "source": [
    "**April 17, 2014**\n",
    " \n",
    "**@author B.F. Habenicht (bfh)**\n",
    "\n",
    "\n",
    "Script to extract MO coefficients, dipole matrix, and CI coefficients from Gaussian simulation and use these to calculate the transition dipole moments between all pairs of states. these will later be used by the python script TD_CIS.py to do excited state electron dynamics in an electric field. we first find the data in the gaussian log file. we then rotate the dipole matrix into the MO basis (from AO basis) using the MO coefficient matrix. once we have this, we then can multiply the appropriate CI coefficients together and multiply those terms times the dipole matrix in the MO basis. These terms are collected and summed to calculate the transition dipole moments between states."
   ],
   "metadata": {}
  },
  {
   "cell_type": "markdown",
   "source": [
    "**Important notes**\n",
    "\n",
    "- For a CIS calculation the default window of MOs within which the single substitutions are carried out is determined by the heaviest atom in the system. To use all the MOs for a CIS calculation, set the following flag: `IOp(8/10=90)`.\n",
    "\n",
    "\\- KR, 06/07/2020"
   ],
   "metadata": {}
  },
  {
   "cell_type": "code",
   "execution_count": 1,
   "source": [
    "import sys\r\n",
    "import numpy as np\r\n",
    "import os\r\n",
    "import shutil\r\n",
    "import re\r\n",
    "import time\r\n",
    "from gauss_hf import *"
   ],
   "outputs": [],
   "metadata": {}
  },
  {
   "cell_type": "markdown",
   "source": [
    "**Defining conversion factors and parameters**"
   ],
   "metadata": {}
  },
  {
   "cell_type": "code",
   "execution_count": 2,
   "source": [
    "# dipole moment conversion factor: 1 debye = 0.393430307 a.u.\r\n",
    "DtoAU = 0.39343\r\n",
    "AUtoD = 1./DtoAU\r\n",
    "\r\n",
    "# energy conversion factor: 1 a.u. = 27.211396 eV\r\n",
    "AUtoEV = 27.211396\r\n",
    "EVtoAU = 1./AUtoEV\r\n",
    "\r\n",
    "# define square root of 2 - bfh\r\n",
    "rt2 = np.sqrt(2)"
   ],
   "outputs": [],
   "metadata": {}
  },
  {
   "cell_type": "code",
   "execution_count": 3,
   "source": [
    "#\r\n",
    "# Route section for CIS calculation using \"GDV i14+\":\r\n",
    "#   #P hf/sto-3g CIS(NStates=9,Root=1,AllTransitionDensities,Singlets)\r\n",
    "#      nosymm IOp(3/33=3,3/36=1,4/33=3,5/33=3,5/72=-3,6/8=1,6/33=3,\r\n",
    "#      8/10=90,9/33=3,9/40=3)\r\n",
    "#\r\n",
    "Logfile = 'cis-8roots_s0_lih_sto-3g.log'\r\n",
    "\r\n",
    "terms = Logfile.split('/')[-1].split('_')\r\n",
    "\r\n",
    "ci_str = list(terms[0])\r\n",
    "# print(ci_str)\r\n",
    "if ci_str[1] == 'i':\r\n",
    "    ci = 'cis'\r\n",
    "else:\r\n",
    "    print('not the right .LOG file for this code.')\r\n",
    "    quit()\r\n",
    "\r\n",
    "#specify CAS here\r\n",
    "roots = terms[0].split('-')[1]\r\n",
    "sN = terms[-3]\r\n",
    "basis = terms[-1].split('.')[0]\r\n",
    "molecule = terms[-2]\r\n",
    "ext = '.'+terms[-1].split('.')[1]"
   ],
   "outputs": [],
   "metadata": {}
  },
  {
   "cell_type": "code",
   "execution_count": 4,
   "source": [
    "debug = 1\r\n",
    "if debug == 1:\r\n",
    "    print('file input:', Logfile)\r\n",
    "    print('detecting whether file exists...')\r\n",
    "    if os.path.isfile(Logfile) == True:\r\n",
    "        print('file exists.')\r\n",
    "    elif os.path.isfile(Logfile) == False:\r\n",
    "        print('error: file does not exist.')\r\n",
    "        #quit()\r\n",
    "debug = 0"
   ],
   "outputs": [
    {
     "output_type": "stream",
     "name": "stdout",
     "text": [
      "file input: ./cis-8roots_s0_lih_sto-3g.log\n",
      "detecting whether file exists...\n",
      "file exists.\n"
     ]
    }
   ],
   "metadata": {
    "tags": []
   }
  },
  {
   "cell_type": "code",
   "execution_count": 5,
   "source": [
    "# read the .LOG file after copying it to 'logfile.tmp'\r\n",
    "outp = 'logfile.tmp'\r\n",
    "shutil.copy(Logfile, outp)\r\n",
    "\r\n",
    "datafile = log_data(outp)\r\n",
    "log_lines = datafile.loglines"
   ],
   "outputs": [
    {
     "output_type": "stream",
     "name": "stdout",
     "text": [
      "\n",
      "Reading data from logfile.tmp...\n",
      "\n",
      "Gaussian .LOG data read.\n",
      "\n"
     ]
    }
   ],
   "metadata": {
    "tags": []
   }
  },
  {
   "cell_type": "markdown",
   "source": [
    "**Defining/reading parameters**"
   ],
   "metadata": {}
  },
  {
   "cell_type": "code",
   "execution_count": 6,
   "source": [
    "# read parameters from the Gaussian .LOG file of CIS calculation\n",
    "#  (currently works for restricted reference, singlet only)\n",
    "#  - KR, 06/07/2020\n",
    "for (n,line) in enumerate(log_lines):\n",
    "    error = False\n",
    "    try:\n",
    "        NMOs = datafile.nao        # total number of basis fns/MOs with double occupancy\n",
    "        NELECT_A = datafile.n_a    # number of alpha electrons in the system\n",
    "        NELECT_B = datafile.n_b    # number of beta electrons in the system\n",
    "        NOCC = NELECT_A            # total number of occupied MOs in the reference\n",
    "        NDOCC = NELECT_B           # number of doubly occupied MOs in the reference\n",
    "        NSOCC = NELECT_A - NELECT_B    # number of singly occupied MOs in the reference\n",
    "        NELECT = NELECT_A + NELECT_B\n",
    "        NOCC = NSOCC + NDOCC\n",
    "        if ('NAtoms' in line):\n",
    "            elements = log_lines[n].split()\n",
    "            # total numer of atoms in the system\n",
    "            NAtoms = int(float(elements[1]))\n",
    "        # specific to CIS calculation\n",
    "        if ('Range of M.O.s used for correlation' in line):\n",
    "            elements = log_lines[n].split()\n",
    "            NMOLow = int(float(elements[-2]))\n",
    "            NMOHigh = int(float(elements[-1]))\n",
    "            # number of MOs with frozen occupation\n",
    "            #   NOTE: entire set of virtual MOs is considered for CIS\n",
    "            NFRZ = NMOLow - 1\n",
    "            NCAS = NMOHigh - NMOLow + 1\n",
    "    except (ValueError, IndexError, TypeError, NameError):\n",
    "        error = True\n",
    "        print('Error encountered while reading parameters.')\n",
    "        print(' Assigning them manually...')\n",
    "        if (molecule == 'sys1_h'):\n",
    "            NMOs=34\n",
    "            NCAS=NMOs\n",
    "            NFRZ=0\n",
    "            NELECT=40\n",
    "            NOCC=int(NELECT/2.)\n",
    "            NAtoms=14\n",
    "            NStates=30\n",
    "        elif (molecule == 'lih'):\n",
    "            NMOs=6\n",
    "            NCAS=NMOs\n",
    "            NFRZ=0\n",
    "            NELECT=4\n",
    "            NOCC=int(NELECT/2.)\n",
    "            NAtoms=2\n",
    "            NStates=9\n",
    "        elif (molecule == 'heh+'):\n",
    "            NMOs=2\n",
    "            NCAS=NMOs\n",
    "            NFRZ=0\n",
    "            NELECT=2\n",
    "            NOCC=int(NELECT/2.)\n",
    "            NAtoms=2\n",
    "            NStates=2\n",
    "        break\n",
    "\n",
    "# specific to CIS calculation\n",
    "if (error == False):\n",
    "    linenum = []\n",
    "    for (n,line) in enumerate(log_lines):\n",
    "        if ('Excited State  ' in line):\n",
    "            elements = log_lines[n].split()\n",
    "            linenum.append(n)\n",
    "    count = -1\n",
    "    n = linenum[count]\n",
    "    elements = log_lines[n].split()[2].split(':')\n",
    "    NStates = int(float(elements[0])) + 1     # number of CI states/CSFs"
   ],
   "outputs": [],
   "metadata": {}
  },
  {
   "cell_type": "code",
   "execution_count": 7,
   "source": [
    "debug = 2\n",
    "if debug == 1:\n",
    "    print('CIS calculation with {} electrons and {} orbitals...'.format(NELECT, NCAS))\n",
    "    print('total no. of MOs with double occupancy:\\t\\t {}'.format(NMOs))\n",
    "    print('no. of occupied MOs with frozen configuration:\\t {}'.format(NFRZ))\n",
    "    print('total no. of occupied MOs:\\t\\t\\t {}'.format(NOCC))\n",
    "    print('total no. of atoms in the system:\\t\\t {}'.format(NAtoms))\n",
    "    print('total no. of determinants in the system:\\t {}'.format(NStates))\n",
    "elif debug == 2:\n",
    "    print('NMOs \\t= {}'.format(NMOs))\n",
    "    print('NCAS \\t= {}'.format(NCAS))\n",
    "    print('NFRZ \\t= {}'.format(NFRZ))\n",
    "    print('NELECT \\t= {}'.format(NELECT))\n",
    "    print('NOCC \\t= {}'.format(NOCC))\n",
    "    print('NAtoms \\t= {}'.format(NAtoms))\n",
    "    print('NStates = {}'.format(NStates))\n",
    "debug = 0"
   ],
   "outputs": [
    {
     "output_type": "stream",
     "name": "stdout",
     "text": [
      "NMOs \t= 6\n",
      "NCAS \t= 6\n",
      "NFRZ \t= 0\n",
      "NELECT \t= 4\n",
      "NOCC \t= 2\n",
      "NAtoms \t= 2\n",
      "NStates = 9\n"
     ]
    }
   ],
   "metadata": {
    "tags": []
   }
  },
  {
   "cell_type": "markdown",
   "source": [
    "**Reading nuclear dipole moments**"
   ],
   "metadata": {}
  },
  {
   "cell_type": "code",
   "execution_count": 8,
   "source": [
    "# reading nuclear dipole moments from .LOG file\n",
    "for (n,line) in enumerate(log_lines):\n",
    "    try:\n",
    "        if ('Nuclear    moments (au)' in line):\n",
    "            elements = log_lines[n+1].split()\n",
    "            # nuclear dipole moment along x-axis of the system in the input\n",
    "            nuc_dipx = float(elements[1])\n",
    "            # nuclear dipole moment along y-axis of the system in the input\n",
    "            nuc_dipy = float(elements[2])\n",
    "            # nuclear dipole moment along z-axis of the system in the input\n",
    "            nuc_dipz = float(elements[3])\n",
    "            nuc_dipx *= AUtoD\n",
    "            nuc_dipy *= AUtoD\n",
    "            nuc_dipz *= AUtoD\n",
    "    except (ValueError, TypeError, NameError):\n",
    "        print('Error encountered. Assigning nuclear dipole moments manually...')\n",
    "        if (molecule == 'lih'):\n",
    "            nuc_dipx=0.0\n",
    "            nuc_dipy=0.0\n",
    "            nuc_dipz=2.89128097\n",
    "        elif (molecule == 'sys1_h'):\n",
    "            nuc_dipx=0.0\n",
    "            nuc_dipy=0.0\n",
    "            nuc_dipz=0.0\n",
    "        break"
   ],
   "outputs": [],
   "metadata": {}
  },
  {
   "cell_type": "code",
   "execution_count": 9,
   "source": [
    "debug = 1\n",
    "if debug == 1:\n",
    "    print('Nuclear dipole moment along-')\n",
    "    print('{}-axis: {:3.2f} D ({:3.4f} a.u.)'\\\n",
    "          .format('x',nuc_dipx,nuc_dipx*DtoAU))\n",
    "    print('{}-axis: {:3.2f} D ({:3.4f} a.u.)'\\\n",
    "          .format('y',nuc_dipy,nuc_dipy*DtoAU))\n",
    "    print('{}-axis: {:3.2f} D ({:3.4f} a.u.)'\\\n",
    "          .format('z',nuc_dipz,nuc_dipz*DtoAU))\n",
    "debug = 0"
   ],
   "outputs": [
    {
     "output_type": "stream",
     "name": "stdout",
     "text": [
      "Nuclear dipole moment along-\n",
      "x-axis: 0.00 D (0.0000 a.u.)\n",
      "y-axis: 0.00 D (0.0000 a.u.)\n",
      "z-axis: 7.35 D (2.8913 a.u.)\n"
     ]
    }
   ],
   "metadata": {
    "tags": []
   }
  },
  {
   "cell_type": "markdown",
   "source": [
    "**Reading dipole moment matrices represented in the AO basis**"
   ],
   "metadata": {}
  },
  {
   "cell_type": "code",
   "execution_count": 10,
   "source": [
    "dipX = datafile.get_dipole_x_AO()\r\n",
    "dipY = datafile.get_dipole_y_AO()\r\n",
    "dipZ = datafile.get_dipole_z_AO()"
   ],
   "outputs": [],
   "metadata": {}
  },
  {
   "cell_type": "code",
   "execution_count": 11,
   "source": [
    "debug = 0\r\n",
    "if debug == 1:\r\n",
    "    print('Dipole X')\r\n",
    "    for i in range(NMOs):\r\n",
    "        for j in range(NMOs):\r\n",
    "            print(\"%d  %d  %f\" % (i,j, dipX[i,j]))\r\n",
    "    print('Dipole Y')\r\n",
    "    for i in range(NMOs):\r\n",
    "        for j in range(NMOs):\r\n",
    "            print(\"%d  %d  %f\" % (i,j, dipY[i,j]))\r\n",
    "    print('Dipole Z')\r\n",
    "    for i in range(NMOs):\r\n",
    "        for j in range(NMOs):\r\n",
    "            print(\"%d  %d  %f\" % (i,j, dipZ[i,j]))\r\n",
    "debug = 0"
   ],
   "outputs": [],
   "metadata": {}
  },
  {
   "cell_type": "markdown",
   "source": [
    "**Reading MO coefficients as column-vectors**"
   ],
   "metadata": {}
  },
  {
   "cell_type": "code",
   "execution_count": 12,
   "source": [
    "# specific to CIS calculation\r\n",
    "MO = datafile.get_MOcoeffs_AO()"
   ],
   "outputs": [],
   "metadata": {}
  },
  {
   "cell_type": "code",
   "execution_count": 13,
   "source": [
    "debug = 0\r\n",
    "if debug == 1:\r\n",
    "    print('MO coefficients (column-vectors):')\r\n",
    "    print(MO)\r\n",
    "debug = 0"
   ],
   "outputs": [],
   "metadata": {
    "scrolled": true
   }
  },
  {
   "cell_type": "markdown",
   "source": [
    "**Transforming the dipole moment matrices from AO basis to MO basis**\n",
    "\n",
    "*(Not necessary for the current method which works entirely within the AO basis)*"
   ],
   "metadata": {}
  },
  {
   "cell_type": "code",
   "execution_count": 14,
   "source": [
    "dipXMO = MO.T.dot(dipX).dot(MO)\n",
    "dipYMO = MO.T.dot(dipY).dot(MO)\n",
    "dipZMO = MO.T.dot(dipZ).dot(MO)"
   ],
   "outputs": [],
   "metadata": {}
  },
  {
   "cell_type": "code",
   "execution_count": 15,
   "source": [
    "debug = 0\n",
    "if (debug == 2):\n",
    "    print('MO Dipole:')\n",
    "    print('x:\\n',dipXMO)\n",
    "    print('y:\\n',dipYMO)\n",
    "    print('z:\\n',dipZMO)\n",
    "debug = 0"
   ],
   "outputs": [],
   "metadata": {}
  },
  {
   "cell_type": "markdown",
   "source": [
    "**Determining the dimensions of the matrix of CI vectors**\n",
    "\n",
    "**NOTE**: The CIS vectors will be, in general, arranged in a rectangular matrix of dimensions $(M \\times N)$, where $M$=`NStates` and $N$=`(NOCC-NMOLow+1)*(NMOHigh-NOCC)]` (or vice versa). For convenience, CI vectors will be saved in arrays as row-vectors. The total number of CIS states is `NStates`, however, the ground state does not mix with the excited states (formed from singly-subsituted determinants upon the reference state). Therefore, the CI vector of the ground state is assigned a vector with full weight to the Hartree-Fock determinant (element `[0,0]` of `CI_vect`)."
   ],
   "metadata": {}
  },
  {
   "cell_type": "code",
   "execution_count": 16,
   "source": [
    "# specific to CIS calculation\n",
    "M = NStates\n",
    "N = int((NOCC - NMOLow + 1)*(NMOHigh - NOCC)) + 1\n",
    "\n",
    "# forming an array of compound indices. This array will be used as\n",
    "#   reference to determine index of the singly-substituted determinant\n",
    "#   within the CI vector array\n",
    "cmpd_indx = []\n",
    "cmpd_indx_dict = {}\n",
    "k = 1\n",
    "for i in range((NMOLow-1),NOCC):\n",
    "    for a in range(NOCC,NMOHigh):\n",
    "        ia = int((a+1)*((a+1)+1)/2 + (i+1))\n",
    "        cmpd_indx.append(ia)\n",
    "        cmpd_indx_dict[str(k)] = [i, a, ia]\n",
    "        k += 1"
   ],
   "outputs": [],
   "metadata": {}
  },
  {
   "cell_type": "code",
   "execution_count": 17,
   "source": [
    "debug = 0\n",
    "if debug == 1:\n",
    "    print('M = {}; N = {}'.format(M,N))\n",
    "elif debug == 2:\n",
    "    print('M = {}; N = {}'.format(M,N))\n",
    "    print('list of compound indices used:')\n",
    "    print(cmpd_indx)\n",
    "    print(cmpd_indx_dict)\n",
    "debug = 0"
   ],
   "outputs": [],
   "metadata": {}
  },
  {
   "cell_type": "markdown",
   "source": [
    "**Reading CI coefficients and energies**"
   ],
   "metadata": {}
  },
  {
   "cell_type": "code",
   "execution_count": 18,
   "source": [
    "# specific to CIS calculation\n",
    "CI_vect = np.zeros([M,N], np.float64)\n",
    "CI_E = np.zeros([M], np.float64)\n",
    "\n",
    "# first element of CI_E will be the HF energy\n",
    "for (n, line) in enumerate(log_lines):\n",
    "    if ('E(RHF) =' in line):\n",
    "        elements = log_lines[n].split()\n",
    "        CI_E[0] = float(elements[4])\n",
    "\n",
    "CI_vect[0,0] = np.float64(1)    # HF determinant contribution to GS is 1.0\n",
    "ia = 0\n",
    "for (n, line) in enumerate(log_lines):\n",
    "    try:\n",
    "        if ('Excited State  ' in line):\n",
    "            elements = log_lines[n].split()[2].split(':')\n",
    "            st_ci = int(float(elements[0]))\n",
    "            CI_E[st_ci] = float(log_lines[n].split()[4])*EVtoAU + CI_E[0]\n",
    "            for i in range(N):\n",
    "                try:\n",
    "                    elements = log_lines[n+1+i].split('->')\n",
    "                    mo_i = int(float(elements[0]))\n",
    "                    mo_a = int(float(elements[1].split()[0]))\n",
    "                    c_ia = float(elements[1].split()[1])\n",
    "                    ia = int(mo_a*(mo_a+1)/2 + mo_i)\n",
    "                    CI_vect[st_ci,(cmpd_indx.index(ia)+1)] = c_ia*rt2\n",
    "                except (ValueError, IndexError, TypeError):\n",
    "                    break\n",
    "    except (IndexError):\n",
    "        break"
   ],
   "outputs": [],
   "metadata": {}
  },
  {
   "cell_type": "code",
   "execution_count": 19,
   "source": [
    "debug = 0\n",
    "if debug == 1:\n",
    "    print('# CI states = ',len(CI_E))\n",
    "    print('CI Eigenvalues (eV):')\n",
    "    print(CI_E[:]*AUtoEV)\n",
    "elif debug == 2:\n",
    "    print('CIS Eigenvalues and Eigenvectors:')\n",
    "    for i in range(M):\n",
    "        print('ECIS(S{}) = {: 4.3f} eV'.format(i, CI_E[i]*AUtoEV))\n",
    "        print(CI_vect[i,:])\n",
    "debug = 0"
   ],
   "outputs": [],
   "metadata": {}
  },
  {
   "cell_type": "markdown",
   "source": [
    "**Reading MO configurations for each determinant in the basis**\n",
    "\n",
    "**NOTE**: The occupation numbers (which is what comprises the \"MO configurations\") are calculated as a sum of weighted occupations of each orbital in the active space, the weights corresponding to the norm-squared of the CI coefficients."
   ],
   "metadata": {}
  },
  {
   "cell_type": "code",
   "execution_count": 20,
   "source": [
    "# specific to CIS calculation\n",
    "\n",
    "# initialize arrays to read and analyze MO configuration for each configuration - bfh\n",
    "config = np.zeros((M,NCAS), np.float64)\n",
    "\n",
    "for i in range(M):\n",
    "    for j in range(NCAS):\n",
    "        if ((j+NFRZ) < NOCC):\n",
    "            config[i,j] = 2\n",
    "        else:\n",
    "            config[i,j] = 0\n",
    "    if (i > 0):\n",
    "        for j in cmpd_indx_dict:\n",
    "            indx = int(j)\n",
    "            index_i = cmpd_indx_dict[str(j)][0]\n",
    "            index_a = cmpd_indx_dict[str(j)][1]\n",
    "            index_ia = int((index_a+1)*((index_a+1)+1)/2 + (index_i+1))\n",
    "            occ_i = 1*CI_vect[i,indx]*np.conjugate(CI_vect[i,indx])\n",
    "            occ_a = 1*CI_vect[i,indx]*np.conjugate(CI_vect[i,indx])\n",
    "            config[i,(index_i-NMOLow+1)] -= occ_i\n",
    "            config[i,(index_a-NMOLow+1)] += occ_a"
   ],
   "outputs": [],
   "metadata": {}
  },
  {
   "cell_type": "code",
   "execution_count": 21,
   "source": [
    "debug = 0\n",
    "if (debug == 1):\n",
    "    print('CIS configurations (within the active space):')\n",
    "    for i in range(NStates):\n",
    "        print('CI state {}   '.format(i))\n",
    "        for j in range(NCAS):\n",
    "            if (j == (NCAS - 1)):\n",
    "                print(config[i,j],end='\\n')\n",
    "            else:\n",
    "                print(config[i,j],end=' ')\n",
    "elif (debug == 2):\n",
    "    print('CIS configurations and multiplicities:')\n",
    "    for i in range(NStates):\n",
    "        print('CI state {}   (multiplicity = {})   '.format(i,multi[i]))\n",
    "        for j in range(NCAS):\n",
    "            if (j == (NCAS - 1)):\n",
    "                print(config[i,j],end='\\n')\n",
    "            else:\n",
    "                print(config[i,j],end=' ')    \n",
    "debug = 0"
   ],
   "outputs": [],
   "metadata": {}
  },
  {
   "cell_type": "markdown",
   "source": [
    "**Calculating electric dipole moment matrix in the CI state basis**\n",
    "\n",
    "**NOTE**: No calculation is involved for CIS transition dipole moment matrix elements, as these values are printed in the `Gaussian` output (`.LOG`) file. For the state dipole moments, we use the formula: $\\boldsymbol{\\mu}_\\text{CI}^{i} = \\text{tr}(\\textbf{P}_\\text{CI}^\\text{AO} \\boldsymbol{\\mu}_\\text{AO}^{i})$, where, $i \\in \\{x, y, z\\}$"
   ],
   "metadata": {}
  },
  {
   "cell_type": "code",
   "execution_count": 22,
   "source": [
    "# specific for CIS calculation\r\n",
    "dipXCI = np.zeros([M,M], np.float64)\r\n",
    "dipYCI = np.zeros([M,M], np.float64)\r\n",
    "dipZCI = np.zeros([M,M], np.float64)\r\n",
    "\r\n",
    "densCI_AO = np.zeros((NMOs, NMOs), np.float64)\r\n",
    "\r\n",
    "print('calculating CI state dipole moments...')\r\n",
    "\r\n",
    "last = NMOs % 5\r\n",
    "if (last == 0):\r\n",
    "    loops = int(NMOs / 5)\r\n",
    "else:\r\n",
    "    loops = int(NMOs / 5) + 1\r\n",
    "for (n, line) in enumerate(log_lines):\r\n",
    "    # reading CI state density\r\n",
    "    if ('Alpha density for excited state' in line):\r\n",
    "        st1 = int(float(log_lines[n].split()[-1]))\r\n",
    "        shift = 0\r\n",
    "        for k in range(loops):\r\n",
    "            try:\r\n",
    "                irange = NMOs - k*5\r\n",
    "                for i in range(irange):\r\n",
    "                    if (k == (loops - 1)):\r\n",
    "                        if (i < last):\r\n",
    "                            end = i + 1\r\n",
    "                        else:\r\n",
    "                            end = last\r\n",
    "                    else:\r\n",
    "                        if (i <= 4):\r\n",
    "                            end = i + 1\r\n",
    "                        else:\r\n",
    "                            end = 5\r\n",
    "                    elements=log_lines[n+2+k+shift+i].split()\r\n",
    "                    for j in range(end):\r\n",
    "                        s = k*5 + j\r\n",
    "                        m = i + k*5\r\n",
    "                        densCI_AO[m,s] = float(elements[j+1])\r\n",
    "                        if (i != j):\r\n",
    "                            densCI_AO[s,m] = densCI_AO[m,s]\r\n",
    "                shift += irange\r\n",
    "            except (IndexError, ValueError):\r\n",
    "                break\r\n",
    "        densCI_AO *= 2\r\n",
    "        dipXCI[st1,st1] = -1*np.trace(np.matmul(densCI_AO,dipX))\r\n",
    "        dipYCI[st1,st1] = -1*np.trace(np.matmul(densCI_AO,dipY))\r\n",
    "        dipZCI[st1,st1] = -1*np.trace(np.matmul(densCI_AO,dipZ))\r\n",
    "        dens_file = 'dens_ci_'+str(st1)+'_'+str(st1)+'.npz'\r\n",
    "        np.savez(dens_file, densCI_AO)\r\n",
    "    # reading ground state (HF) density\r\n",
    "    elif ('Final density matrix:' in line):\r\n",
    "        st1 = 0\r\n",
    "        shift = 0\r\n",
    "        for k in range(loops):\r\n",
    "            try:\r\n",
    "                irange = NMOs - k*5\r\n",
    "                for i in range(irange):\r\n",
    "                    if (k == (loops - 1)):\r\n",
    "                        if (i < last):\r\n",
    "                            end = i + 1\r\n",
    "                        else:\r\n",
    "                            end = last\r\n",
    "                    else:\r\n",
    "                        if (i <= 4):\r\n",
    "                            end = i + 1\r\n",
    "                        else:\r\n",
    "                            end = 5\r\n",
    "                    elements=log_lines[n+2+k+shift+i].split()\r\n",
    "                    for j in range(end):\r\n",
    "                        s = k*5 + j\r\n",
    "                        m = i + k*5\r\n",
    "                        densCI_AO[m,s] = float(elements[j+1])\r\n",
    "                        if (i != j):\r\n",
    "                            densCI_AO[s,m] = densCI_AO[m,s]\r\n",
    "                shift += irange\r\n",
    "            except (IndexError, ValueError):\r\n",
    "                break\r\n",
    "        densCI_AO *= 2\r\n",
    "        dipXCI[st1,st1] = -1*np.trace(np.matmul(densCI_AO,dipX))\r\n",
    "        dipYCI[st1,st1] = -1*np.trace(np.matmul(densCI_AO,dipY))\r\n",
    "        dipZCI[st1,st1] = -1*np.trace(np.matmul(densCI_AO,dipZ))\r\n",
    "        dens_file = 'dens_ci_'+str(st1)+'_'+str(st1)+'.npz'\r\n",
    "        np.savez(dens_file, densCI_AO)"
   ],
   "outputs": [
    {
     "output_type": "stream",
     "name": "stdout",
     "text": [
      "calculating CI state dipole moments...\n"
     ]
    }
   ],
   "metadata": {
    "tags": []
   }
  },
  {
   "cell_type": "code",
   "execution_count": 23,
   "source": [
    "# specific to CIS calculation\r\n",
    "\r\n",
    "print('reading CI transition dipole moments...')\r\n",
    "\r\n",
    "#\r\n",
    "# calculating CI transition dipole moments\r\n",
    "#\r\n",
    "for (n, line) in enumerate(log_lines):\r\n",
    "    if ('Excited to excited state transition electric dipole moments' in line):\r\n",
    "        for i in range(int((M-2)*(M-1)/2)):\r\n",
    "            try:\r\n",
    "                elements = log_lines[n+3+i].split()\r\n",
    "                st1 = int(float(elements[0]))\r\n",
    "                st2 = int(float(elements[1]))\r\n",
    "                dipXCI[st1,st2] = float(elements[2])\r\n",
    "                dipXCI[st2,st1] = dipXCI[st1,st2]\r\n",
    "                dipYCI[st1,st2] = float(elements[3])\r\n",
    "                dipYCI[st2,st1] = dipYCI[st1,st2]\r\n",
    "                dipZCI[st1,st2] = float(elements[4])\r\n",
    "                dipZCI[st2,st1] = dipZCI[st1,st2]\r\n",
    "            except (IndexError, ValueError):\r\n",
    "                break\r\n",
    "    elif ('Ground to excited state transition electric dipole' in line):\r\n",
    "        st1 = 0\r\n",
    "        for i in range(1,M):\r\n",
    "            try:\r\n",
    "                elements = log_lines[n+1+i].split()\r\n",
    "                st2 = int(float(elements[0]))\r\n",
    "                dipXCI[st1,st2] = float(elements[1])\r\n",
    "                dipXCI[st2,st1] = dipXCI[st1,st2]\r\n",
    "                dipYCI[st1,st2] = float(elements[2])\r\n",
    "                dipYCI[st2,st1] = dipYCI[st1,st2]\r\n",
    "                dipZCI[st1,st2] = float(elements[3])\r\n",
    "                dipZCI[st2,st1] = dipZCI[st1,st2]\r\n",
    "            except (IndexError, ValueError):\r\n",
    "                break"
   ],
   "outputs": [
    {
     "output_type": "stream",
     "name": "stdout",
     "text": [
      "reading CI transition dipole moments...\n"
     ]
    }
   ],
   "metadata": {
    "tags": []
   }
  },
  {
   "cell_type": "code",
   "execution_count": 24,
   "source": [
    "# reading transition density matrices b/w ground and excited states\r\n",
    "\r\n",
    "densCI_AO = np.zeros((NMOs, NMOs), np.float64)\r\n",
    "\r\n",
    "for (n,line) in enumerate(log_lines):\r\n",
    "    if ('Alpha transition density to state' in line):\r\n",
    "        elements = log_lines[n].split()\r\n",
    "        st1 = 0\r\n",
    "        st2 = int(float(elements[-1]))\r\n",
    "        #print(st1,st2)\r\n",
    "        densCI_AO_a = np.zeros([NMOs,NMOs], np.float64)\r\n",
    "        densCI_AO_b = np.zeros([NMOs,NMOs], np.float64)\r\n",
    "        for k in range(loops):\r\n",
    "            for i in range(NMOs):\r\n",
    "                try:\r\n",
    "                    if (k == (loops - 1)):\r\n",
    "                        end = last\r\n",
    "                    else:\r\n",
    "                        end = 5\r\n",
    "                    dum1 = n+2+k*(1+NMOs)+i\r\n",
    "                    dum2 = dum1+1+loops*(NMOs+1)\r\n",
    "                    elements_a = log_lines[dum1].split()\r\n",
    "                    elements_b = log_lines[dum2].split()\r\n",
    "                    for j in range(end):\r\n",
    "                        s = k*5 + j\r\n",
    "                        m = i\r\n",
    "                        densCI_AO_a[m,s] = elements_a[j+1]\r\n",
    "                        densCI_AO_b[m,s] = elements_b[j+1]\r\n",
    "                except (IndexError, ValueError):\r\n",
    "                    break\r\n",
    "        densCI_AO = densCI_AO_a + densCI_AO_b\r\n",
    "        dens_file = 'dens_ci_'+str(st1)+'_'+str(st2)+'.npz'\r\n",
    "        np.savez(dens_file, densCI_AO)"
   ],
   "outputs": [],
   "metadata": {
    "tags": []
   }
  },
  {
   "cell_type": "code",
   "execution_count": 25,
   "source": [
    "# reading transition density matrices b/w excited states\r\n",
    "\r\n",
    "densCI_AO = np.zeros((NMOs, NMOs), np.float64)\r\n",
    "\r\n",
    "for (n,line) in enumerate(log_lines):\r\n",
    "    if ('Alpha transition density matrix between excited states' in line):\r\n",
    "        elements = log_lines[n].split()\r\n",
    "        st1 = int(float(elements[-1]))\r\n",
    "        st2 = int(float(elements[-3]))\r\n",
    "        #print(st1,st2)\r\n",
    "        densCI_AO_a = np.zeros([NMOs,NMOs], np.float64)\r\n",
    "        densCI_AO_b = np.zeros([NMOs,NMOs], np.float64)\r\n",
    "        for k in range(loops):\r\n",
    "            for i in range(NMOs):\r\n",
    "                try:\r\n",
    "                    if (k == (loops - 1)):\r\n",
    "                        end = last\r\n",
    "                    else:\r\n",
    "                        end = 5\r\n",
    "                    dum1 = n+2+k*(1+NMOs)+i\r\n",
    "                    dum2 = dum1+2+loops*(NMOs+1)\r\n",
    "                    elements_a = log_lines[dum1].split()\r\n",
    "                    elements_b = log_lines[dum2].split()\r\n",
    "                    for j in range(end):\r\n",
    "                        s = k*5 + j\r\n",
    "                        m = i\r\n",
    "                        densCI_AO_a[m,s] = float(elements_a[j+1])\r\n",
    "                        densCI_AO_b[m,s] = float(elements_b[j+1])\r\n",
    "                except (IndexError, ValueError):\r\n",
    "                    break\r\n",
    "        densCI_AO = densCI_AO_a + densCI_AO_b\r\n",
    "        dens_file = 'dens_ci_'+str(st1)+'_'+str(st2)+'.npz'\r\n",
    "        np.savez(dens_file, densCI_AO)"
   ],
   "outputs": [],
   "metadata": {
    "tags": []
   }
  },
  {
   "cell_type": "code",
   "execution_count": 26,
   "source": [
    "debug = 0\r\n",
    "if debug == 1:\r\n",
    "    print('CI dipole moment matrices (a.u.):')\r\n",
    "    print('along x-axis:\\n', dipXCI)\r\n",
    "    print('along y-axis:\\n', dipYCI)\r\n",
    "    print('along z-axis:\\n', dipZCI)\r\n",
    "elif debug == 2:\r\n",
    "    for i in range(NStates):\r\n",
    "        print('dipole moment (z) of CI state {}  = {} a.u.  '\\\r\n",
    "              .format(i+1, dipZCI[i,i]))\r\n",
    "debug = 0"
   ],
   "outputs": [],
   "metadata": {
    "scrolled": true
   }
  },
  {
   "cell_type": "markdown",
   "source": [
    "**Writing read and computed CI data to `tdm_tdcis.txt` for TDCI calculation** "
   ],
   "metadata": {}
  },
  {
   "cell_type": "code",
   "execution_count": 26,
   "source": [
    "write_output = True"
   ],
   "outputs": [],
   "metadata": {}
  },
  {
   "cell_type": "code",
   "execution_count": 27,
   "source": [
    "if (write_output):\r\n",
    "    # this part is written by bfh and is mostly unchanged\r\n",
    "    \r\n",
    "    # have now calculated the Transition dipole moments. time to get atom coordinates and dump data\r\n",
    "    #  to file so TD_CIS.py can read it in. - bfh\r\n",
    "\r\n",
    "    outname = 'tdm_tdci.txt' # name of the output file, to be read by TDCI script\r\n",
    "\r\n",
    "    tdm = open(outname, 'w')\r\n",
    "    tdm.write('===========================================================================================\\n')\r\n",
    "    tdm.write('   This file contains the information one needs to run a time-dependent CIS simulation.    \\n')\r\n",
    "    tdm.write('===========================================================================================\\n')\r\n",
    "    tdm.write('An initial Gaussian calculation was used to calculate the CI eigenvalues and eigenvectors  \\n')\r\n",
    "    tdm.write('as well as the CI state configurations. The program calc_tdm.py was then used to calculate \\n')\r\n",
    "    tdm.write('the transition dipole moments between the CI states as well as the project of the CI states\\n')\r\n",
    "    tdm.write('onto the molecular orbitals. This file was generated by calc_tdm.py as input to TD_CIS.py. \\n')\r\n",
    "    tdm.write(' -BFH 9 May 2014 (modified by KR 8 June 2019)                                              \\n')\r\n",
    "\r\n",
    "    tdm.write('\\n\\n')\r\n",
    "\r\n",
    "    # parameters for the TDCI script\r\n",
    "\r\n",
    "    tdm.write('CI calculation parameters\\n\\n')\r\n",
    "    tdm.write(' title   = {}\\n'.format(mol+'_'+basis))\r\n",
    "    tdm.write(' method  = {}\\n'.format(ci))\r\n",
    "    tdm.write(' NMOLow  = {}\\n'.format(NMOLow))\r\n",
    "    tdm.write(' NMOHigh = {}\\n'.format(NMOHigh))\r\n",
    "    tdm.write(' NMOs    = {}\\n'.format(NMOs))\r\n",
    "    tdm.write(' NCAS    = {}\\n'.format(NCAS))\r\n",
    "    tdm.write(' NFRZ    = {}\\n'.format(NFRZ))\r\n",
    "    tdm.write(' NOCC    = {}\\n'.format(NOCC))\r\n",
    "    tdm.write(' NELECT  = {}\\n'.format(NELECT))\r\n",
    "    tdm.write(' NAtoms  = {}\\n'.format(NAtoms))\r\n",
    "    tdm.write(' NStates = {}\\n'.format(NStates))\r\n",
    "\r\n",
    "    tdm.write('\\n\\n')\r\n",
    "\r\n",
    "    tdm.write('Nuclear dipole moments (a.u.) \\n\\n')\r\n",
    "    tdm.write(' x = {: 4.3f} \\n'.format(nuc_dipx*DtoAU))\r\n",
    "    tdm.write(' y = {: 4.3f} \\n'.format(nuc_dipy*DtoAU))\r\n",
    "    tdm.write(' z = {: 4.3f} \\n'.format(nuc_dipz*DtoAU))\r\n",
    "\r\n",
    "    tdm.write('\\n\\n')\r\n",
    "\r\n",
    "    tdm.write('Setting up the atomic coordinates \\n\\n')\r\n",
    "    tdm.write(' Standard orientation: \\n')\r\n",
    "    tdm.write(' ------------------------------------------------------------------- \\n')\r\n",
    "    tdm.write(' Center   Atomic     Atomic            Coordinates (Angstroms)       \\n')\r\n",
    "    tdm.write(' Number   Number      Type            X            Y          Z      \\n')\r\n",
    "    tdm.write(' ------------------------------------------------------------------- \\n')\r\n",
    "\r\n",
    "\r\n",
    "    coords = np.zeros([NAtoms,3], np.float64)\r\n",
    "    atom_info = np.zeros([NAtoms,3], np.float64)\r\n",
    "\r\n",
    "    for (n, line) in enumerate(log_lines):\r\n",
    "        if (' Standard basis:' in line):\r\n",
    "            for i in range(NAtoms):\r\n",
    "                elements = log_lines[n + i + 6].split()\r\n",
    "                atom_info[i,0] = float(elements[0])\r\n",
    "                atom_info[i,1] = float(elements[1])\r\n",
    "                atom_info[i,2] = float(elements[2])\r\n",
    "                coords[i,0] = float(elements[3])\r\n",
    "                coords[i,1] = float(elements[4])\r\n",
    "                coords[i,2] = float(elements[5])\r\n",
    "                tdm.write('  %-10s %-10s %-10s %-10s %-10s %-10s' % (atom_info[i][0], atom_info[i][1], atom_info[i][2], coords[i][0], coords[i][1], coords[i][2]) + \"\\n\")\r\n",
    "\r\n",
    "    tdm.write('\\n\\n')\r\n",
    "\r\n",
    "    # input SCF energy- assume energy of first NState - bfh\r\n",
    "\r\n",
    "    tdm.write('SCF Energy \\n\\n')\r\n",
    "    tdm.write(' SCF Done: E(RHF) = ' + str(CI_E[0]) + '  Ha \\n')\r\n",
    "\r\n",
    "    tdm.write('\\n\\n')\r\n",
    "\r\n",
    "    # Excited State energies - bfh\r\n",
    "\r\n",
    "    tdm.write('Excited state energies (eV) \\n\\n')\r\n",
    "    for i in range(1,NStates):\r\n",
    "        prt_E = (CI_E[i] - CI_E[0])*AUtoEV\r\n",
    "        tdm.write(' Excited State {:3d} \\t {:4.6f}\\n'.format(i, prt_E))\r\n",
    "\r\n",
    "    tdm.write('\\n\\n')\r\n",
    "\r\n",
    "    # CI electric dipole moments - bfh\r\n",
    "\r\n",
    "    tdm.write('CI electric dipole moments (a.u.) \\n\\n')\r\n",
    "    tdm.write(' CI state and transition dipole moments\\n')\r\n",
    "    tdm.write(' state I  state J \\t      X \\t\\t      Y \\t\\t      Z \\t\\t   Dip. S. \\t\\t    Osc.\\n' )\r\n",
    "    for i in range(NStates):\r\n",
    "        for j in range(NStates):\r\n",
    "            tdm.write('   {} \\t    {} \\t\\t  {:3.7f}  \\t  {:3.7f}  \\t  {:3.7f}  \\t  {:3.7f}  \\t  {:3.7f}\\n'.format(i, j, dipXCI[j,i], dipYCI[j,i], dipZCI[j,i], 0.0, 0.0))\r\n",
    "\r\n",
    "    tdm.write('\\n\\n')\r\n",
    "\r\n",
    "    # Finally, need to write out information on CI configs and MOs occupations - bfh\r\n",
    "\r\n",
    "    tdm.write('Output CI Vectors \\n\\n')\r\n",
    "    tdm.write(' CI state       CI coeffs 1...N \\n')\r\n",
    "    for i in range(M):\r\n",
    "        tdm.write('  %4d \\t\\t' % i )\r\n",
    "        for j in range(N):\r\n",
    "            tdm.write('%6.6f\\t' % CI_vect[i,j])\r\n",
    "        tdm.write('\\n')\r\n",
    "\r\n",
    "    tdm.write('\\n\\n')\r\n",
    "\r\n",
    "    #note, want state # then number for each orbital. something like\r\n",
    "    #   state       MO 1     MO 2    MO 3     MO 4\r\n",
    "    #     1         1.95     1.95    0.05     0.05\r\n",
    "    # - bfh\r\n",
    "\r\n",
    "    mo_weight = np.zeros([NCAS], np.float64)\r\n",
    "    tdm.write('Orbital electron configuration weighting for CI States \\n\\n')\r\n",
    "    tdm.write(' CI State \\t\\t Orbital Weights 1...N  \\n')\r\n",
    "    for i in range(M):\r\n",
    "        for k in range(NCAS):\r\n",
    "            mo_weight[k] = float(config[i,k])\r\n",
    "        tdm.write('  {:3d}\\t\\t'.format(i))\r\n",
    "        for k in range(NCAS):\r\n",
    "            if (k == (NCAS - 1)):\r\n",
    "                tdm.write('{:4.6f}\\n'.format(mo_weight[k]))\r\n",
    "            else:\r\n",
    "                tdm.write('{:4.6f}\\t'.format(mo_weight[k]))\r\n",
    "            mo_weight[k] = 0\r\n",
    "\r\n",
    "    tdm.write('\\n\\n')\r\n",
    "\r\n",
    "    tdm.close()"
   ],
   "outputs": [
    {
     "output_type": "execute_result",
     "data": {
      "text/plain": [
       "2"
      ]
     },
     "metadata": {},
     "execution_count": 27
    }
   ],
   "metadata": {}
  }
 ],
 "metadata": {
  "kernelspec": {
   "display_name": "Python 3",
   "language": "python",
   "name": "python3"
  },
  "language_info": {
   "codemirror_mode": {
    "name": "ipython",
    "version": 3
   },
   "file_extension": ".py",
   "mimetype": "text/x-python",
   "name": "python",
   "nbconvert_exporter": "python",
   "pygments_lexer": "ipython3",
   "version": "3.6.9"
  }
 },
 "nbformat": 4,
 "nbformat_minor": 4
}