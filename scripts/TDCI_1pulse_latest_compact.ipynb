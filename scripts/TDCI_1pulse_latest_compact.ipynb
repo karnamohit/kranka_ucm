{
 "cells": [
  {
   "cell_type": "markdown",
   "metadata": {},
   "source": [
    "**July 2nd, 2013**\n",
    "\n",
    "**@author C. M. Isborn, Noriyuki Tani**\n",
    "\n",
    "### General\n",
    "\n",
    "This script extracts data (coordinates, transition dipoles, excitation energies) from a CI (only CIS or CASSCF, currently) computation. Does not extract oscillator strengths yet. It uses the extracted data to calculate electronic dynamics using the TDCI method.\n",
    "\n",
    "**NOTE**: The script assumes a square matrix made up of row-vectors of CI-coefficients for a CASSCF calculation, and a general rectangular matrix (# columns > # rows) one for a CIS calculation. - KR (06/13/2020)\n",
    "\n",
    "### Applying EM pulse\n",
    "\n",
    "The only kind of external field application implemented is the electric field under the dipole approximation. The application of the electric field is currently limited to a single pulse of a sinusoidal wave. The only kinds of pulse-envelope functions currently available are a smooth trapezoidal (the line-slopes of the trapzoid are replaced by two sigmoid functions), Gaussian and cosine.\n",
    "\n",
    "(modified by B. Habenicht (`bfh`) and KR (`KR`) (b/w 2014 and 2020))"
   ]
  },
  {
   "cell_type": "markdown",
   "metadata": {},
   "source": [
    "### Note: Running `TDCI_1pulse_latest.<ipynb/py>`\n",
    "\n",
    "This script is meant to be run in the folder where the file `tdm_tdci.txt` is stored. This would typically mean that the script `calc_tdm_<cis/casscf>_latest.<ipynb/py>`, which produces `tdm_tdci.txt`, is also stored in the same folder, but this is not required."
   ]
  },
  {
   "cell_type": "code",
   "execution_count": 2,
   "metadata": {},
   "outputs": [],
   "source": [
    "%matplotlib inline\n",
    "\n",
    "import sys                         # for interfacing with the shell\n",
    "import numpy as np                 # for numerical work\n",
    "import os                          # for interacting with the operating system\n",
    "import shutil                      # for interfacing with the shell\n",
    "import time                        # for timing loops/printing more readably\n",
    "import matplotlib.pyplot as plt    # for plotting\n",
    "from gauss_hf import *"
   ]
  },
  {
   "cell_type": "markdown",
   "metadata": {},
   "source": [
    "**Defining conversion factors and parameters**"
   ]
  },
  {
   "cell_type": "code",
   "execution_count": 3,
   "metadata": {},
   "outputs": [],
   "source": [
    "#====================\n",
    "# CONVERSION FACTORS\n",
    "#====================\n",
    "# dipole moment: 1 debye = 0.393430307 a.u.\n",
    "DtoAU = 0.39343\n",
    "AUtoD = 1./DtoAU\n",
    "# energy: 1 Ha = 27.211396 eV\n",
    "#              = 219474.6305 /cm\n",
    "#              = 6.579691506102500e15 Hz\n",
    "HAtoEV = 27.211396\n",
    "EVtoHA = 1./HAtoEV\n",
    "HAtoHZ = 6.5796915061025e15\n",
    "HZtoHA = 1./HAtoHZ\n",
    "# time: 1 a.u. = 0.02418884254 fs\n",
    "AUtoFS = 0.02418884\n",
    "FStoAU = 1./AUtoFS\n",
    "#===========\n",
    "# CONSTANTS\n",
    "#===========\n",
    "# atomic {int(number): [str(symbol), float(mass)]} (up to 2nd row)\n",
    "AtomicMass = {1: ['H', 1.0079], 2: ['He', 4.0026], 3: ['Li', 6.941], \\\n",
    "              4: ['Be', 9.0122], 5: ['B', 10.811], 6: ['C', 12.0107], \\\n",
    "              7: ['N', 14.0067], 8: ['O', 15.9994], 9: ['F', 18.9984], \\\n",
    "              10: ['Ne', 20.1797] \\\n",
    "             }"
   ]
  },
  {
   "cell_type": "markdown",
   "metadata": {},
   "source": [
    "### Reading log-file"
   ]
  },
  {
   "cell_type": "code",
   "execution_count": 3,
   "metadata": {},
   "outputs": [],
   "source": [
    "# this is the output file produced by \"calc_tdm_mod-KR_<cis or casscf>_latest\"\n",
    "Logfile = 'tdm_tdci.txt'\n",
    "\n",
    "# check whether \"tdm_tdci.txt\" exists\n",
    "if os.path.isfile(Logfile) == True:\n",
    "    print('file exists.')\n",
    "elif os.path.isfile(Logfile) == False:\n",
    "    print('error: file does not exist.')\n",
    "    quit()"
   ]
  },
  {
   "cell_type": "code",
   "execution_count": 5,
   "metadata": {},
   "outputs": [],
   "source": [
    "data_file = log_data.(logfile=Logfile, nonlog_error_msg=False)\n",
    "log_lines = data_file.loglines"
   ]
  },
  {
   "cell_type": "markdown",
   "metadata": {},
   "source": [
    "**Reading CI calculation parameters**"
   ]
  },
  {
   "cell_type": "code",
   "execution_count": 6,
   "metadata": {},
   "outputs": [],
   "source": [
    "for (n,line) in enumerate(log_lines):\n",
    "    try:\n",
    "        if ('title' in line):\n",
    "            # system name for output directory\n",
    "            title = log_lines[n].split('=')[-1].strip()\n",
    "        if ('method' in line):\n",
    "            # CI method\n",
    "            ci = log_lines[n].split('=')[-1].strip()\n",
    "        if ('NMOLow' in line):\n",
    "            # Lowest MO in the active space of CIS\n",
    "            NMOLow = int(float(log_lines[n].split('=')[-1]))\n",
    "        if ('NMOHigh' in line):\n",
    "            # Highest MO in the active space of CIS\n",
    "            NMOHigh = int(float(log_lines[n].split('=')[-1]))\n",
    "        if ('NMOs' in line):\n",
    "            # Total number of MOs, set to NCAS later\n",
    "            NMOs = int(float(log_lines[n].split('=')[-1]))\n",
    "        if ('NCAS' in line):\n",
    "            # Number of MOs in the CI active space\n",
    "            NCAS = int(float(log_lines[n].split('=')[-1]))\n",
    "        if ('NFRZ' in line):\n",
    "            # Number of MOs w/ frozen occupation\n",
    "            NFRZ = int(float(log_lines[n].split('=')[-1]))\n",
    "        if ('NOCC' in line):\n",
    "            # Number of (doubly) occupied MOs\n",
    "            NOCC = int(float(log_lines[n].split('=')[-1]))\n",
    "        if ('NELECT' in line):\n",
    "            # Number of electrons\n",
    "            #   (= 2 x # alpha electrons for restricted reference)\n",
    "            NELECT = int(float(log_lines[n].split('=')[-1]))\n",
    "        if ('NAtoms' in line):\n",
    "            # Number of atoms in the molecular system\n",
    "            NAtoms = int(float(log_lines[n].split('=')[-1]))\n",
    "        if ('NStates' in line):\n",
    "            # Number of CI states (including the ground state)\n",
    "            NStates = int(float(log_lines[n].split('=')[-1]))\n",
    "    except (IndexError, ValueError):\n",
    "        print('Error encountered while reading parameters.')\n",
    "        print('Check the contents of \"tdm_tdci.txt\"')\n",
    "        quit()\n",
    "NMOs = NCAS        # Number of MOs in CAS\n",
    "NSim = NStates     # Number of states in simulation (redundant at the moment)\n",
    "\n",
    "# set dimensions of the CI matrices based on CI calculation-type\n",
    "if (ci == 'casscf'):\n",
    "    M = NStates\n",
    "    N = NStates\n",
    "elif (ci == 'cis'):\n",
    "    M = NStates\n",
    "    N = int((NOCC - NMOLow + 1)*(NMOHigh - NOCC)) + 1\n",
    "else:\n",
    "    print('requested method is not supported yet.')\n",
    "    quit()"
   ]
  },
  {
   "cell_type": "code",
   "execution_count": 7,
   "metadata": {
    "scrolled": true
   },
   "outputs": [
    {
     "name": "stdout",
     "output_type": "stream",
     "text": [
      "method \t= \"cis\"\n",
      "NMOLow \t= 1\n",
      "NMOHigh = 34\n",
      "NCAS \t= 34\n",
      "NFRZ \t= 0\n",
      "NMOs \t= 34\n",
      "NOCC \t= 20\n",
      "NELECT \t= 40\n",
      "NAtoms \t= 14\n",
      "NStates = 31\n",
      "NSim    = 31\n"
     ]
    }
   ],
   "source": [
    "debug = 1\n",
    "if debug == 1:\n",
    "    print('method \\t= \"{}\"'.format(ci))\n",
    "    if (ci == 'cis'):\n",
    "        print('NMOLow \\t= {}'.format(NMOLow))\n",
    "        print('NMOHigh = {}'.format(NMOHigh))\n",
    "    print('NCAS \\t= {}'.format(NCAS))\n",
    "    print('NFRZ \\t= {}'.format(NFRZ))\n",
    "    print('NMOs \\t= {}'.format(NMOs + NFRZ))\n",
    "    print('NOCC \\t= {}'.format(NOCC))\n",
    "    print('NELECT \\t= {}'.format(NELECT))\n",
    "    print('NAtoms \\t= {}'.format(NAtoms))\n",
    "    print('NStates = {}'.format(NStates))\n",
    "    print('NSim    = {}'.format(NSim))\n",
    "debug = 0"
   ]
  },
  {
   "cell_type": "markdown",
   "metadata": {},
   "source": [
    "**Reading orientation of the molecule**"
   ]
  },
  {
   "cell_type": "code",
   "execution_count": 8,
   "metadata": {},
   "outputs": [],
   "source": [
    "# Set up empty array for coordinates\n",
    "AtNum = np.zeros([NAtoms], np.float64)\n",
    "AtMass = np.zeros([NAtoms], np.float64)\n",
    "CoordsX = np.zeros([NAtoms], np.float64)\n",
    "CoordsY = np.zeros([NAtoms], np.float64)\n",
    "CoordsZ = np.zeros([NAtoms], np.float64)\n",
    "# Get coordinates \n",
    "for (n, line) in enumerate(log_lines):\n",
    "    if ('Standard orientation:' in line): \n",
    "        for i in range(NAtoms):\n",
    "            elements = log_lines[n+i+5].split()\n",
    "            AtNum[i] = int(float(elements[1]))\n",
    "            AtMass[i] = AtomicMass[AtNum[i]][1]\n",
    "            CoordsX[i] = float(elements[3])\n",
    "            CoordsY[i] = float(elements[4])\n",
    "            CoordsZ[i] = float(elements[5])"
   ]
  },
  {
   "cell_type": "markdown",
   "metadata": {},
   "source": [
    "**Reading nuclear dipole moments**"
   ]
  },
  {
   "cell_type": "code",
   "execution_count": 9,
   "metadata": {},
   "outputs": [],
   "source": [
    "for (n, line) in enumerate(log_lines):\n",
    "    if ('Nuclear dipole moments (a.u.)' in line):\n",
    "        i = n + 2\n",
    "        NucDipX = float(log_lines[i].split('=')[-1])\n",
    "        NucDipY = float(log_lines[i+1].split('=')[-1])\n",
    "        NucDipZ = float(log_lines[i+2].split('=')[-1])"
   ]
  },
  {
   "cell_type": "code",
   "execution_count": 10,
   "metadata": {},
   "outputs": [
    {
     "name": "stdout",
     "output_type": "stream",
     "text": [
      "Molecular geometry:\n",
      " Atom  \t    x \t    y \t    z\n",
      "  C\t  0.800\t -0.665\t -0.118\n",
      "  C\t  2.007\t -0.111\t  0.118\n",
      "  N\t -0.420\t -0.021\t -0.259\n",
      "  H\t  0.727\t -1.743\t -0.257\n",
      "  H\t  2.890\t -0.740\t  0.127\n",
      "  H\t  2.156\t  0.951\t  0.282\n",
      "  C\t -0.466\t  1.407\t -0.003\n",
      "  C\t -1.609\t -0.763\t  0.137\n",
      "  H\t  0.281\t  1.918\t -0.619\n",
      "  H\t -0.269\t  1.653\t  1.056\n",
      "  H\t -1.455\t  1.790\t -0.272\n",
      "  H\t -1.765\t -0.766\t  1.230\n",
      "  H\t -1.521\t -1.802\t -0.198\n",
      "  H\t -2.494\t -0.325\t -0.338\n",
      "\n",
      "Nuclear dipole moments (a.u.):\n",
      " nuc. dip. mom. (x) =  0.000\n",
      " nuc. dip. mom. (y) = -0.000\n",
      " nuc. dip. mom. (z) = -0.000\n"
     ]
    }
   ],
   "source": [
    "debug = 1\n",
    "if debug == 1:\n",
    "    # print to screen\n",
    "    print('Molecular geometry:')\n",
    "    print(' Atom  \\t    x \\t    y \\t    z')\n",
    "    for i in range(NAtoms):\n",
    "        AtSymbol = AtomicMass[AtNum[i]][0]\n",
    "        print('  {}\\t {: 4.3f}\\t {: 4.3f}\\t {: 4.3f}'\\\n",
    "              .format(AtSymbol, CoordsX[i], CoordsY[i], CoordsZ[i]))\n",
    "    print('\\nNuclear dipole moments (a.u.):')\n",
    "    print(' nuc. dip. mom. (x) = {: 4.3f}'.format(NucDipX))\n",
    "    print(' nuc. dip. mom. (y) = {: 4.3f}'.format(NucDipY))\n",
    "    print(' nuc. dip. mom. (z) = {: 4.3f}'.format(NucDipZ))\n",
    "debug = 0"
   ]
  },
  {
   "cell_type": "markdown",
   "metadata": {},
   "source": [
    "**Read Hartree-Fock SCF and CI energies** "
   ]
  },
  {
   "cell_type": "code",
   "execution_count": 11,
   "metadata": {},
   "outputs": [],
   "source": [
    "# Get SCF Energy\n",
    "for (n, line) in enumerate(log_lines):\n",
    "    if ('SCF Done' in line):\n",
    "        elements = log_lines[n].split()\n",
    "        ESCF = float(elements[4])\n",
    "# Get CIS energy\n",
    "CI_Energies = np.zeros([M], np.float64)\n",
    "for (n,line) in enumerate(log_lines):\n",
    "    if('Excited State ' in line):\n",
    "        elements = log_lines[n].split()\n",
    "        st = int(float(elements[2]))\n",
    "        CI_Energies[st] = float(elements[3])*EVtoHA\n",
    "CI_Energies[:] += ESCF"
   ]
  },
  {
   "cell_type": "markdown",
   "metadata": {},
   "source": [
    "**Reading CI dipole moments**"
   ]
  },
  {
   "cell_type": "code",
   "execution_count": 12,
   "metadata": {},
   "outputs": [],
   "source": [
    "CI_Dipoles = np.zeros((M, M), dtype='object')\n",
    "linenum = []\n",
    "for (n,line) in enumerate(log_lines):\n",
    "    try:\n",
    "        if ('CI state and transition dipole moments' in line):\n",
    "            linenum.append(n)\n",
    "    except (IndexError, ValueError):\n",
    "        break\n",
    "count = -1\n",
    "n = linenum[count]\n",
    "k = 2\n",
    "while (k <= int(M**2 + 2)):\n",
    "    try:\n",
    "        elements = log_lines[n+k].split()\n",
    "        st1 = int(float(elements[0]))\n",
    "        st2 = int(float(elements[1]))\n",
    "        dipvec = [float(elements[2]), float(elements[3]), float(elements[4])] \n",
    "        CI_Dipoles[st1,st2] = dipvec\n",
    "        k += 1\n",
    "    except (IndexError, ValueError):\n",
    "        break"
   ]
  },
  {
   "cell_type": "markdown",
   "metadata": {},
   "source": [
    "**Reading CI vectors**"
   ]
  },
  {
   "cell_type": "code",
   "execution_count": 13,
   "metadata": {},
   "outputs": [],
   "source": [
    "CI_vect = np.zeros([M, N], np.float64)\n",
    "linenum = []\n",
    "for (n,line) in enumerate(log_lines):\n",
    "    try:\n",
    "        if ('Output CI Vectors' in line):\n",
    "            linenum.append(n)\n",
    "    except (IndexError, ValueError):\n",
    "        break\n",
    "n = linenum[-1]\n",
    "k = 3\n",
    "while (k <= (M + 3)):\n",
    "    try:\n",
    "        elements = log_lines[n+k].split()\n",
    "        i = int(float(elements[0]))\n",
    "        for j in range(N):\n",
    "            CI_vect[i,j] = float(elements[j+1])\n",
    "        k += 1\n",
    "    except (IndexError, ValueError):\n",
    "        break"
   ]
  },
  {
   "cell_type": "markdown",
   "metadata": {},
   "source": [
    "**Reading CI configurations**"
   ]
  },
  {
   "cell_type": "code",
   "execution_count": 15,
   "metadata": {},
   "outputs": [],
   "source": [
    "# get state-configuration info\n",
    "config = np.zeros([M,NMOs], np.float64)\n",
    "linenum = []\n",
    "for (n,line) in enumerate(log_lines):\n",
    "    if ('Orbital electron configuration' in line):\n",
    "        linenum.append(n)\n",
    "n = linenum[-1]\n",
    "k = 3\n",
    "while (k < (M + 3)):\n",
    "    try:\n",
    "        elements = log_lines[n+k].split()\n",
    "        i = int(float(elements[0]))\n",
    "        for j in range(NMOs):\n",
    "            try:\n",
    "                config[i,j] = float(elements[j+1])\n",
    "            except (IndexError, ValueError):\n",
    "                break\n",
    "        k += 1\n",
    "    except (IndexError, ValueError):\n",
    "        break"
   ]
  },
  {
   "cell_type": "code",
   "execution_count": 16,
   "metadata": {},
   "outputs": [],
   "source": [
    "debug = 0\n",
    "if debug == 1:\n",
    "    print('ESCF =',ESCF,' Ha\\n')\n",
    "    print('CI Excitation Energies (Ha)')\n",
    "    print(CI_Energies[1:] - CI_Energies[0],'\\n')\n",
    "    print('CI Vectors')\n",
    "    print(CI_vect,'\\n')\n",
    "    print('CI Electric Dipole Moments [x, y, z] (a.u.)')\n",
    "    print(CI_Dipoles)\n",
    "    print('CI congfigurations\\n')\n",
    "    print(config)\n",
    "debug = 0"
   ]
  },
  {
   "cell_type": "markdown",
   "metadata": {},
   "source": [
    "### Setting propagation and field parameters"
   ]
  },
  {
   "cell_type": "code",
   "execution_count": 19,
   "metadata": {},
   "outputs": [],
   "source": [
    "# starting and targeted state-indices: chosen from the set of CI states (int)\n",
    "st_ini = 0\n",
    "st_trg = 1\n",
    "# excitation energy (float)\n",
    "deltaE = abs(CI_Energies[st_ini] - CI_Energies[st_trg])\n",
    "#\n",
    "# field arguments\n",
    "#\n",
    "# number of integration steps (int)\n",
    "maxstep = 5000\n",
    "# step-size (in au) (float)\n",
    "delta = 0.083\n",
    "# electric field amplitude (in au) (float)\n",
    "emax = 0.5000\n",
    "# frequency of field (in Ha) (float)\n",
    "w = deltaE\n",
    "# period of the field (in au) (int)\n",
    "period_au = 2.*np.pi/w\n",
    "# period of the field (in time-steps) (int)\n",
    "period_tsteps = int(period_au/delta)\n",
    "# cycles for which field is switched on (int)\n",
    "ncyc = 3\n",
    "# phase of electric field (float)\n",
    "phase = 0.0\n",
    "# step number to turn on field (int)\n",
    "ton = int(0)\n",
    "# duration for which the field is switched on (int)\n",
    "duration = int(ncyc*period_tsteps + 1)\n",
    "# step number to turn off field (int)\n",
    "toff = ton + duration\n",
    "# conversion factor for time-steps to fs (float)\n",
    "steptofs = AUtoFS*delta\n",
    "# using field-envelope for the field? (logical)\n",
    "envelope_apply = False"
   ]
  },
  {
   "cell_type": "markdown",
   "metadata": {},
   "source": [
    "**Setting up the pulse-envelope**\n",
    "\n",
    "**NOTE**: Set `envelope_apply = True` above to apply the envelope. The envelope is currently only for one pulse."
   ]
  },
  {
   "cell_type": "code",
   "execution_count": 20,
   "metadata": {},
   "outputs": [],
   "source": [
    "if (envelope_apply == True):\n",
    "    # the envelope shape ('trapezoidal', 'gaussian', 'cosine')\n",
    "    envelope = 'trapezoidal'\n",
    "    # split \"duration\" into cycles within the envelope\n",
    "    cyc = 1    # can be \"ncyc\"\n",
    "    # chirp (in au)\n",
    "    chirp = 0.01\n",
    "    # in case cyc is set to 1 or 0, to avoid breaking the code\n",
    "    cyc += 2\n",
    "    # scaled period in time-steps\n",
    "    period_tsteps_scaled = int(duration/cyc)\n",
    "    #\n",
    "    # envelope = 'trapezoidal'\n",
    "    #\n",
    "    # exponent that determines sharpness of inflection (smooth trapezoid)\n",
    "    decay = 0.05\n",
    "    y= np.zeros((maxstep), np.float64)\n",
    "    if(envelope == 'trapezoidal'):\n",
    "        for t in range(ton,toff):\n",
    "            if(t < toff):\n",
    "                t_red_up = t-ton-period_tsteps_scaled/2\n",
    "                t_red_down = t_red_up-(cyc-1)*period_tsteps_scaled\n",
    "                if (t < ((cyc - 1)*period_tsteps_scaled + ton)):\n",
    "                    if (t < (period_tsteps_scaled + ton)):\n",
    "                        y[t] = 1/(1+np.exp(-decay*t_red_up))\n",
    "                    else:\n",
    "                        y[t] = 1/(1+np.exp(-decay*(period_tsteps_scaled/2)))\n",
    "                else:\n",
    "                    y[t] = 1-1/(1+np.exp(-decay*t_red_down))\n",
    "            else:\n",
    "                y[t] = 0\n",
    "    #\n",
    "    # envelope = 'gaussian'\n",
    "    #\n",
    "    elif(envelope == 'gaussian'):\n",
    "        for t in range(ton,toff):\n",
    "            if (t < toff):\n",
    "                y[t] = np.exp(-16*np.log(2)*((toff - t)/duration-1/2)**2)\n",
    "                y[t] -= 1/16\n",
    "                y[t] /= 15/16\n",
    "            else:\n",
    "                y[t] = 0\n",
    "    #\n",
    "    # envelope = 'cosine'\n",
    "    #\n",
    "    elif(envelope == 'cosine'):\n",
    "        for t in range(ton,toff):\n",
    "            if (t < toff):\n",
    "                y[t] = 0.5 - np.cos(2*(np.pi)*(toff - t)/duration)/2\n",
    "            else:\n",
    "                y[t] = 0"
   ]
  },
  {
   "cell_type": "code",
   "execution_count": 21,
   "metadata": {},
   "outputs": [
    {
     "name": "stdout",
     "output_type": "stream",
     "text": [
      "Initial state    = 0\n",
      "Target state     = 1\n",
      "dt               = 0.083 au\n",
      "Nt               = 5000 propagation steps\n",
      "Field amplitude  = 0.500 au\n",
      "Field frequency  = 0.348 au\n",
      "Field period     = 18.060 au\n",
      "                 = 217 steps\n",
      "Field cycles     = 3\n",
      "Field phase      = 0.000 rads\n",
      "Switch field on  at time-step 0\n",
      "             off at time-step 652\n",
      "\n",
      "\n",
      "Is the envelope being used? True\n",
      "\n",
      "Pulse-envelope details:\n",
      "\n",
      "Shape-\n",
      "3-cycle trapezoidal pulse\n",
      " (sigmoidal ramping)\n",
      "\n",
      "Field-\n",
      "Max. field str. = 0.500 au,\n",
      "linear chirp frequencies:\n",
      " initial = 0.338 au,\n",
      " final   = 0.358 au\n",
      "\n",
      "Plotting the envelope\n"
     ]
    },
    {
     "data": {
      "image/png": "[encoded data removed]",
      "text/plain": [
       "<Figure size 432x288 with 1 Axes>"
      ]
     },
     "metadata": {
      "needs_background": "light"
     },
     "output_type": "display_data"
    }
   ],
   "source": [
    "debug = 1\n",
    "if debug == 1:\n",
    "    print('Initial state    = {}'.format(st_ini))\n",
    "    print('Target state     = {}'.format(st_trg))\n",
    "    print('dt               = {:4.3f} au'.format(delta))\n",
    "    print('Nt               = {} propagation steps'.format(maxstep))\n",
    "    print('Field amplitude  = {:4.3f} au'.format(emax))\n",
    "    print('Field frequency  = {:4.3f} au'.format(w))\n",
    "    print('Field period     = {:4.3f} au'.format(period_au))\n",
    "    print('                 = {} steps'.format(period_tsteps))\n",
    "    print('Field cycles     = {}'.format(ncyc))\n",
    "    print('Field phase      = {:4.3f} rads'.format(phase))\n",
    "    print('Switch field on  at time-step {}'.format(ton))\n",
    "    print('             off at time-step {}\\n'.format(toff))\n",
    "    print('\\nIs the envelope being used? {}\\n'.format(envelope_apply))\n",
    "    if (envelope_apply == True):\n",
    "        print('Pulse-envelope details:\\n')\n",
    "        print('Shape-'.format(envelope))\n",
    "        # envelope print options\n",
    "        if (envelope == 'trapezoidal'):\n",
    "            print('{}-cycle {} pulse'.format(cyc,envelope))\n",
    "            print(' (sigmoidal ramping)\\n')\n",
    "        elif (envelope == 'gaussian'):\n",
    "            print('{}-cycle {} pulse;'.format(cyc,envelope))\n",
    "            print(' (FWHM = {} cycle(s))\\n'.format(int(cyc/2)))\n",
    "        elif (envelope == 'cosine'):\n",
    "            print('{}-cycle {} pulse\\n'.format(cyc,envelope))\n",
    "        else:\n",
    "            print('Incompatible envelope option provided. Quitting...')\n",
    "            quit()\n",
    "        #\n",
    "        print('Field-')\n",
    "        if (abs(chirp) < 0.000001):\n",
    "            print('Max. field str. = {:4.3f} au,'.format(emax))\n",
    "            print(' freq. = {:4.3f} au\\n'.format(w))\n",
    "        else:\n",
    "            print('Max. field str. = {:4.3f} au,'.format(emax))\n",
    "            print('linear chirp frequencies:')\n",
    "            print(' initial = {:4.3f} au,'.format(w-chirp))\n",
    "            print(' final   = {:4.3f} au\\n'.format(w+chirp))\n",
    "        print('Plotting the envelope')\n",
    "        t = range(maxstep)\n",
    "        plt.plot(t[ton:toff],y[ton:toff])\n",
    "        #plt.plot(t,y)\n",
    "        plt.grid(True)\n",
    "        plt.show()\n",
    "debug = 0"
   ]
  },
  {
   "cell_type": "markdown",
   "metadata": {},
   "source": [
    "**Setting up the field amplitude**"
   ]
  },
  {
   "cell_type": "code",
   "execution_count": 22,
   "metadata": {},
   "outputs": [],
   "source": [
    "efield = np.zeros(maxstep)\n",
    "if (envelope_apply == True):\n",
    "    for t in range(ton,toff):\n",
    "        # apply an envelope and a chirp-freq to the sinusoidal field\n",
    "        w_chirp = w + chirp * (t/(ncyc*period_tsteps) - 0.5)\n",
    "        efield[t] = emax * y[t] * (np.sin(w_chirp * delta * t + phase))\n",
    "elif (envelope_apply == False):\n",
    "    for t in range(ton,toff):\n",
    "        # apply bare sinusoidal field\n",
    "        efield[t] = emax * (np.sin(w * delta * t + phase))"
   ]
  },
  {
   "cell_type": "code",
   "execution_count": 23,
   "metadata": {},
   "outputs": [
    {
     "name": "stdout",
     "output_type": "stream",
     "text": [
      "Plotting the electric field\n"
     ]
    },
    {
     "data": {
      "image/png": "[encoded data removed]",
      "text/plain": [
       "<Figure size 432x288 with 1 Axes>"
      ]
     },
     "metadata": {
      "needs_background": "light"
     },
     "output_type": "display_data"
    }
   ],
   "source": [
    "debug = 1\n",
    "if debug == 1:\n",
    "    print('Plotting the electric field')\n",
    "    tpad = 0\n",
    "    t = range(0,maxstep)\n",
    "    plt.plot(t[ton-tpad:toff+tpad],efield[ton-tpad:toff+tpad])\n",
    "    #plt.plot(t,efield)\n",
    "    plt.grid(True)\n",
    "    plt.show()\n",
    "debug = 0"
   ]
  },
  {
   "cell_type": "markdown",
   "metadata": {},
   "source": [
    "### Setting the orientation of field\n",
    "\n",
    "**NOTE**: COMPARE WITH THE RT-TDDFT CALCULATION!! Field orientation needs to be the same for any meaningful comparison"
   ]
  },
  {
   "cell_type": "code",
   "execution_count": 24,
   "metadata": {},
   "outputs": [],
   "source": [
    "# Direction for the field\n",
    "x = 1.0     # +ve, -ve or 0.0\n",
    "y = 0.0     # +ve, -ve or 0.0\n",
    "z = 0.0     # +ve, -ve or 0.0\n",
    "direction = [x,y,z]\n",
    "norm_direc = direction/(np.linalg.norm(direction))   # normalization"
   ]
  },
  {
   "cell_type": "markdown",
   "metadata": {},
   "source": [
    "## Time-propagation\n",
    "\n",
    "The time-dependent Schrödinger equation (TDSE) is used to propagate the molecular system's wave-function, represented as a linear combination of its Hamiltonian's eigenstates, the CI states (matrices are in boldface font, vectors have an overhead arrow).\n",
    "\n",
    "Let the system's wave-function be, in terms of the CI wave-functions, $\\left\\{ \\Phi^\\text{CI}_i \\right\\}$:\n",
    "\n",
    "$$\n",
    " \\Psi(\\textbf{r},t) = \\sum\\limits_{i = 0}^{M} C_i (t) \\cdot \\Phi_i^\\text{CI}(\\textbf{r},t)\n",
    "$$\n",
    "\n",
    "In vector-form:\n",
    "\n",
    "$$\n",
    " \\vec{\\Psi}(t) = \\begin{bmatrix} C_0(t) \\\\ C_1(t) \\\\ \\vdots \\\\ C_\\text{st_ini}(t) \\\\ \\vdots \\\\ C_\\text{st_trg}(t) \\\\ \\vdots \\end{bmatrix}\n",
    "$$\n",
    "\n",
    "We *choose* to initiate the system's wave-function by completely occupying CI state with index `st_ini`.\n",
    "\n",
    "$$\n",
    "  \\vec{\\Psi}(0) = \\begin{bmatrix} 0.0 \\\\ 0.0 \\\\ \\vdots \\\\ 1.0 \\\\ \\vdots \\\\ 0.0 \\\\ \\vdots \\end{bmatrix}\n",
    "$$\n",
    "\n",
    "The TDSE (for an un-normalized wave-function), combined with the dipole approximation for the time-dependent electric field, and in Hartree atomic units, is given by:\n",
    "\n",
    "$$\n",
    " N(t) = \\left( \\vec{\\Psi}^\\dagger(t)\\cdotp \\vec{\\Psi}(t) \\right) \\\\\n",
    " \\iota \\times \\frac{d}{dt}\\vec{\\Psi}(t) = \\frac{\\textbf{H}(t)}{N(t)}\\cdotp \\vec{\\Psi}(t) \\\\\n",
    " = \\frac{\\left( \\textbf{H}_0 + E(t;\\omega_{\\Delta E})\\times \\textbf{d}_0 \\right)}{N(t)} \\cdotp \\vec{\\Psi}(t)\n",
    "$$\n",
    "\n",
    "Here, $\\omega_{\\Delta E}$ is the frequency of the electric field corresponding to the difference in the energies of CI states (which are eigenstates of $\\hat{H}_0$) `st_ini` and `st_trg` (this is also *by choice*). Henceforth, $E(t;\\omega_{\\Delta E}) \\equiv E(t)$. For $dt \\rightarrow 0$ (a very small time-step), the TDSE can be integrated numerically as follows:\n",
    "\n",
    "$$\n",
    " \\iota \\Delta \\vec{\\Psi}(t) = \\frac{\\Delta t \\left( \\textbf{H}_0 + E(t) \\textbf{d}_0 \\right) }{N(t)} \\cdotp \\vec{\\Psi}(t),\n",
    "$$\n",
    "\n",
    "and updating the wave-function vector at time $t$ is equivalent to the following:\n",
    "\n",
    "$$\n",
    " \\vec{\\Psi}(t+1) = \\left[ - \\frac{\\iota \\Delta t (\\textbf{H}_0 + E(t)\\textbf{d}_0 )}{N(t)} + 1\\right] \\cdotp \\vec{\\Psi}(t)\n",
    "$$"
   ]
  },
  {
   "cell_type": "markdown",
   "metadata": {},
   "source": [
    "**Initialization of objects to be used for time-propagation**"
   ]
  },
  {
   "cell_type": "code",
   "execution_count": 25,
   "metadata": {},
   "outputs": [],
   "source": [
    "#\n",
    "# declaring time-arrays\n",
    "#\n",
    "# dipole moment\n",
    "dip = np.zeros((maxstep), np.float64)\n",
    "# vector of CI states that form the system's wave-function\n",
    "v = np.zeros((maxstep, NSim), np.complex128)\n",
    "v[:2,st_ini] = 1\n",
    "# norm of system wave-function's CI-state vector\n",
    "norm = np.zeros((maxstep), np.float64)\n",
    "norm[:2] = 1\n",
    "#\n",
    "# declaring static arrays\n",
    "#\n",
    "# (diagonal) Hamiltonian in the CI state basis (static in time)\n",
    "h0 = np.diag(CI_Energies[:] - CI_Energies[0])\n",
    "# dipole moment matrix in the CI state basis\n",
    "d0 = np.zeros((NSim, NSim), np.float64)\n",
    "for i in range(NSim):\n",
    "    try:\n",
    "        for j in range(NSim):\n",
    "            d0[i,j] = np.dot(norm_direc, CI_Dipoles[i,j])\n",
    "    except (TypeError, ValueError):\n",
    "        print('Check the \"CI_Dipoles\" or \"norm_direc\" matrix!')\n",
    "        print('(make sure they are filled with correct data.)')\n",
    "        break\n",
    "# complex arrays of CI state coefficients used for integration\n",
    "ctmp = np.zeros((NSim), np.complex128)\n",
    "ctmp1 = np.zeros((NSim), np.complex128)\n",
    "ctmp2 = np.zeros((NSim), np.complex128)"
   ]
  },
  {
   "cell_type": "markdown",
   "metadata": {},
   "source": [
    "**Integrating the first step in the propagation**"
   ]
  },
  {
   "cell_type": "code",
   "execution_count": 26,
   "metadata": {},
   "outputs": [],
   "source": [
    "# system Hamiltonian at time-step 0\n",
    "h = h0 + efield[1]*d0\n",
    "# initializing the system's state\n",
    "ctmp1[st_ini] = 1\n",
    "dip[0] = np.real(np.dot(np.dot(np.conjugate(ctmp1), d0), ctmp1))\n",
    "comp_imag = np.dot(-1J*delta*h, ctmp1)\n",
    "ctmp = ctmp1 + comp_imag\n",
    "ctmp2 = ctmp/(np.sqrt(abs(np.dot(np.conjugate(ctmp), ctmp))))\n",
    "dip[1] = np.real(np.dot(np.dot(np.conjugate(ctmp), d0), ctmp2))"
   ]
  },
  {
   "cell_type": "markdown",
   "metadata": {},
   "source": [
    "**Integrating the rest of the propagation-steps**"
   ]
  },
  {
   "cell_type": "code",
   "execution_count": 27,
   "metadata": {},
   "outputs": [],
   "source": [
    "for tstep in range(2,maxstep):\n",
    "    # Forward Euler\n",
    "    h = h0 + efield[tstep]*d0\n",
    "    comp_imag = np.dot(-1J*delta*h, ctmp2)\n",
    "    ctmp = ctmp1 + comp_imag\n",
    "    ctmp1 = list(ctmp2)\n",
    "    norm[tstep] = np.sqrt(abs(np.dot(np.conjugate(ctmp), ctmp)))\n",
    "    ctmp2 = ctmp/norm[tstep]\n",
    "    v[tstep,:] = list(ctmp2)\n",
    "    dip[tstep] = np.real(np.dot(np.dot(np.conjugate(ctmp), d0), ctmp2))"
   ]
  },
  {
   "cell_type": "code",
   "execution_count": 34,
   "metadata": {
    "scrolled": true
   },
   "outputs": [
    {
     "data": {
      "image/png": "[encoded data removed]",
      "text/plain": [
       "<Figure size 432x288 with 1 Axes>"
      ]
     },
     "metadata": {
      "needs_background": "light"
     },
     "output_type": "display_data"
    },
    {
     "data": {
      "image/png": "[encoded data removed]",
      "text/plain": [
       "<Figure size 432x288 with 1 Axes>"
      ]
     },
     "metadata": {
      "needs_background": "light"
     },
     "output_type": "display_data"
    }
   ],
   "source": [
    "debug = 0\n",
    "if debug == 1:\n",
    "    # Plot two CI state coefficients vs time-steps\n",
    "    istate1 = 0\n",
    "    istate2 = 1\n",
    "    x_i = range(maxstep)\n",
    "    plt.plot(x_i,abs(v[:,istate1]),abs(v[:,istate2]))\n",
    "    plt.grid(True)\n",
    "    plt.show()\n",
    "    # Plot instantaneous dipole moment vs time-steps\n",
    "    plt.plot(t,dip)\n",
    "    plt.grid(True)\n",
    "    plt.show()\n",
    "debug = 0"
   ]
  },
  {
   "cell_type": "markdown",
   "metadata": {},
   "source": [
    "### Writing data to output files"
   ]
  },
  {
   "cell_type": "code",
   "execution_count": 29,
   "metadata": {},
   "outputs": [
    {
     "name": "stdout",
     "output_type": "stream",
     "text": [
      "making new directories for storing data...\n",
      "  detecting pre-existing directories...\n",
      "  directories deleted.\n",
      "data-directories created.\n"
     ]
    }
   ],
   "source": [
    "std_prefix = 'td'+ ci    # TD method used\n",
    "delimit = '_'    # delimiter for names of output files\n",
    "std_ext = '.txt'    # output file extension\n",
    "# define paths and create directories for saving output files\n",
    "dir_parent = os.getcwd() + '/' # get the path of the current directory\n",
    "dir_system = dir_parent + title + '/'\n",
    "dir_method = dir_system + std_prefix + '/'\n",
    "dir_data = dir_method + 'deltaE=' + str('{:2.2e}Ha'.format(deltaE)) + delimit \n",
    "dir_data += 'emax=' + str(emax) + delimit\n",
    "if (envelope_apply == True):\n",
    "    dir_data += 'env=' + envelope + delimit\n",
    "dir_data += 'time=' + str(ton) + 'to' + str(toff) + '/'\n",
    "saveat = dir_data    # or './'\n",
    "#''' Comment this line to delete and re-create directories\n",
    "# create directories\n",
    "dir_path = dir_data    # \"dir_system\" or \"dir_data\" or \"dir_method\"\n",
    "try:\n",
    "    print('making new directories for storing data...')\n",
    "    os.makedirs(dir_path)\n",
    "except (NotADirectoryError, FileExistsError):\n",
    "    print('  detecting pre-existing directories...')\n",
    "    if (os.path.isdir(dir_path) == True):\n",
    "        shutil.rmtree(dir_path)\n",
    "        print('  directories deleted.')\n",
    "    time.sleep(5)    # wait for 5 seconds before making directories\n",
    "    os.makedirs(dir_path)\n",
    "    pass\n",
    "if (os.path.isdir(dir_path) == True):\n",
    "    print('data-directories created.')\n",
    "#''' # Ignore this line if in notebook"
   ]
  },
  {
   "cell_type": "markdown",
   "metadata": {},
   "source": [
    "**Instantaneous dipole moment** $\\left( \\vec{\\Psi}(t)^\\dagger \\cdotp \\textbf{d}_0 \\cdotp \\vec{\\Psi}(t);\\ \\ \\forall \\ t \\right)$"
   ]
  },
  {
   "cell_type": "code",
   "execution_count": 30,
   "metadata": {},
   "outputs": [],
   "source": [
    "# output instanteous electric dipole moment\n",
    "prop_file = 'dipole'\n",
    "#name_file = std_prefix + delimit + transition + delimit + prop_file\n",
    "name_file = prop_file\n",
    "file = saveat + name_file + std_ext\n",
    "idm = open(file, 'w')\n",
    "prop_file = 'dipole2fft'\n",
    "name_file = prop_file\n",
    "file = saveat + name_file + std_ext\n",
    "sdm = open(file, 'w')\n",
    "dip *= AUtoD    # Dipole moment in debyes\n",
    "for i in range(2,maxstep):\n",
    "    t_fs = i*steptofs\n",
    "    t_s = t_fs*1e-15\n",
    "    idm.write('{:14.8f}\\t{: 14.8f}\\n'.format(t_fs, dip[i]))\n",
    "    sdm.write('{:14.8e}\\t{: 14.8f}\\n'.format(t_s, dip[i]))\n",
    "idm.close()\n",
    "sdm.close()"
   ]
  },
  {
   "cell_type": "markdown",
   "metadata": {},
   "source": [
    "**Time-dependent occupation numbers** (through projection of system's wave-function onto MOs)"
   ]
  },
  {
   "cell_type": "code",
   "execution_count": 31,
   "metadata": {},
   "outputs": [],
   "source": [
    "# need to project state coefficients back onto MOs and print\n",
    "prop_file = 'pops'\n",
    "name_file = prop_file\n",
    "file = saveat + name_file + std_ext\n",
    "tcoef = open(file, 'w')\n",
    "mo_coef = np.zeros([NMOs], np.float64)\n",
    "for j in range(2,maxstep):\n",
    "    t_fs = j*steptofs\n",
    "    tcoef.write('{:16.8f}'.format(t_fs))\n",
    "    for k in range(NMOs):\n",
    "        mo_coef[k] = 0.0\n",
    "        for n in range(NSim):\n",
    "            tmp = np.conjugate(v[j,n])\n",
    "            tmp2 = v[j,n]\n",
    "            vcoef = tmp*tmp2\n",
    "            vcoef = np.real(vcoef) # np.real() to get rid of ComplexWarning\n",
    "            ccoef = 1 # redundant but do not change\n",
    "            mo_coef[k] += vcoef*ccoef*config[n,k]\n",
    "        tcoef.write('\\t{:14.8f}'.format(mo_coef[k]))\n",
    "    # total number of electrons at each time-step: a quality-check; should be constant.\n",
    "    totN = np.sum(mo_coef)\n",
    "    tcoef.write('\\t\\t{:4.4f}'.format(totN))\n",
    "    tcoef.write('\\n')\n",
    "tcoef.close()"
   ]
  },
  {
   "cell_type": "markdown",
   "metadata": {},
   "source": [
    "**Time-dependent system wave-function** (vector of squares of the norms of the time-dependent coefficients, $\\left[ \\left\\{ C_i^*(t) C_i(t) \\right\\} \\right]$)"
   ]
  },
  {
   "cell_type": "code",
   "execution_count": 32,
   "metadata": {},
   "outputs": [],
   "source": [
    "prop_file = 'coefs'\n",
    "name_file = prop_file\n",
    "file = saveat + name_file + std_ext\n",
    "bcoef = open(file, 'w')\n",
    "for j in range(2,maxstep):\n",
    "    t_fs = j*steptofs\n",
    "    bcoef.write('{:16.8f}'.format(t_fs))\n",
    "    for i in range(NSim):\n",
    "        tmp = np.conjugate(v[j,i])\n",
    "        tmp2 = v[j,i]\n",
    "        vcoef = tmp*tmp2\n",
    "        bcoef.write('\\t\\t{:16.8f}'.format(vcoef))\n",
    "    bcoef.write('\\n')\n",
    "bcoef.close()"
   ]
  },
  {
   "cell_type": "markdown",
   "metadata": {},
   "source": [
    "**Time-dependent electric field**"
   ]
  },
  {
   "cell_type": "code",
   "execution_count": 33,
   "metadata": {},
   "outputs": [],
   "source": [
    "prop_file = 'field'\n",
    "name_file = prop_file\n",
    "file = saveat + name_file + std_ext\n",
    "fldprt = open(file, 'w')\n",
    "for i in range(1,maxstep):\n",
    "    t_fs = i*steptofs\n",
    "    fldprt.write('{:16.8f}\\t\\t{: 16.8f}\\n'.format(t_fs, efield[i]))\n",
    "fldprt.close()"
   ]
  },
  {
   "cell_type": "markdown",
   "metadata": {},
   "source": [
    "**Time-dependent density matrix in AO basis**"
   ]
  },
  {
   "cell_type": "code",
   "execution_count": null,
   "metadata": {},
   "outputs": [],
   "source": [
    "series_data = np.zeros([maxsteps,NMOs,NMOs], np.complex128)\n",
    "for i in range(NSim):\n",
    "    for j in range(i,NSim):\n",
    "        filename = 'dens_ci_'+str(i)+'_'+str(j)+'.npz'\n",
    "        dens = np.load(filename, allow_pickle=True)\n",
    "        densCI = dens['arr_0']\n",
    "        for t in range(maxstep):\n",
    "            if (i == j):\n",
    "                densTot[t,:,:] += (abs(v[t,i])**2) * densCI\n",
    "            else:\n",
    "                coeff = ()\n",
    "                # densCI is real, so transpose same as c.c.\n",
    "                densTot[t,:,:] += v[t,i]*np.conjugate(v[t,j]) * densCI\n",
    "                densTot[t,:,:] += v[t,j]*np.conjugate(v[t,i]) * densCI.T\n",
    "save_file = saveat + 'td_dens_'+std_prefix+'_'+title+'.npz'\n",
    "np.savez(save_file, td_dens_data=densTot)"
   ]
  }
 ],
 "metadata": {
  "kernelspec": {
   "display_name": "Python 3.7.7 64-bit ('base': conda)",
   "language": "python",
   "name": "python_defaultSpec_1596419265265"
  },
  "language_info": {
   "codemirror_mode": {
    "name": "ipython",
    "version": 3
   },
   "file_extension": ".py",
   "mimetype": "text/x-python",
   "name": "python",
   "nbconvert_exporter": "python",
   "pygments_lexer": "ipython3",
   "version": "3.7.7-final"
  }
 },
 "nbformat": 4,
 "nbformat_minor": 4
}