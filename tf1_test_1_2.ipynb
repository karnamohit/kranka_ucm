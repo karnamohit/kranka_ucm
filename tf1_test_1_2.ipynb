{
  "nbformat": 4,
  "nbformat_minor": 0,
  "metadata": {
    "colab": {
      "name": "tf1_test_1.ipynb",
      "version": "0.3.2",
      "provenance": [],
      "include_colab_link": true
    },
    "kernelspec": {
      "name": "python3",
      "display_name": "Python 3"
    },
    "accelerator": "GPU"
  },
  "cells": [
    {
      "cell_type": "markdown",
      "metadata": {
        "id": "view-in-github",
        "colab_type": "text"
      },
      "source": [
        "<a href=\"https://colab.research.google.com/github/karnamohit/kranka_ucm/blob/master/tf1_test_1_2.ipynb\" target=\"_parent\"><img src=\"https://colab.research.google.com/assets/colab-badge.svg\" alt=\"Open In Colab\"/></a>"
      ]
    },
    {
      "cell_type": "markdown",
      "metadata": {
        "id": "rtgEx4iIVXly",
        "colab_type": "text"
      },
      "source": [
        "Importing all the useful libraries..."
      ]
    },
    {
      "cell_type": "code",
      "metadata": {
        "id": "G_vn7WnlmKCd",
        "colab_type": "code",
        "colab": {}
      },
      "source": [
        "import tensorflow as tf\n",
        "import numpy as np\n",
        "import matplotlib.pyplot as plt"
      ],
      "execution_count": 0,
      "outputs": []
    },
    {
      "cell_type": "markdown",
      "metadata": {
        "id": "P8knKLFRVFvY",
        "colab_type": "text"
      },
      "source": [
        "Checking the version of TensorFlow, NumPy..."
      ]
    },
    {
      "cell_type": "code",
      "metadata": {
        "id": "HY5Y0g3iqqkc",
        "colab_type": "code",
        "colab": {
          "base_uri": "https://localhost:8080/",
          "height": 87
        },
        "outputId": "9d40d843-6135-4236-d7fc-2162f8274696"
      },
      "source": [
        "print('**********************************************')\n",
        "print('TensorFlow version info:\\t',tf.__version__)\n",
        "#!pip show tensorflow\n",
        "print('NumPy version info:\\t \\t',np.__version__)\n",
        "print('**********************************************')"
      ],
      "execution_count": 3,
      "outputs": [
        {
          "output_type": "stream",
          "text": [
            "**********************************************\n",
            "TensorFlow version info:\t 1.14.0\n",
            "NumPy version info:\t \t 1.16.5\n",
            "**********************************************\n"
          ],
          "name": "stdout"
        }
      ]
    },
    {
      "cell_type": "markdown",
      "metadata": {
        "id": "9sX69fS2xhhK",
        "colab_type": "text"
      },
      "source": [
        "**Making, processing raw data**"
      ]
    },
    {
      "cell_type": "markdown",
      "metadata": {
        "id": "yirYUEPUb1Sd",
        "colab_type": "text"
      },
      "source": [
        "Make up data (2x2, sequentially indexed matrices)..."
      ]
    },
    {
      "cell_type": "code",
      "metadata": {
        "id": "YcAFC9e9WE93",
        "colab_type": "code",
        "colab": {}
      },
      "source": [
        "series_data = np.random.rand(100,2,2)      # \"time\"-series data for a 2x2 evolving matrix with 100 time-steps, randomly initialized\n",
        "tsteps = int(series_data.shape[0])         # total number of time-steps in the series\n",
        "tsteps_train = int(tsteps/2)               # number of time-steps used for training\n",
        "mat_row = int(series_data.shape[1])\n",
        "mat_col = int(series_data.shape[2])"
      ],
      "execution_count": 0,
      "outputs": []
    },
    {
      "cell_type": "code",
      "metadata": {
        "id": "wqvXnsb-5tjw",
        "colab_type": "code",
        "colab": {
          "base_uri": "https://localhost:8080/",
          "height": 121
        },
        "outputId": "544c2f9c-a7a3-4f52-cd9b-81b642c45f37"
      },
      "source": [
        "print(series_data[tsteps_train-2,:,:])\n",
        "print(series_data[tsteps_train-1,:,:])\n",
        "print(series_data[tsteps_train,:,:])"
      ],
      "execution_count": 5,
      "outputs": [
        {
          "output_type": "stream",
          "text": [
            "[[0.32151992 0.44540184]\n",
            " [0.56733968 0.55889824]]\n",
            "[[0.26441279 0.86078299]\n",
            " [0.31433715 0.40940587]]\n",
            "[[0.42089622 0.1248318 ]\n",
            " [0.58808604 0.73949695]]\n"
          ],
          "name": "stdout"
        }
      ]
    },
    {
      "cell_type": "markdown",
      "metadata": {
        "id": "Dn0h4QC2E43v",
        "colab_type": "text"
      },
      "source": [
        "Define a sequence (multiple consecutive 2x2 matrices) size, ```len_seq```, to be fed in as input (equivalent to the amount of memory in previous time-steps, in our case), and the amount of overlap, ```n_overlap``` between any two adjacent input sequences..."
      ]
    },
    {
      "cell_type": "code",
      "metadata": {
        "id": "27iXOLgAPEzr",
        "colab_type": "code",
        "colab": {}
      },
      "source": [
        "len_seq = 3\n",
        "n_overlap = 2\n",
        "\n",
        "if (n_overlap >= len_seq):\n",
        "  raise Exception(\"n_overlap must be less than len_seq\")"
      ],
      "execution_count": 0,
      "outputs": []
    },
    {
      "cell_type": "markdown",
      "metadata": {
        "id": "BJcC3-emQOo6",
        "colab_type": "text"
      },
      "source": [
        "Build tensor of sequences, call it ```seq_series_data```..."
      ]
    },
    {
      "cell_type": "code",
      "metadata": {
        "id": "H9ewF3MOQdiJ",
        "colab_type": "code",
        "outputId": "7f71ee85-82d8-4269-b062-59dbedd0bfbb",
        "colab": {
          "base_uri": "https://localhost:8080/",
          "height": 35
        }
      },
      "source": [
        "n_seq = int((tsteps_train - (len_seq - n_overlap)) / (len_seq - n_overlap)) # number of sequences of size len_seq\n",
        "#print(n_seq)\n",
        "\n",
        "seq_series_data = np.zeros((n_seq,len_seq,mat_row,mat_col), dtype='object')\n",
        "\n",
        "i = 0\n",
        "#j = 0\n",
        "k = 0\n",
        "while (i <= n_seq):           # the training sequences start at time-step 1 (series_data[0] element) in this case\n",
        "  try:\n",
        "    for j in range(len_seq):\n",
        "      seq_series_data[k,j,:,:] = series_data[i+j,:,:]\n",
        "  except IndexError:\n",
        "    break\n",
        "  #print(seq_series_data[k,:,:,:])\n",
        "  i += len_seq - n_overlap\n",
        "  #j += 1\n",
        "  k += 1\n",
        "  #print(k,i)\n",
        "\n",
        "print(type(seq_series_data))"
      ],
      "execution_count": 9,
      "outputs": [
        {
          "output_type": "stream",
          "text": [
            "<class 'numpy.ndarray'>\n"
          ],
          "name": "stdout"
        }
      ]
    },
    {
      "cell_type": "markdown",
      "metadata": {
        "id": "IaQJk4u7oJwY",
        "colab_type": "text"
      },
      "source": [
        "---"
      ]
    },
    {
      "cell_type": "markdown",
      "metadata": {
        "id": "sWWFzyj4nNPJ",
        "colab_type": "text"
      },
      "source": [
        "IGNORE THE FOLLOWING ```tf.Data``` CODE-BLOCKS FOR NOW"
      ]
    },
    {
      "cell_type": "markdown",
      "metadata": {
        "id": "UlsiZ4DGn7hO",
        "colab_type": "text"
      },
      "source": [
        "---"
      ]
    },
    {
      "cell_type": "markdown",
      "metadata": {
        "id": "82UBnw4exnmB",
        "colab_type": "text"
      },
      "source": [
        "**Using ```tf.Data``` to manipulate shape of data fed to the model** "
      ]
    },
    {
      "cell_type": "markdown",
      "metadata": {
        "id": "CA_rkn0pfEFN",
        "colab_type": "text"
      },
      "source": [
        "Make a ```tf.placeholder``` object to represent input data, ```seq_series_data```..."
      ]
    },
    {
      "cell_type": "code",
      "metadata": {
        "id": "YzKivqNpff7J",
        "colab_type": "code",
        "colab": {}
      },
      "source": [
        "inp_ph = tf.placeholder(seq_series_data.dtype, seq_series_data.shape)"
      ],
      "execution_count": 0,
      "outputs": []
    },
    {
      "cell_type": "markdown",
      "metadata": {
        "id": "ZkoZpd_sT682",
        "colab_type": "text"
      },
      "source": [
        "Use ```tf.data``` for storing input data represented by the ```tf.placeholder``` object ```inp_ph```..."
      ]
    },
    {
      "cell_type": "code",
      "metadata": {
        "id": "zgvmPDo4T6TI",
        "colab_type": "code",
        "colab": {}
      },
      "source": [
        "inp_slices = tf.data.Dataset.from_tensor_slices(inp_ph)\n",
        "#next_slice_item = inp_slices.make_initializable_iterator()"
      ],
      "execution_count": 0,
      "outputs": []
    },
    {
      "cell_type": "markdown",
      "metadata": {
        "id": "yW8bBwQJ9rdi",
        "colab_type": "text"
      },
      "source": [
        "Run a ```tf.Session()``` (within the context manager) to verify sequential printing of the evolving 2x2 matrix sequences..."
      ]
    },
    {
      "cell_type": "code",
      "metadata": {
        "id": "QwsTZ1jY9Z4O",
        "colab_type": "code",
        "colab": {}
      },
      "source": [
        "with tf.Session() as sess:\n",
        "  while True:\n",
        "    try:\n",
        "      for i in inp_slices:\n",
        "        print(sess.run(i, feed_dict={inp_ph: seq_series_data}))\n",
        "        #print(sess.run(next_slice_item.make_one_shot_iterator().get_next()))\n",
        "    except tf.errors.OutOfRangeError:\n",
        "      break"
      ],
      "execution_count": 0,
      "outputs": []
    },
    {
      "cell_type": "markdown",
      "metadata": {
        "id": "DndC7esJ9_45",
        "colab_type": "text"
      },
      "source": [
        "Define batches of the ```input_slices``` (saves memory when building the computational graph)"
      ]
    },
    {
      "cell_type": "code",
      "metadata": {
        "id": "RctcsU8PDTPD",
        "colab_type": "code",
        "colab": {}
      },
      "source": [
        "input_batches = input_slices.batches(N,drop_remainder=True)"
      ],
      "execution_count": 0,
      "outputs": []
    },
    {
      "cell_type": "markdown",
      "metadata": {
        "id": "2VIxaoxqdMoO",
        "colab_type": "text"
      },
      "source": [
        "Set up placeholders for input, true output, predicted output..."
      ]
    },
    {
      "cell_type": "code",
      "metadata": {
        "id": "fZ2BGuvbc47X",
        "colab_type": "code",
        "colab": {}
      },
      "source": [
        "x = tf.placeholder(tf.float)"
      ],
      "execution_count": 0,
      "outputs": []
    },
    {
      "cell_type": "markdown",
      "metadata": {
        "id": "KWDcroBBoFNl",
        "colab_type": "text"
      },
      "source": [
        "---"
      ]
    },
    {
      "cell_type": "markdown",
      "metadata": {
        "id": "idoEYCUVnrhF",
        "colab_type": "text"
      },
      "source": [
        "CODE CONTINUES BELOW HERE"
      ]
    },
    {
      "cell_type": "markdown",
      "metadata": {
        "id": "czDPsNytoOBB",
        "colab_type": "text"
      },
      "source": [
        "---"
      ]
    },
    {
      "cell_type": "code",
      "metadata": {
        "id": "LcF6XmVOo4ao",
        "colab_type": "code",
        "colab": {
          "base_uri": "https://localhost:8080/",
          "height": 52
        },
        "outputId": "4590353f-73a0-4ac0-82a9-b073c592eabc"
      },
      "source": [
        "# test to check data-type and shape of a slice seq_series_data\n",
        "\n",
        "print(type(seq_series_data[2,:,:,:]))\n",
        "print(seq_series_data[2,:,:,:].shape)"
      ],
      "execution_count": 34,
      "outputs": [
        {
          "output_type": "stream",
          "text": [
            "<class 'numpy.ndarray'>\n",
            "(3, 2, 2)\n"
          ],
          "name": "stdout"
        }
      ]
    },
    {
      "cell_type": "markdown",
      "metadata": {
        "id": "G-1rfAmFoh5V",
        "colab_type": "text"
      },
      "source": [
        "**Declaring parameters and variables to be used in the model**"
      ]
    },
    {
      "cell_type": "markdown",
      "metadata": {
        "id": "it09yTY1oP4l",
        "colab_type": "text"
      },
      "source": [
        "Construct input placeholders for the model..."
      ]
    },
    {
      "cell_type": "code",
      "metadata": {
        "id": "rmCu5XbAoPN1",
        "colab_type": "code",
        "colab": {}
      },
      "source": [
        "X = tf.placeholder(tf.float64, shape=seq_series_data[0,:,:,:].shape, name='input')              # model input\n",
        "Y_pred = tf.placeholder(tf.float64, shape=seq_series_data[0,0,:,:].shape,name='model_output')   # model output: predicting a 2x2 matrix 1 time-step at a time\n",
        "Y_true = tf.placeholder(tf.float64, shape=seq_series_data[0,0,:,:].shape,name='true_output')    # true output: same shape as the model output"
      ],
      "execution_count": 0,
      "outputs": []
    },
    {
      "cell_type": "code",
      "metadata": {
        "id": "yritMjt8pX2n",
        "colab_type": "code",
        "colab": {}
      },
      "source": [
        ""
      ],
      "execution_count": 0,
      "outputs": []
    }
  ]
}