{
  "nbformat": 4,
  "nbformat_minor": 0,
  "metadata": {
    "colab": {
      "name": "tf1_hb.ipynb",
      "provenance": [],
      "collapsed_sections": [],
      "include_colab_link": true
    },
    "kernelspec": {
      "name": "python3",
      "display_name": "Python 3"
    },
    "accelerator": "GPU"
  },
  "cells": [
    {
      "cell_type": "markdown",
      "metadata": {
        "id": "view-in-github",
        "colab_type": "text"
      },
      "source": [
        "<a href=\"https://colab.research.google.com/github/karnamohit/kranka_ucm/blob/master/tf1_hb_1.ipynb\" target=\"_parent\"><img src=\"https://colab.research.google.com/assets/colab-badge.svg\" alt=\"Open In Colab\"/></a>"
      ]
    },
    {
      "cell_type": "markdown",
      "metadata": {
        "id": "rtgEx4iIVXly",
        "colab_type": "text"
      },
      "source": [
        "Importing all the useful libraries..."
      ]
    },
    {
      "cell_type": "code",
      "metadata": {
        "id": "G_vn7WnlmKCd",
        "colab_type": "code",
        "colab": {}
      },
      "source": [
        "%tensorflow_version 1.x\n",
        "import tensorflow as tf\n",
        "import numpy as np\n",
        "import matplotlib.pyplot as plt"
      ],
      "execution_count": 0,
      "outputs": []
    },
    {
      "cell_type": "markdown",
      "metadata": {
        "id": "P8knKLFRVFvY",
        "colab_type": "text"
      },
      "source": [
        "Checking the version of TensorFlow, NumPy..."
      ]
    },
    {
      "cell_type": "code",
      "metadata": {
        "id": "HY5Y0g3iqqkc",
        "colab_type": "code",
        "outputId": "2750db13-5cb6-40e7-87b2-c6a66e0445d0",
        "colab": {
          "base_uri": "https://localhost:8080/",
          "height": 436
        }
      },
      "source": [
        "#print('TensorFlow version info:\\t',tf.__version__)\n",
        "!pip show tensorflow\n",
        "print(' ')\n",
        "print('------------------------------------------------------------')\n",
        "print(' ')\n",
        "!pip show numpy\n",
        "#print('NumPy version info:\\t \\t',np.__version__)"
      ],
      "execution_count": 0,
      "outputs": [
        {
          "output_type": "stream",
          "text": [
            "Name: tensorflow\n",
            "Version: 1.15.0\n",
            "Summary: TensorFlow is an open source machine learning framework for everyone.\n",
            "Home-page: https://www.tensorflow.org/\n",
            "Author: Google Inc.\n",
            "Author-email: packages@tensorflow.org\n",
            "License: Apache 2.0\n",
            "Location: /usr/local/lib/python3.6/dist-packages\n",
            "Requires: opt-einsum, termcolor, tensorflow-estimator, wrapt, google-pasta, keras-applications, gast, numpy, tensorboard, astor, keras-preprocessing, six, wheel, grpcio, absl-py, protobuf\n",
            "Required-by: stable-baselines, magenta, fancyimpute\n",
            " \n",
            "------------------------------------------------------------\n",
            " \n",
            "Name: numpy\n",
            "Version: 1.17.3\n",
            "Summary: NumPy is the fundamental package for array computing with Python.\n",
            "Home-page: https://www.numpy.org\n",
            "Author: Travis E. Oliphant et al.\n",
            "Author-email: None\n",
            "License: BSD\n",
            "Location: /usr/local/lib/python3.6/dist-packages\n",
            "Requires: \n",
            "Required-by: yellowbrick, xgboost, xarray, wordcloud, umap-learn, torchvision, torchtext, torch, thinc, Theano, tflearn, tensorflow, tensorflow-probability, tensorflow-hub, tensorflow-datasets, tensorboard, tensor2tensor, tables, statsmodels, stable-baselines, spacy, sklearn-pandas, seaborn, scs, scipy, scikit-learn, resampy, PyWavelets, pystan, pysndfile, pymc3, pyemd, pyarrow, pretty-midi, plotnine, patsy, pandas, osqp, opt-einsum, opencv-python, opencv-contrib-python, numexpr, numba, np-utils, nibabel, moviepy, mlxtend, mizani, missingno, mir-eval, matplotlib, matplotlib-venn, magenta, lucid, lightgbm, librosa, knnimpute, kfac, Keras, Keras-Preprocessing, Keras-Applications, kapre, jpeg4py, jaxlib, jax, imgaug, imbalanced-learn, imageio, hyperopt, h5py, gym, graph-nets, gensim, folium, fix-yahoo-finance, featuretools, fbprophet, fastdtw, fastai, fancyimpute, fa2, ecos, daft, cvxpy, cupy-cuda100, cufflinks, chainer, Bottleneck, bokeh, blis, autograd, atari-py, astropy, altair, albumentations\n"
          ],
          "name": "stdout"
        }
      ]
    },
    {
      "cell_type": "markdown",
      "metadata": {
        "id": "9sX69fS2xhhK",
        "colab_type": "text"
      },
      "source": [
        "**Making, processing raw data**"
      ]
    },
    {
      "cell_type": "markdown",
      "metadata": {
        "id": "yirYUEPUb1Sd",
        "colab_type": "text"
      },
      "source": [
        "Make up data (2x2, sequentially indexed matrices)..."
      ]
    },
    {
      "cell_type": "code",
      "metadata": {
        "id": "YcAFC9e9WE93",
        "colab_type": "code",
        "colab": {}
      },
      "source": [
        "series_data = np.zeros((100,2,2), np.float64)        # \"time\"-series data for a 2x2 evolving matrix with 100 time-steps, randomly initialized\n",
        "series_data[0,:,:] = np.array([[3.14,-2.8], [-1.2,4.5]])\n",
        "series_data[1,:,:] = np.array([[-0.56, -0.21], [1.7, 1.8]])\n",
        "series_data[2,:,:] = np.array([[1.43,-8.2], [-2.1,5.4]])\n",
        "for i in range(3, series_data.shape[0]):\n",
        "    series_data[i,:,:] = 0.7*series_data[i-1,:,:] + 0.3*series_data[i-2,:,:] - 0.1*series_data[i-3,:,:]\n",
        "#    series_data[i,:,:] = (i**0.5)*3 + 5\n",
        "#print(series_data)\n",
        "tsteps = int(series_data.shape[0])         # total number of time-steps in the series\n",
        "tsteps_train = int(tsteps/2)               # number of time-steps used for training\n",
        "mat_row = int(series_data.shape[1])\n",
        "mat_col = int(series_data.shape[2])\n",
        "\n",
        "#print(series_data[tsteps_train-2,:,:])\n",
        "#print(series_data[tsteps_train-1,:,:])\n",
        "#print(series_data[tsteps_train,:,:])"
      ],
      "execution_count": 0,
      "outputs": []
    },
    {
      "cell_type": "code",
      "metadata": {
        "id": "d4otV2VY_QWo",
        "colab_type": "code",
        "outputId": "4c3d4317-2cb6-4778-c26d-368e059d6fe2",
        "colab": {
          "base_uri": "https://localhost:8080/",
          "height": 87
        }
      },
      "source": [
        "print(series_data[0,:,:])\n",
        "print(series_data[1,:,:])"
      ],
      "execution_count": 0,
      "outputs": [
        {
          "output_type": "stream",
          "text": [
            "[[ 3.14 -2.8 ]\n",
            " [-1.2   4.5 ]]\n",
            "[[-0.56 -0.21]\n",
            " [ 1.7   1.8 ]]\n"
          ],
          "name": "stdout"
        }
      ]
    },
    {
      "cell_type": "markdown",
      "metadata": {
        "id": "Dn0h4QC2E43v",
        "colab_type": "text"
      },
      "source": [
        "Define a sequence (multiple consecutive 2x2 matrices) size, ```len_seq```, to be fed in as input (equivalent to the amount of memory in previous time-steps, in our case), and the amount of overlap, ```n_overlap``` between any two adjacent input sequences..."
      ]
    },
    {
      "cell_type": "code",
      "metadata": {
        "id": "27iXOLgAPEzr",
        "colab_type": "code",
        "colab": {}
      },
      "source": [
        "len_seq = 4\n",
        "n_overlap = 3\n",
        "\n",
        "if (n_overlap >= len_seq):\n",
        "    raise Exception(\"n_overlap must be less than len_seq\")"
      ],
      "execution_count": 0,
      "outputs": []
    },
    {
      "cell_type": "markdown",
      "metadata": {
        "id": "BJcC3-emQOo6",
        "colab_type": "text"
      },
      "source": [
        "Build tensor of sequences, call it ```seq_series_data```..."
      ]
    },
    {
      "cell_type": "code",
      "metadata": {
        "id": "H9ewF3MOQdiJ",
        "colab_type": "code",
        "outputId": "6875e55b-e576-4834-b537-33dcdd60798f",
        "colab": {
          "base_uri": "https://localhost:8080/",
          "height": 107
        }
      },
      "source": [
        "n_seq = int((tsteps_train - (len_seq - n_overlap)) / (len_seq - n_overlap)) # number of sequences of size len_seq\n",
        "#print(n_seq)\n",
        "seq_series_data = np.zeros((n_seq,len_seq,mat_row,mat_col), np.float64)\n",
        "seq_series_data_pred = np.zeros((1,mat_row,mat_col), np.float64)\n",
        "#print(seq_series_data_pred)\n",
        "i = 0\n",
        "#j = 0\n",
        "k = 0\n",
        "while (i <= n_seq):           # the training sequences start at time-step 1 (series_data[0] element) in this case\n",
        "    try:\n",
        "        for j in range(len_seq - 1):\n",
        "            seq_series_data[k,j,:,:] = series_data[i+j,:,:]\n",
        "    except IndexError:\n",
        "        break\n",
        "    #print(seq_series_data[k,:,:,:])\n",
        "    #print(j)\n",
        "    seq_series_data_pred = np.append(seq_series_data_pred, series_data[i+j+1:i+j+2,:,:], axis = 0)\n",
        "    i += len_seq - n_overlap\n",
        "    #j += 1\n",
        "    k += 1\n",
        "    #print(k,i)\n",
        "seq_series_data_pred = np.delete(seq_series_data_pred, seq_series_data_pred[0,:,:], axis=0) # true output\n",
        "#print(seq_series_data_pred)\n",
        "#print(type(seq_series_data))\n",
        "\n",
        "xtrain = np.reshape(seq_series_data[:, :-1, :, :], [49, 3, 4])\n",
        "ytrain = np.reshape(seq_series_data_pred, [49, 4])\n",
        "print(ytrain[0,:])\n",
        "print(seq_series_data_pred[0,:,:])"
      ],
      "execution_count": 0,
      "outputs": [
        {
          "output_type": "stream",
          "text": [
            "[ 0.519 -5.523 -0.84   3.87 ]\n",
            "[[ 0.519 -5.523]\n",
            " [-0.84   3.87 ]]\n"
          ],
          "name": "stdout"
        },
        {
          "output_type": "stream",
          "text": [
            "/usr/local/lib/python3.6/dist-packages/ipykernel_launcher.py:22: DeprecationWarning: using a non-integer array as obj in delete will result in an error in the future\n"
          ],
          "name": "stderr"
        }
      ]
    },
    {
      "cell_type": "code",
      "metadata": {
        "id": "LcF6XmVOo4ao",
        "colab_type": "code",
        "outputId": "168134bb-11bb-4e69-9ae1-6c36f41234e6",
        "colab": {
          "base_uri": "https://localhost:8080/",
          "height": 104
        }
      },
      "source": [
        "# test to check data-type and shape of seq_series_data, seq_series_data_pred, and a slice seq_series_data\n",
        "\n",
        "print('shape of X (excluding the true output): ',seq_series_data[0,:-1,:,:].shape) \n",
        "print('no. of batches of X: ', seq_series_data.shape[0]) # 1 - prints the number of time-steps, each of these associated with a sequence of 2x2 matrices\n",
        "#print(seq_series_data[0].shape)\n",
        "print('shape of Y_pred and Y_true: ', seq_series_data_pred[:1,:,:].shape)\n",
        "print('no. of predictions (equal to the no. of batches of X): ', seq_series_data_pred.shape[0]) \n",
        "            # 2 - prints the number of time-steps, each of these assocaited with one 2x2 matrix (model truth), must match 1 above\n",
        "print('shape of X (excluding the true output): ', seq_series_data[0,:-1,:,:].shape) # prints the sequence-size used per prediction"
      ],
      "execution_count": 0,
      "outputs": [
        {
          "output_type": "stream",
          "text": [
            "shape of X (excluding the true output):  (3, 2, 2)\n",
            "no. of batches of X:  49\n",
            "shape of Y_pred and Y_true:  (1, 2, 2)\n",
            "no. of predictions (equal to the no. of batches of X):  49\n",
            "shape of X (excluding the true output):  (3, 2, 2)\n"
          ],
          "name": "stdout"
        }
      ]
    },
    {
      "cell_type": "markdown",
      "metadata": {
        "id": "G-1rfAmFoh5V",
        "colab_type": "text"
      },
      "source": [
        "**Declaring parameters and variables to be used in the model**"
      ]
    },
    {
      "cell_type": "markdown",
      "metadata": {
        "id": "A8sLsw1_jcKf",
        "colab_type": "text"
      },
      "source": [
        "Define architectural (hyper-)parameters..."
      ]
    },
    {
      "cell_type": "code",
      "metadata": {
        "id": "yritMjt8pX2n",
        "colab_type": "code",
        "colab": {}
      },
      "source": [
        "# define layers with #(nodes/layer), n_units_i, connected by weight matrices, w_i, and bias matrices, b_i\n",
        "\n",
        "n_inp_n = series_data[:tsteps_train,:,:].shape[0]   # no. of 2x2 matrices fed as input (\"units\" per INPUT layer)\n",
        "n_units_1 = 29    # no. of units in the first hidden layer\n"
      ],
      "execution_count": 0,
      "outputs": []
    },
    {
      "cell_type": "code",
      "metadata": {
        "id": "6uEi2QOu-xVm",
        "colab_type": "code",
        "colab": {}
      },
      "source": [
        "def reset_graph(seed=42):\n",
        "    tf.reset_default_graph()\n",
        "    tf.set_random_seed(seed)\n",
        "    np.random.seed(seed)\n"
      ],
      "execution_count": 0,
      "outputs": []
    },
    {
      "cell_type": "markdown",
      "metadata": {
        "id": "it09yTY1oP4l",
        "colab_type": "text"
      },
      "source": [
        "Construct input placeholders for the model..."
      ]
    },
    {
      "cell_type": "code",
      "metadata": {
        "id": "rmCu5XbAoPN1",
        "colab_type": "code",
        "outputId": "00c1e0a4-519e-4db1-aeca-5bec8bd72844",
        "colab": {
          "base_uri": "https://localhost:8080/",
          "height": 228
        }
      },
      "source": [
        "reset_graph()\n",
        "    \n",
        "X = tf.placeholder(tf.float64, shape=(None, n_overlap, mat_row * mat_col), name='input')   # raw input (?x2x2)\n",
        "Y_pred = tf.placeholder(tf.float64, shape=(None, mat_row*mat_col), name='model_output')\n",
        "            # model output: predicting a 2x2 matrix \"?\" time-step(s) at a time\n",
        "Y_true = tf.placeholder(tf.float64, shape=(None, mat_row*mat_col), name='true_output')      # true output: same shape as the model output\n",
        "print(X.shape)\n",
        "\n",
        "with tf.name_scope(\"ann_1\"):    # test ANN model, \"ann_1\"\n",
        "    h_1 = tf.layers.dense(X, n_units_1, activation=None, use_bias=False, name=\"hidden_layer_1\")   # first hidden layer (linear activation)\n",
        "    #h_2 = tf.layers.dense(h_1, n_units_1, activation=tf.nn.relu, use_bias=False, name=\"hidden_layer_2\")   # first hidden layer (linear activation)\n",
        "    #h_3 = tf.layers.dense(h_2, n_units_1, activation=tf.nn.relu, use_bias=False, name=\"hidden_layer_3\")   # first hidden layer (linear activation)\n",
        "    print(h_1.shape)\n",
        "    f_1 = tf.get_variable(\"inp_to_outp_1\", [3, 1], trainable=True, dtype=tf.float64)    # \"filter\" with zero strides, for \"one-shot convolution\"\n",
        "    print(f_1.shape)\n",
        "    hf_1 = tf.squeeze(tf.tensordot(h_1, f_1, axes = [1, 0], name=\"hidden_funnel_layer_1\"), 2) # funneling layer, to reduce input dimensions to output dimensions \n",
        "    print(hf_1.shape)\n",
        "    Y_pred = tf.layers.dense(hf_1, 4, activation=None, name=\"output_layer\")          # output layer\n",
        "    print(Y_pred.shape)"
      ],
      "execution_count": 0,
      "outputs": [
        {
          "output_type": "stream",
          "text": [
            "(?, 3, 4)\n",
            "WARNING:tensorflow:From <ipython-input-10-eb6485cbff79>:10: dense (from tensorflow.python.layers.core) is deprecated and will be removed in a future version.\n",
            "Instructions for updating:\n",
            "Use keras.layers.Dense instead.\n",
            "WARNING:tensorflow:From /usr/local/lib/python3.6/dist-packages/tensorflow_core/python/layers/core.py:187: Layer.apply (from tensorflow.python.keras.engine.base_layer) is deprecated and will be removed in a future version.\n",
            "Instructions for updating:\n",
            "Please use `layer.__call__` method instead.\n",
            "(?, 3, 29)\n",
            "(3, 1)\n",
            "(?, 29)\n",
            "(?, 4)\n"
          ],
          "name": "stdout"
        }
      ]
    },
    {
      "cell_type": "markdown",
      "metadata": {
        "id": "XkAJe24dJM9v",
        "colab_type": "text"
      },
      "source": [
        "**Building a model**"
      ]
    },
    {
      "cell_type": "code",
      "metadata": {
        "id": "GS2SKRLHelL_",
        "colab_type": "code",
        "outputId": "208eae3d-f701-45cb-e18b-c90aff5ffc49",
        "colab": {
          "base_uri": "https://localhost:8080/",
          "height": 35
        }
      },
      "source": [
        "defgrf = tf.get_default_graph()\n",
        "defgrf.get_tensor_by_name('inp_to_outp_1:0')"
      ],
      "execution_count": 0,
      "outputs": [
        {
          "output_type": "execute_result",
          "data": {
            "text/plain": [
              "<tf.Tensor 'inp_to_outp_1:0' shape=(3, 1) dtype=float64_ref>"
            ]
          },
          "metadata": {
            "tags": []
          },
          "execution_count": 11
        }
      ]
    },
    {
      "cell_type": "markdown",
      "metadata": {
        "id": "9O5JuU9wQbFm",
        "colab_type": "text"
      },
      "source": [
        "Define the loss function..."
      ]
    },
    {
      "cell_type": "code",
      "metadata": {
        "id": "_dTnlBToaItF",
        "colab_type": "code",
        "outputId": "de292100-78f4-49c0-f53a-a15115a113ac",
        "colab": {
          "base_uri": "https://localhost:8080/",
          "height": 89
        }
      },
      "source": [
        "with tf.name_scope(\"loss_ann_1\"):   # loss function for the model \"ann_1\"\n",
        "    loss = tf.losses.mean_squared_error(Y_pred, Y_true)   # element-wise MSE\n",
        "    #loss = tf.math.reduce_mean(accuracy)    # the mean of the elements of the MSE tensor, computed above as \"accuracy\"\n",
        "    \n",
        "learn_rate = 0.1    # hyper-parameter for updating a variable v: v_new = v_old + delta_v = v_old - learn_rate*grad_v(loss)\n",
        "\n",
        "with tf.name_scope(\"opt_ann_1\"):    # optimizer for \"ann_1\"\n",
        "    opt = tf.train.GradientDescentOptimizer(learn_rate)   # use the gradient descent optimization algorithm\n",
        "    loss_min = opt.minimize(loss)   # operation to minimize \"loss\"\n",
        "    \n"
      ],
      "execution_count": 0,
      "outputs": [
        {
          "output_type": "stream",
          "text": [
            "WARNING:tensorflow:From /usr/local/lib/python3.6/dist-packages/tensorflow_core/python/ops/losses/losses_impl.py:121: where (from tensorflow.python.ops.array_ops) is deprecated and will be removed in a future version.\n",
            "Instructions for updating:\n",
            "Use tf.where in 2.0, which has the same broadcast rule as np.where\n"
          ],
          "name": "stdout"
        }
      ]
    },
    {
      "cell_type": "markdown",
      "metadata": {
        "id": "pG0nhyHtcD0B",
        "colab_type": "text"
      },
      "source": [
        "Set up initializer and session-saver objects (required for assigning initial values to the ```tf.Graph``` variables and saving the values of variables optimized in the session)..."
      ]
    },
    {
      "cell_type": "code",
      "metadata": {
        "id": "4fAiY8oRcET1",
        "colab_type": "code",
        "outputId": "32569809-8371-416b-ce8c-890231b370f4",
        "colab": {
          "base_uri": "https://localhost:8080/",
          "height": 104
        }
      },
      "source": [
        "n_epoch = 5000   # number of optimization steps on the WHOLE training dataset\n",
        "\n",
        "init = tf.global_variables_initializer()    # initialize the model variables\n",
        "saver = tf.train.Saver()    # saves the updated parameters from a session run\n",
        "\n",
        "with tf.Session() as sess:\n",
        "    init.run()\n",
        "    for train_epoch in range(n_epoch):\n",
        "        defgrf = tf.get_default_graph()\n",
        "        _, lossval, threeten = sess.run([loss_min, loss, defgrf.get_tensor_by_name('inp_to_outp_1:0')], feed_dict={X: xtrain, Y_true: ytrain})\n",
        "        if (train_epoch % 1000 == 0):\n",
        "            print(train_epoch, \"Loss (training):\", lossval, Y_pred.eval(feed_dict={X: xtrain}).shape)\n",
        "        \n",
        "    saver.save(sess, \"./trained_model\")"
      ],
      "execution_count": 0,
      "outputs": [
        {
          "output_type": "stream",
          "text": [
            "0 Loss (training): 1.8862945 (49, 4)\n",
            "1000 Loss (training): 0.00024184286 (49, 4)\n",
            "2000 Loss (training): 3.6362042e-05 (49, 4)\n",
            "3000 Loss (training): 5.6323343e-06 (49, 4)\n",
            "4000 Loss (training): 2.0003706e-06 (49, 4)\n"
          ],
          "name": "stdout"
        }
      ]
    },
    {
      "cell_type": "code",
      "metadata": {
        "id": "yNDj8-SUjRMy",
        "colab_type": "code",
        "outputId": "0432f1a4-5e26-4aba-b28b-12a86f4c525b",
        "colab": {
          "base_uri": "https://localhost:8080/",
          "height": 69
        }
      },
      "source": [
        "threeten"
      ],
      "execution_count": 0,
      "outputs": [
        {
          "output_type": "execute_result",
          "data": {
            "text/plain": [
              "array([[-0.13148336],\n",
              "       [ 0.40517852],\n",
              "       [ 0.87507961]])"
            ]
          },
          "metadata": {
            "tags": []
          },
          "execution_count": 14
        }
      ]
    },
    {
      "cell_type": "code",
      "metadata": {
        "id": "CSwXW-34LA8u",
        "colab_type": "code",
        "colab": {}
      },
      "source": [
        ""
      ],
      "execution_count": 0,
      "outputs": []
    }
  ]
}
