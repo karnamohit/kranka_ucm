{
  "nbformat": 4,
  "nbformat_minor": 0,
  "metadata": {
    "colab": {
      "name": "tf1_test_1.ipynb",
      "provenance": [],
      "include_colab_link": true
    },
    "kernelspec": {
      "name": "python3",
      "display_name": "Python 3"
    },
    "accelerator": "GPU"
  },
  "cells": [
    {
      "cell_type": "markdown",
      "metadata": {
        "id": "view-in-github",
        "colab_type": "text"
      },
      "source": [
        "<a href=\"https://colab.research.google.com/github/karnamohit/kranka_ucm/blob/master/tf1_test_1.ipynb\" target=\"_parent\"><img src=\"https://colab.research.google.com/assets/colab-badge.svg\" alt=\"Open In Colab\"/></a>"
      ]
    },
    {
      "cell_type": "markdown",
      "metadata": {
        "id": "rtgEx4iIVXly",
        "colab_type": "text"
      },
      "source": [
        "Importing all the useful libraries..."
      ]
    },
    {
      "cell_type": "code",
      "metadata": {
        "id": "G_vn7WnlmKCd",
        "colab_type": "code",
        "colab": {}
      },
      "source": [
        "import tensorflow as tf\n",
        "import numpy as np\n",
        "import matplotlib.pyplot as plt"
      ],
      "execution_count": 0,
      "outputs": []
    },
    {
      "cell_type": "markdown",
      "metadata": {
        "id": "P8knKLFRVFvY",
        "colab_type": "text"
      },
      "source": [
        "Checking the version of TensorFlow, NumPy..."
      ]
    },
    {
      "cell_type": "code",
      "metadata": {
        "id": "HY5Y0g3iqqkc",
        "colab_type": "code",
        "outputId": "d476de33-a5d5-4cad-ac2b-838c0735f2b3",
        "colab": {
          "base_uri": "https://localhost:8080/",
          "height": 436
        }
      },
      "source": [
        "#print('TensorFlow version info:\\t',tf.__version__)\n",
        "!pip show tensorflow\n",
        "print(' ')\n",
        "print('------------------------------------------------------------')\n",
        "print(' ')\n",
        "!pip show numpy\n",
        "#print('NumPy version info:\\t \\t',np.__version__)"
      ],
      "execution_count": 2,
      "outputs": [
        {
          "output_type": "stream",
          "text": [
            "Name: tensorflow\n",
            "Version: 1.14.0\n",
            "Summary: TensorFlow is an open source machine learning framework for everyone.\n",
            "Home-page: https://www.tensorflow.org/\n",
            "Author: Google Inc.\n",
            "Author-email: packages@tensorflow.org\n",
            "License: Apache 2.0\n",
            "Location: /usr/local/lib/python3.6/dist-packages\n",
            "Requires: grpcio, termcolor, google-pasta, numpy, tensorflow-estimator, keras-applications, six, astor, wheel, tensorboard, gast, keras-preprocessing, wrapt, absl-py, protobuf\n",
            "Required-by: stable-baselines, magenta, fancyimpute\n",
            " \n",
            "------------------------------------------------------------\n",
            " \n",
            "Name: numpy\n",
            "Version: 1.16.5\n",
            "Summary: NumPy is the fundamental package for array computing with Python.\n",
            "Home-page: https://www.numpy.org\n",
            "Author: Travis E. Oliphant et al.\n",
            "Author-email: None\n",
            "License: BSD\n",
            "Location: /usr/local/lib/python3.6/dist-packages\n",
            "Requires: \n",
            "Required-by: yellowbrick, xgboost, xarray, wordcloud, umap-learn, torchvision, torchtext, torch, thinc, Theano, tflearn, tfds-nightly, tensorflow, tensorflow-probability, tensorflow-hub, tensorboard, tensor2tensor, tables, statsmodels, stable-baselines, spacy, sklearn-pandas, seaborn, scs, scipy, scikit-learn, resampy, PyWavelets, pystan, pysndfile, pymc3, pyemd, pyarrow, pretty-midi, plotnine, patsy, pandas, osqp, opt-einsum, opencv-python, opencv-contrib-python, numexpr, numba, np-utils, nibabel, moviepy, mlxtend, mizani, missingno, mir-eval, matplotlib, matplotlib-venn, magenta, lucid, lightgbm, librosa, knnimpute, Keras, Keras-Preprocessing, Keras-Applications, kapre, jpeg4py, jaxlib, jax, imgaug, imbalanced-learn, imageio, hyperopt, h5py, gym, graph-nets, gensim, folium, fix-yahoo-finance, featuretools, fbprophet, fastdtw, fastai, fancyimpute, fa2, ecos, daft, cvxpy, cupy-cuda100, chainer, Bottleneck, bokeh, blis, autograd, atari-py, astropy, altair, albumentations\n"
          ],
          "name": "stdout"
        }
      ]
    },
    {
      "cell_type": "markdown",
      "metadata": {
        "id": "9sX69fS2xhhK",
        "colab_type": "text"
      },
      "source": [
        "**Making, processing raw data**"
      ]
    },
    {
      "cell_type": "markdown",
      "metadata": {
        "id": "yirYUEPUb1Sd",
        "colab_type": "text"
      },
      "source": [
        "Make up data (2x2, sequentially indexed matrices)..."
      ]
    },
    {
      "cell_type": "code",
      "metadata": {
        "id": "YcAFC9e9WE93",
        "colab_type": "code",
        "colab": {}
      },
      "source": [
        "series_data = np.zeros((100,2,2), np.float64)        # \"time\"-series data for a 2x2 evolving matrix with 100 time-steps, randomly initialized\n",
        "for i in range(series_data.shape[0]):\n",
        "    series_data[i,:,:] = (i**0.5)*3 + 5\n",
        "#print(series_data)\n",
        "tsteps = int(series_data.shape[0])         # total number of time-steps in the series\n",
        "tsteps_train = int(tsteps/2)               # number of time-steps used for training\n",
        "mat_row = int(series_data.shape[1])\n",
        "mat_col = int(series_data.shape[2])"
      ],
      "execution_count": 0,
      "outputs": []
    },
    {
      "cell_type": "code",
      "metadata": {
        "id": "wqvXnsb-5tjw",
        "colab_type": "code",
        "colab": {}
      },
      "source": [
        "#print(series_data[tsteps_train-2,:,:])\n",
        "#print(series_data[tsteps_train-1,:,:])\n",
        "#print(series_data[tsteps_train,:,:])"
      ],
      "execution_count": 0,
      "outputs": []
    },
    {
      "cell_type": "markdown",
      "metadata": {
        "id": "Dn0h4QC2E43v",
        "colab_type": "text"
      },
      "source": [
        "Define a sequence (multiple consecutive 2x2 matrices) size, ```len_seq```, to be fed in as input (equivalent to the amount of memory in previous time-steps, in our case), and the amount of overlap, ```n_overlap``` between any two adjacent input sequences..."
      ]
    },
    {
      "cell_type": "code",
      "metadata": {
        "id": "27iXOLgAPEzr",
        "colab_type": "code",
        "colab": {}
      },
      "source": [
        "len_seq = 4\n",
        "n_overlap = 3\n",
        "\n",
        "if (n_overlap >= len_seq):\n",
        "    raise Exception(\"n_overlap must be less than len_seq\")"
      ],
      "execution_count": 0,
      "outputs": []
    },
    {
      "cell_type": "markdown",
      "metadata": {
        "id": "BJcC3-emQOo6",
        "colab_type": "text"
      },
      "source": [
        "Build tensor of sequences, call it ```seq_series_data```..."
      ]
    },
    {
      "cell_type": "code",
      "metadata": {
        "id": "H9ewF3MOQdiJ",
        "colab_type": "code",
        "outputId": "f3fb37e5-0309-4569-debc-71e09189ec43",
        "colab": {
          "base_uri": "https://localhost:8080/",
          "height": 35
        }
      },
      "source": [
        "n_seq = int((tsteps_train - (len_seq - n_overlap)) / (len_seq - n_overlap)) # number of sequences of size len_seq\n",
        "#print(n_seq)\n",
        "seq_series_data = np.zeros((n_seq,len_seq,mat_row,mat_col), np.float64)\n",
        "seq_series_data_pred = np.zeros((1,mat_row,mat_col), np.float64)\n",
        "#print(seq_series_data_pred)\n",
        "i = 0\n",
        "#j = 0\n",
        "k = 0\n",
        "while (i <= n_seq):           # the training sequences start at time-step 1 (series_data[0] element) in this case\n",
        "    try:\n",
        "        for j in range(len_seq - 1):\n",
        "            seq_series_data[k,j,:,:] = series_data[i+j,:,:]\n",
        "    except IndexError:\n",
        "        break\n",
        "    #print(seq_series_data[k,:,:,:])\n",
        "    #print(j)\n",
        "    seq_series_data_pred = np.append(seq_series_data_pred, series_data[i+j+1:i+j+2,:,:], axis = 0)\n",
        "    i += len_seq - n_overlap\n",
        "    #j += 1\n",
        "    k += 1\n",
        "    #print(k,i)\n",
        "seq_series_data_pred = np.delete(seq_series_data_pred, seq_series_data_pred[0,:,:], axis=0) # true output\n",
        "#print(seq_series_data_pred)\n",
        "#print(type(seq_series_data))"
      ],
      "execution_count": 0,
      "outputs": [
        {
          "output_type": "stream",
          "text": [
            "/usr/local/lib/python3.6/dist-packages/ipykernel_launcher.py:22: DeprecationWarning: using a non-integer array as obj in delete will result in an error in the future\n"
          ],
          "name": "stderr"
        }
      ]
    },
    {
      "cell_type": "markdown",
      "metadata": {
        "id": "sWWFzyj4nNPJ",
        "colab_type": "text"
      },
      "source": [
        "### IGNORE THE FOLLOWING ```tf.Data``` CODE-BLOCKS FOR NOW"
      ]
    },
    {
      "cell_type": "markdown",
      "metadata": {
        "id": "UlsiZ4DGn7hO",
        "colab_type": "text"
      },
      "source": [
        "---"
      ]
    },
    {
      "cell_type": "markdown",
      "metadata": {
        "id": "82UBnw4exnmB",
        "colab_type": "text"
      },
      "source": [
        "**Using ```tf.Data``` to manipulate shape of data fed to the model** "
      ]
    },
    {
      "cell_type": "markdown",
      "metadata": {
        "id": "CA_rkn0pfEFN",
        "colab_type": "text"
      },
      "source": [
        "Make a ```tf.placeholder``` object to represent input data, ```seq_series_data```..."
      ]
    },
    {
      "cell_type": "code",
      "metadata": {
        "id": "YzKivqNpff7J",
        "colab_type": "code",
        "colab": {}
      },
      "source": [
        "inp_ph = tf.placeholder(seq_series_data.dtype, seq_series_data.shape)"
      ],
      "execution_count": 0,
      "outputs": []
    },
    {
      "cell_type": "markdown",
      "metadata": {
        "id": "ZkoZpd_sT682",
        "colab_type": "text"
      },
      "source": [
        "Use ```tf.data``` for storing input data represented by the ```tf.placeholder``` object ```inp_ph```..."
      ]
    },
    {
      "cell_type": "code",
      "metadata": {
        "id": "zgvmPDo4T6TI",
        "colab_type": "code",
        "colab": {}
      },
      "source": [
        "inp_slices = tf.data.Dataset.from_tensor_slices(inp_ph)\n",
        "#next_slice_item = inp_slices.make_initializable_iterator()"
      ],
      "execution_count": 0,
      "outputs": []
    },
    {
      "cell_type": "markdown",
      "metadata": {
        "id": "yW8bBwQJ9rdi",
        "colab_type": "text"
      },
      "source": [
        "Run a ```tf.Session()``` (within the context manager) to verify sequential printing of the evolving 2x2 matrix sequences..."
      ]
    },
    {
      "cell_type": "code",
      "metadata": {
        "id": "QwsTZ1jY9Z4O",
        "colab_type": "code",
        "colab": {}
      },
      "source": [
        "with tf.Session() as sess:\n",
        "    while True:\n",
        "        try:\n",
        "            for i in inp_slices:\n",
        "                print(sess.run(i, feed_dict={inp_ph: seq_series_data}))\n",
        "                #print(sess.run(next_slice_item.make_one_shot_iterator().get_next()))\n",
        "        except tf.errors.OutOfRangeError:\n",
        "            break"
      ],
      "execution_count": 0,
      "outputs": []
    },
    {
      "cell_type": "markdown",
      "metadata": {
        "id": "DndC7esJ9_45",
        "colab_type": "text"
      },
      "source": [
        "Define batches of the ```input_slices``` (saves memory when building the computational graph)"
      ]
    },
    {
      "cell_type": "code",
      "metadata": {
        "id": "RctcsU8PDTPD",
        "colab_type": "code",
        "colab": {}
      },
      "source": [
        "input_batches = input_slices.batches(N,drop_remainder=True)"
      ],
      "execution_count": 0,
      "outputs": []
    },
    {
      "cell_type": "markdown",
      "metadata": {
        "id": "2VIxaoxqdMoO",
        "colab_type": "text"
      },
      "source": [
        "Set up placeholders for input, true output, predicted output..."
      ]
    },
    {
      "cell_type": "code",
      "metadata": {
        "id": "fZ2BGuvbc47X",
        "colab_type": "code",
        "colab": {}
      },
      "source": [
        "x = tf.placeholder(tf.float)"
      ],
      "execution_count": 0,
      "outputs": []
    },
    {
      "cell_type": "markdown",
      "metadata": {
        "id": "idoEYCUVnrhF",
        "colab_type": "text"
      },
      "source": [
        "### CODE CONTINUES BELOW HERE"
      ]
    },
    {
      "cell_type": "markdown",
      "metadata": {
        "id": "czDPsNytoOBB",
        "colab_type": "text"
      },
      "source": [
        "---"
      ]
    },
    {
      "cell_type": "code",
      "metadata": {
        "id": "LcF6XmVOo4ao",
        "colab_type": "code",
        "outputId": "32cb9201-daba-4d01-bf6d-f14d6260044b",
        "colab": {
          "base_uri": "https://localhost:8080/",
          "height": 104
        }
      },
      "source": [
        "# test to check data-type and shape of seq_series_data, seq_series_data_pred, and a slice seq_series_data\n",
        "\n",
        "print('shape of X (including the true output): ',seq_series_data[0,:-1,:,:].shape) \n",
        "print('no. of batches of X: ', seq_series_data.shape[0]) # 1 - prints the number of time-steps, each of these associated with a sequence of 2x2 matrices\n",
        "#print(seq_series_data[0].shape)\n",
        "print('shape of Y_pred and Y_true: ', seq_series_data_pred[0,:,:].shape)\n",
        "print('no. of predictions (equal to the no. of batches of X): ', seq_series_data_pred.shape[0]) \n",
        "            # 2 - prints the number of time-steps, each of these assocaited with one 2x2 matrix (model truth), must match 1 above\n",
        "print('shape of X (excluding the true output): ', seq_series_data[0,:-1,:,:].shape) # prints the sequence-size used per prediction"
      ],
      "execution_count": 0,
      "outputs": [
        {
          "output_type": "stream",
          "text": [
            "shape of X (including the true output):  (3, 2, 2)\n",
            "no. of batches of X:  49\n",
            "shape of Y_pred and Y_true:  (2, 2)\n",
            "no. of predictions (equal to the no. of batches of X):  49\n",
            "shape of X (excluding the true output):  (3, 2, 2)\n"
          ],
          "name": "stdout"
        }
      ]
    },
    {
      "cell_type": "markdown",
      "metadata": {
        "id": "G-1rfAmFoh5V",
        "colab_type": "text"
      },
      "source": [
        "**Declaring parameters and variables to be used in the model**"
      ]
    },
    {
      "cell_type": "markdown",
      "metadata": {
        "id": "it09yTY1oP4l",
        "colab_type": "text"
      },
      "source": [
        "Construct input placeholders for the model..."
      ]
    },
    {
      "cell_type": "code",
      "metadata": {
        "id": "rmCu5XbAoPN1",
        "colab_type": "code",
        "colab": {}
      },
      "source": [
        "X = tf.placeholder(tf.float64, shape=(None, seq_series_data[0,:-1,:,:].shape[0], seq_series_data[0,:-1,:,:].shape[1]), name='input')\n",
        "            # raw input (3x2x2)\n",
        "#x1 = tf.math.exp(X)    # model input (modified raw input) (3x2x2)\n",
        "Y_pred = tf.placeholder(tf.float64, shape=(None, seq_series_data_pred[0,:,:].shape),name='model_output')\n",
        "            # model output: predicting a 2x2 matrix 1 time-step at a time\n",
        "Y_true = tf.placeholder(tf.float64, shape=(None, seq_series_data_pred[0,:,:].shape),name='true_output')   # true output: same shape as the model output"
      ],
      "execution_count": 0,
      "outputs": []
    },
    {
      "cell_type": "markdown",
      "metadata": {
        "id": "XkAJe24dJM9v",
        "colab_type": "text"
      },
      "source": [
        "**Building a model**"
      ]
    },
    {
      "cell_type": "markdown",
      "metadata": {
        "id": "KBOJKKq3jlE3",
        "colab_type": "text"
      },
      "source": [
        "Define activation functions, operations, etc. ..."
      ]
    },
    {
      "cell_type": "code",
      "metadata": {
        "id": "8c7Z_jERjo_q",
        "colab_type": "code",
        "colab": {}
      },
      "source": [
        "# using \"activation=None\" (linear operation) in tf.layers.dense for hidden layer h_1\n",
        "\n",
        "def \n",
        "\n",
        "\n",
        "'''# using a convolution operation (with a custom filter), conv_3D, for hidden layer h_2\n",
        "\n",
        "# define a custom filter, filter_1, to be used with the one-shot (stride-less) convolution operation, conv_3D_oneshot\n",
        "#     ignoring padding for now\n",
        "def filter_1(d, h, w):\n",
        "    # the latest sequence gets the highest contribution\n",
        "    filter = np.zeros((d, h, w), np.float64)\n",
        "    for i in range(d):\n",
        "        for j in range(h):\n",
        "            for k in range(w):\n",
        "                filter[i,j,k] = np.sqrt(np.exp(d))\n",
        "    return tf.convert_to_tensor(filter, dtype=tf.int32)\n",
        "\n",
        "# define a (stride-less) function for the convolution operation\n",
        "def conv_3D_oneshot(z, name=\"custom_conv_3D_1\"):\n",
        "    shape = z.get_shape().as_list()\n",
        "    depth = shape[0].value\n",
        "    height = shape[1].value\n",
        "    width = shape[2].value\n",
        "    filter = filter_1(depth, height, width)\n",
        "    return tf.math.reduce_sum(tf.math.multiply(z, filter), 0)'''"
      ],
      "execution_count": 0,
      "outputs": []
    },
    {
      "cell_type": "markdown",
      "metadata": {
        "id": "A8sLsw1_jcKf",
        "colab_type": "text"
      },
      "source": [
        "Define architectural (hyper-)parameters..."
      ]
    },
    {
      "cell_type": "code",
      "metadata": {
        "id": "yritMjt8pX2n",
        "colab_type": "code",
        "colab": {}
      },
      "source": [
        "# define layers with #(nodes/layer), n_units_i, connected by weight matrices, w_i, and bias matrices, b_i\n",
        "\n",
        "n_inp_n = seq_series_data[0,:-1,:,:].shape[0]\n",
        "            # no. of 2x2 matrices fed as input (\"units\" per INPUT layer). N.B.: \"_n\" denotes it is a tensor input.\n",
        "n_units_1 = 4   # no. of units in the first hidden layer\n",
        "n_units_1_conv = n_units_1\n",
        "            # no. of (convolution) units in the output layer; must equal the number of units in the immediately preceding hidden layer\n",
        "n_outp_n  = seq_series_data_pred[:1,:,:].shape[0]\n",
        "            # number of (2x2) tensors the model must output (the same size as the sequence-size of the model output, 1 in the current case)"
      ],
      "execution_count": 0,
      "outputs": []
    },
    {
      "cell_type": "markdown",
      "metadata": {
        "id": "VixpV7-4NS-j",
        "colab_type": "text"
      },
      "source": [
        "Build the layers..."
      ]
    },
    {
      "cell_type": "code",
      "metadata": {
        "id": "0WnwI7ofJtZR",
        "colab_type": "code",
        "outputId": "1018743f-734c-4c94-9807-fc51f4847ee3",
        "colab": {
          "base_uri": "https://localhost:8080/",
          "height": 141
        }
      },
      "source": [
        "with tf.name_scope(\"ann_1\"):    # test ANN model, \"ann_1\"\n",
        "    h_1 = tf.layers.dense(X, n_units_1, activation=None, use_bias=False, name=\"hidden_layer_1\")    # first hidden layer (linear activation)\n",
        "    f_1 = tf.get_variable(\"inp_to_outp_1\", [1, 3], trainable=True, dtype=tf.float64)    # \"filter\" with zero strides, for \"one-shot convolution\"\n",
        "    hf_1 = tf.Tensordot(f_n, h_1, axes = 1, name=\"hidden_funnel_layer_1\")   # funneling layer, to reduce input dimensions to output dimensions \n",
        "    h_2 = tf.layers.dense(hf_1, n_outp_n, activation=None,use_bias=False, name=\"output_layer\")    # output layer\n",
        "    Y_pred = h_2    # model output"
      ],
      "execution_count": 0,
      "outputs": [
        {
          "output_type": "stream",
          "text": [
            "WARNING:tensorflow:From <ipython-input-22-7ee2aa8b3aff>:2: dense (from tensorflow.python.layers.core) is deprecated and will be removed in a future version.\n",
            "Instructions for updating:\n",
            "Use keras.layers.dense instead.\n",
            "WARNING:tensorflow:From /usr/local/lib/python3.6/dist-packages/tensorflow/python/ops/init_ops.py:1251: calling VarianceScaling.__init__ (from tensorflow.python.ops.init_ops) with dtype is deprecated and will be removed in a future version.\n",
            "Instructions for updating:\n",
            "Call initializer instance with the dtype argument instead of passing it to the constructor\n"
          ],
          "name": "stdout"
        }
      ]
    },
    {
      "cell_type": "markdown",
      "metadata": {
        "id": "9O5JuU9wQbFm",
        "colab_type": "text"
      },
      "source": [
        "Define the loss function..."
      ]
    },
    {
      "cell_type": "code",
      "metadata": {
        "id": "_dTnlBToaItF",
        "colab_type": "code",
        "colab": {}
      },
      "source": [
        "with tf.name_scope(\"loss_ann_1\"):   # loss function for the model \"ann_1\"\n",
        "    loss_n = tf.losses.mean_squared_error(Y_true, Y_pred)   # element-wise MSE\n",
        "    loss = tf.math.reduce_max(loss_n, axis=None)    # the maximum-valued element of the MSE tensor, computed above as \"loss_n\""
      ],
      "execution_count": 0,
      "outputs": []
    },
    {
      "cell_type": "markdown",
      "metadata": {
        "id": "r45-ABOPkqfh",
        "colab_type": "text"
      },
      "source": [
        "State the optimization algorithm to be used..."
      ]
    },
    {
      "cell_type": "code",
      "metadata": {
        "id": "vaIWZbSrvdfo",
        "colab_type": "code",
        "colab": {}
      },
      "source": [
        "learn_rate = 0.1    # update variable, v, as: v_new = v_old + delta_v = v_old - learn_rate*grad_v(loss)\n",
        "\n",
        "with tf.name_scope(\"opt_ann_1\"):    # optimizer for \"ann_1\"\n",
        "    opt = tf.train.GradientDescentOptimizer(learn_rate)   # use the gradient descent optimization algorithm\n",
        "    loss_min = opt.minimize(loss)   # operation to minimize \"loss\""
      ],
      "execution_count": 0,
      "outputs": []
    }
  ]
}