{
  "nbformat": 4,
  "nbformat_minor": 0,
  "metadata": {
    "colab": {
      "name": "tf1_test_1.ipynb",
      "version": "0.3.2",
      "provenance": [],
      "include_colab_link": true
    },
    "kernelspec": {
      "name": "python3",
      "display_name": "Python 3"
    },
    "accelerator": "GPU"
  },
  "cells": [
    {
      "cell_type": "markdown",
      "metadata": {
        "id": "view-in-github",
        "colab_type": "text"
      },
      "source": [
        "<a href=\"https://colab.research.google.com/github/karnamohit/kranka_ucm/blob/master/tf1_test_1.ipynb\" target=\"_parent\"><img src=\"https://colab.research.google.com/assets/colab-badge.svg\" alt=\"Open In Colab\"/></a>"
      ]
    },
    {
      "cell_type": "markdown",
      "metadata": {
        "id": "rtgEx4iIVXly",
        "colab_type": "text"
      },
      "source": [
        "Importing all the useful libraries..."
      ]
    },
    {
      "cell_type": "code",
      "metadata": {
        "id": "G_vn7WnlmKCd",
        "colab_type": "code",
        "colab": {}
      },
      "source": [
        "import tensorflow as tf\n",
        "import numpy as np\n",
        "import matplotlib.pyplot as plt"
      ],
      "execution_count": 0,
      "outputs": []
    },
    {
      "cell_type": "markdown",
      "metadata": {
        "id": "P8knKLFRVFvY",
        "colab_type": "text"
      },
      "source": [
        "Checking the version of TensorFlow..."
      ]
    },
    {
      "cell_type": "code",
      "metadata": {
        "id": "HY5Y0g3iqqkc",
        "colab_type": "code",
        "outputId": "bd747002-95c8-4b4a-92f7-d7612268ee5e",
        "colab": {
          "base_uri": "https://localhost:8080/",
          "height": 211
        }
      },
      "source": [
        "!pip show tensorflow"
      ],
      "execution_count": 0,
      "outputs": [
        {
          "output_type": "stream",
          "text": [
            "Name: tensorflow\n",
            "Version: 1.14.0\n",
            "Summary: TensorFlow is an open source machine learning framework for everyone.\n",
            "Home-page: https://www.tensorflow.org/\n",
            "Author: Google Inc.\n",
            "Author-email: packages@tensorflow.org\n",
            "License: Apache 2.0\n",
            "Location: /usr/local/lib/python3.6/dist-packages\n",
            "Requires: gast, numpy, keras-preprocessing, wrapt, keras-applications, tensorflow-estimator, astor, six, protobuf, termcolor, wheel, tensorboard, absl-py, google-pasta, grpcio\n",
            "Required-by: stable-baselines, magenta, fancyimpute\n"
          ],
          "name": "stdout"
        }
      ]
    },
    {
      "cell_type": "markdown",
      "metadata": {
        "id": "0zRBAbw5Vhjm",
        "colab_type": "text"
      },
      "source": [
        "Need to import data..."
      ]
    },
    {
      "cell_type": "code",
      "metadata": {
        "id": "SErpwn16UkDQ",
        "colab_type": "code",
        "outputId": "799297ab-ad23-4981-af28-ed8474c9ce6e",
        "colab": {
          "base_uri": "https://localhost:8080/",
          "height": 35
        }
      },
      "source": [
        "!pwd"
      ],
      "execution_count": 0,
      "outputs": [
        {
          "output_type": "stream",
          "text": [
            "/content\n"
          ],
          "name": "stdout"
        }
      ]
    },
    {
      "cell_type": "markdown",
      "metadata": {
        "id": "yirYUEPUb1Sd",
        "colab_type": "text"
      },
      "source": [
        "Make up data (2x2, sequentially indexed matrices)..."
      ]
    },
    {
      "cell_type": "code",
      "metadata": {
        "id": "YcAFC9e9WE93",
        "colab_type": "code",
        "colab": {
          "base_uri": "https://localhost:8080/",
          "height": 35
        },
        "outputId": "d296b91d-23ab-4d22-d33b-46c4c15e918c"
      },
      "source": [
        "series_data = np.random.rand(100,2,2)      # \"time\"-series data for a 2x2 evolving matrix with 100 time-steps, randomly initialized\n",
        "series_data.shape"
      ],
      "execution_count": 3,
      "outputs": [
        {
          "output_type": "execute_result",
          "data": {
            "text/plain": [
              "(100, 2, 2)"
            ]
          },
          "metadata": {
            "tags": []
          },
          "execution_count": 3
        }
      ]
    },
    {
      "cell_type": "markdown",
      "metadata": {
        "id": "CA_rkn0pfEFN",
        "colab_type": "text"
      },
      "source": [
        "Use ```tf.data``` for storing input data (```series_data``` in the example above)"
      ]
    },
    {
      "cell_type": "code",
      "metadata": {
        "id": "YzKivqNpff7J",
        "colab_type": "code",
        "colab": {
          "base_uri": "https://localhost:8080/",
          "height": 89
        },
        "outputId": "71e44ab7-88a7-4aba-8abd-c6caf82b11cb"
      },
      "source": [
        "input_slices = tf.data.Dataset.from_tensor_slices(series_data)\n",
        "next_slice_item = input_slices.make_one_shot_iterator().get_next()"
      ],
      "execution_count": 4,
      "outputs": [
        {
          "output_type": "stream",
          "text": [
            "WARNING:tensorflow:From <ipython-input-4-60f9f3591db2>:2: DatasetV1.make_one_shot_iterator (from tensorflow.python.data.ops.dataset_ops) is deprecated and will be removed in a future version.\n",
            "Instructions for updating:\n",
            "Use `for ... in dataset:` to iterate over a dataset. If using `tf.estimator`, return the `Dataset` object directly from your input function. As a last resort, you can use `tf.compat.v1.data.make_one_shot_iterator(dataset)`.\n"
          ],
          "name": "stdout"
        }
      ]
    },
    {
      "cell_type": "markdown",
      "metadata": {
        "id": "yW8bBwQJ9rdi",
        "colab_type": "text"
      },
      "source": [
        "Run a ```tf.Session()``` (within the context manager) to verify sequential printing of the evolving 2x2 matrix..."
      ]
    },
    {
      "cell_type": "code",
      "metadata": {
        "id": "QwsTZ1jY9Z4O",
        "colab_type": "code",
        "colab": {}
      },
      "source": [
        "with tf.Session() as sess:\n",
        "  while True:\n",
        "    try:\n",
        "      print(sess.run(next_slice_item))\n",
        "    except tf.errors.OutOfRangeError:\n",
        "      break"
      ],
      "execution_count": 0,
      "outputs": []
    },
    {
      "cell_type": "markdown",
      "metadata": {
        "id": "DndC7esJ9_45",
        "colab_type": "text"
      },
      "source": [
        "Define batches of the ```input_slices``` (saves memory when building the computational graph)"
      ]
    },
    {
      "cell_type": "markdown",
      "metadata": {
        "id": "2VIxaoxqdMoO",
        "colab_type": "text"
      },
      "source": [
        "Set up placeholders for input, true output, predicted output..."
      ]
    },
    {
      "cell_type": "code",
      "metadata": {
        "id": "fZ2BGuvbc47X",
        "colab_type": "code",
        "colab": {}
      },
      "source": [
        "x = tf.placeholder(tf.float)"
      ],
      "execution_count": 0,
      "outputs": []
    }
  ]
}